{
 "cells": [
  {
   "cell_type": "markdown",
   "metadata": {},
   "source": [
    "# Statistiques et Évolution de la fécondité en France via données publiques"
   ]
  },
  {
   "cell_type": "markdown",
   "metadata": {},
   "source": [
    "Ce notebook vise à documenter l'évolution de la fertilité en France sur la période 2010-2018, en utilisant uniquement des sources de données publiques et librement accessibles.\n",
    "\n",
    "\n",
    "### Biland démographique de l'INSEE\n",
    "\n",
    "https://www.insee.fr/fr/statistiques/4281618?sommaire=1912926\n",
    "\n",
    "\n",
    "### Sources de données utilisées:  \n",
    "  1. Base naissance 2009-2018 ([lien INSEE](https://www.insee.fr/fr/statistiques/1893255)). Elle contient le nombre de naissances par commune et par année (1Mo).  \n",
    "  2. Revenus et pauvreté des ménages ([lien INSEE](https://www.insee.fr/fr/statistiques/3560121)). Elle contient des informations par commune sur différents indicateurs comme le taux de pauvreté.  \n",
    "\n",
    "  3. Bases naisssance pour une année donnée ([lien INSEE pour 20018](https://www.insee.fr/fr/statistiques/4215180?sommaire=4215184&q=naissances)). Elle contient toutes les naissances pour une année donnée, avec comme information le département de naissance, l'année de naissance des parents, le type d'activité professionnelle, etc. 800 000 observations (200Mo).  \n",
    "  6. Recensements 1968-2016 ([lien INSEE](https://www.insee.fr/fr/statistiques/4248862?sommaire=2414232&q=naissances+de+%C3%A0)) 45 millions d'observations (2.65 Gb) \n",
    "  7. Bases de données sur le vote  \n",
    "   \n",
    "et répondre notamment aux questions suivantes:\n",
    "\n",
    "Quelle sont les statistiques de bases concernant la fécondité en France sur la période 2010-2018.\n",
    "\n",
    "\n",
    "\n",
    "\n",
    "### Variations géographiques:\n",
    "- Est-ce que les communes les plus pauvres font plus d'enfants ?   \n",
    "- Est-ce lié à la facilité de faire des enfants ?\n",
    "- Est-ce lié aux charactéristiques des parents ?"
   ]
  },
  {
   "cell_type": "code",
   "execution_count": 67,
   "metadata": {},
   "outputs": [],
   "source": [
    "import pyforest\n",
    "\n",
    "from IPython.core.display import display, HTML\n",
    "\n",
    "def display_side_by_side(dfs:list, captions:list):\n",
    "    \"\"\"Display tables side by side to save vertical space\n",
    "    Input:\n",
    "        dfs: list of pandas.DataFrame\n",
    "        captions: list of table captions\n",
    "    \"\"\"\n",
    "    output = \"\"\n",
    "    combined = dict(zip(captions, dfs))\n",
    "    for caption, df in combined.items():\n",
    "        output += df.style.set_table_attributes(\"style='display:inline'\").set_caption(caption)._repr_html_()\n",
    "        output += \"\\xa0\\xa0\\xa0\"\n",
    "    display(HTML(output))"
   ]
  },
  {
   "cell_type": "code",
   "execution_count": null,
   "metadata": {},
   "outputs": [],
   "source": []
  },
  {
   "cell_type": "markdown",
   "metadata": {},
   "source": [
    "La fertilité en France est passée de 2 enfants par femme à 1.88 enfants par femme entre 2014 et 2018."
   ]
  },
  {
   "cell_type": "markdown",
   "metadata": {},
   "source": [
    "Nous cherchons à savoir si la diminution de la baisse de la fert"
   ]
  },
  {
   "cell_type": "markdown",
   "metadata": {},
   "source": [
    "## Statistiques descriptives:\n",
    "Nous utiliseront dans un premier temps trois bases. \n",
    " 1. La base revenu, qui nous donne le revenu moyen par commune issu de filosofi 2015\n",
    " 2. La base naissance, qui donne le nombre de naissances par commune\n",
    " 3. La base état civil, qui donne une observation par \"accouchement\" enregistré en France, avec des informations concernant les parents (age, etc)  ([documentation pdf](https://www.insee.fr/fr/statistiques/fichier/2406436/Contenu_etatcivil2015_nais2015.pdf))"
   ]
  },
  {
   "cell_type": "code",
   "execution_count": 68,
   "metadata": {},
   "outputs": [],
   "source": [
    "\n",
    "data_path = \"../fetched_data/\""
   ]
  },
  {
   "cell_type": "code",
   "execution_count": 69,
   "metadata": {},
   "outputs": [
    {
     "data": {
      "application/javascript": [
       "\n",
       "        if (window._pyforest_update_imports_cell) { window._pyforest_update_imports_cell('import pandas as pd'); }\n",
       "    "
      ],
      "text/plain": [
       "<IPython.core.display.Javascript object>"
      ]
     },
     "metadata": {},
     "output_type": "display_data"
    },
    {
     "name": "stdout",
     "output_type": "stream",
     "text": [
      "(35848, 29)\n"
     ]
    }
   ],
   "source": [
    "df_revenus = pd.read_excel(data_path+\"base-cc-filosofi-2015.xls\", header = 5,sheet_name=\"COM\"); print(df_revenus.shape) \n"
   ]
  },
  {
   "cell_type": "code",
   "execution_count": 70,
   "metadata": {},
   "outputs": [
    {
     "data": {
      "application/javascript": [
       "\n",
       "        if (window._pyforest_update_imports_cell) { window._pyforest_update_imports_cell('import pandas as pd'); }\n",
       "    "
      ],
      "text/plain": [
       "<IPython.core.display.Javascript object>"
      ]
     },
     "metadata": {},
     "output_type": "display_data"
    },
    {
     "name": "stdout",
     "output_type": "stream",
     "text": [
      "(34953, 14)\n"
     ]
    }
   ],
   "source": [
    "# https://www.insee.fr/fr/statistiques/1893255\n",
    "\n",
    "\n",
    "df_naissances = pd.read_excel(data_path + \"base_naissances_2018.xls\", header = 5);print(df_naissances.shape)"
   ]
  },
  {
   "cell_type": "code",
   "execution_count": 71,
   "metadata": {},
   "outputs": [
    {
     "data": {
      "text/html": [
       "<div>\n",
       "<style scoped>\n",
       "    .dataframe tbody tr th:only-of-type {\n",
       "        vertical-align: middle;\n",
       "    }\n",
       "\n",
       "    .dataframe tbody tr th {\n",
       "        vertical-align: top;\n",
       "    }\n",
       "\n",
       "    .dataframe thead th {\n",
       "        text-align: right;\n",
       "    }\n",
       "</style>\n",
       "<table border=\"1\" class=\"dataframe\">\n",
       "  <thead>\n",
       "    <tr style=\"text-align: right;\">\n",
       "      <th></th>\n",
       "      <th>CODGEO</th>\n",
       "      <th>LIBGEO</th>\n",
       "      <th>REG</th>\n",
       "      <th>DEP</th>\n",
       "      <th>NAISD09</th>\n",
       "      <th>NAISD10</th>\n",
       "      <th>NAISD11</th>\n",
       "      <th>NAISD12</th>\n",
       "      <th>NAISD13</th>\n",
       "      <th>NAISD14</th>\n",
       "      <th>NAISD15</th>\n",
       "      <th>NAISD16</th>\n",
       "      <th>NAISD17</th>\n",
       "      <th>NAISD18</th>\n",
       "    </tr>\n",
       "  </thead>\n",
       "  <tbody>\n",
       "    <tr>\n",
       "      <th>0</th>\n",
       "      <td>01001</td>\n",
       "      <td>L'Abergement-Clémenciat</td>\n",
       "      <td>84</td>\n",
       "      <td>01</td>\n",
       "      <td>13.0</td>\n",
       "      <td>7.0</td>\n",
       "      <td>7.0</td>\n",
       "      <td>5.0</td>\n",
       "      <td>8.0</td>\n",
       "      <td>8.0</td>\n",
       "      <td>13.0</td>\n",
       "      <td>7</td>\n",
       "      <td>8</td>\n",
       "      <td>10</td>\n",
       "    </tr>\n",
       "    <tr>\n",
       "      <th>1</th>\n",
       "      <td>01002</td>\n",
       "      <td>L'Abergement-de-Varey</td>\n",
       "      <td>84</td>\n",
       "      <td>01</td>\n",
       "      <td>3.0</td>\n",
       "      <td>0.0</td>\n",
       "      <td>7.0</td>\n",
       "      <td>1.0</td>\n",
       "      <td>5.0</td>\n",
       "      <td>3.0</td>\n",
       "      <td>5.0</td>\n",
       "      <td>6</td>\n",
       "      <td>4</td>\n",
       "      <td>1</td>\n",
       "    </tr>\n",
       "    <tr>\n",
       "      <th>2</th>\n",
       "      <td>01004</td>\n",
       "      <td>Ambérieu-en-Bugey</td>\n",
       "      <td>84</td>\n",
       "      <td>01</td>\n",
       "      <td>186.0</td>\n",
       "      <td>211.0</td>\n",
       "      <td>228.0</td>\n",
       "      <td>218.0</td>\n",
       "      <td>208.0</td>\n",
       "      <td>238.0</td>\n",
       "      <td>222.0</td>\n",
       "      <td>220</td>\n",
       "      <td>204</td>\n",
       "      <td>229</td>\n",
       "    </tr>\n",
       "    <tr>\n",
       "      <th>3</th>\n",
       "      <td>01005</td>\n",
       "      <td>Ambérieux-en-Dombes</td>\n",
       "      <td>84</td>\n",
       "      <td>01</td>\n",
       "      <td>21.0</td>\n",
       "      <td>27.0</td>\n",
       "      <td>22.0</td>\n",
       "      <td>21.0</td>\n",
       "      <td>26.0</td>\n",
       "      <td>17.0</td>\n",
       "      <td>15.0</td>\n",
       "      <td>14</td>\n",
       "      <td>18</td>\n",
       "      <td>21</td>\n",
       "    </tr>\n",
       "    <tr>\n",
       "      <th>4</th>\n",
       "      <td>01006</td>\n",
       "      <td>Ambléon</td>\n",
       "      <td>84</td>\n",
       "      <td>01</td>\n",
       "      <td>1.0</td>\n",
       "      <td>1.0</td>\n",
       "      <td>4.0</td>\n",
       "      <td>1.0</td>\n",
       "      <td>1.0</td>\n",
       "      <td>1.0</td>\n",
       "      <td>2.0</td>\n",
       "      <td>2</td>\n",
       "      <td>1</td>\n",
       "      <td>0</td>\n",
       "    </tr>\n",
       "    <tr>\n",
       "      <th>...</th>\n",
       "      <td>...</td>\n",
       "      <td>...</td>\n",
       "      <td>...</td>\n",
       "      <td>...</td>\n",
       "      <td>...</td>\n",
       "      <td>...</td>\n",
       "      <td>...</td>\n",
       "      <td>...</td>\n",
       "      <td>...</td>\n",
       "      <td>...</td>\n",
       "      <td>...</td>\n",
       "      <td>...</td>\n",
       "      <td>...</td>\n",
       "      <td>...</td>\n",
       "    </tr>\n",
       "    <tr>\n",
       "      <th>34948</th>\n",
       "      <td>97420</td>\n",
       "      <td>Sainte-Suzanne</td>\n",
       "      <td>4</td>\n",
       "      <td>974</td>\n",
       "      <td>440.0</td>\n",
       "      <td>383.0</td>\n",
       "      <td>388.0</td>\n",
       "      <td>378.0</td>\n",
       "      <td>374.0</td>\n",
       "      <td>359.0</td>\n",
       "      <td>358.0</td>\n",
       "      <td>373</td>\n",
       "      <td>380</td>\n",
       "      <td>356</td>\n",
       "    </tr>\n",
       "    <tr>\n",
       "      <th>34949</th>\n",
       "      <td>97421</td>\n",
       "      <td>Salazie</td>\n",
       "      <td>4</td>\n",
       "      <td>974</td>\n",
       "      <td>143.0</td>\n",
       "      <td>104.0</td>\n",
       "      <td>125.0</td>\n",
       "      <td>150.0</td>\n",
       "      <td>139.0</td>\n",
       "      <td>127.0</td>\n",
       "      <td>111.0</td>\n",
       "      <td>130</td>\n",
       "      <td>133</td>\n",
       "      <td>101</td>\n",
       "    </tr>\n",
       "    <tr>\n",
       "      <th>34950</th>\n",
       "      <td>97422</td>\n",
       "      <td>Le Tampon</td>\n",
       "      <td>4</td>\n",
       "      <td>974</td>\n",
       "      <td>1323.0</td>\n",
       "      <td>1335.0</td>\n",
       "      <td>1295.0</td>\n",
       "      <td>1418.0</td>\n",
       "      <td>1292.0</td>\n",
       "      <td>1304.0</td>\n",
       "      <td>1339.0</td>\n",
       "      <td>1234</td>\n",
       "      <td>1180</td>\n",
       "      <td>1213</td>\n",
       "    </tr>\n",
       "    <tr>\n",
       "      <th>34951</th>\n",
       "      <td>97423</td>\n",
       "      <td>Les Trois-Bassins</td>\n",
       "      <td>4</td>\n",
       "      <td>974</td>\n",
       "      <td>124.0</td>\n",
       "      <td>111.0</td>\n",
       "      <td>102.0</td>\n",
       "      <td>96.0</td>\n",
       "      <td>98.0</td>\n",
       "      <td>102.0</td>\n",
       "      <td>104.0</td>\n",
       "      <td>110</td>\n",
       "      <td>100</td>\n",
       "      <td>96</td>\n",
       "    </tr>\n",
       "    <tr>\n",
       "      <th>34952</th>\n",
       "      <td>97424</td>\n",
       "      <td>Cilaos</td>\n",
       "      <td>4</td>\n",
       "      <td>974</td>\n",
       "      <td>102.0</td>\n",
       "      <td>81.0</td>\n",
       "      <td>89.0</td>\n",
       "      <td>76.0</td>\n",
       "      <td>82.0</td>\n",
       "      <td>76.0</td>\n",
       "      <td>87.0</td>\n",
       "      <td>75</td>\n",
       "      <td>77</td>\n",
       "      <td>68</td>\n",
       "    </tr>\n",
       "  </tbody>\n",
       "</table>\n",
       "<p>34953 rows × 14 columns</p>\n",
       "</div>"
      ],
      "text/plain": [
       "      CODGEO                   LIBGEO  REG  DEP  NAISD09  NAISD10  NAISD11  \\\n",
       "0      01001  L'Abergement-Clémenciat   84   01     13.0      7.0      7.0   \n",
       "1      01002    L'Abergement-de-Varey   84   01      3.0      0.0      7.0   \n",
       "2      01004        Ambérieu-en-Bugey   84   01    186.0    211.0    228.0   \n",
       "3      01005      Ambérieux-en-Dombes   84   01     21.0     27.0     22.0   \n",
       "4      01006                  Ambléon   84   01      1.0      1.0      4.0   \n",
       "...      ...                      ...  ...  ...      ...      ...      ...   \n",
       "34948  97420           Sainte-Suzanne    4  974    440.0    383.0    388.0   \n",
       "34949  97421                  Salazie    4  974    143.0    104.0    125.0   \n",
       "34950  97422                Le Tampon    4  974   1323.0   1335.0   1295.0   \n",
       "34951  97423        Les Trois-Bassins    4  974    124.0    111.0    102.0   \n",
       "34952  97424                   Cilaos    4  974    102.0     81.0     89.0   \n",
       "\n",
       "       NAISD12  NAISD13  NAISD14  NAISD15  NAISD16  NAISD17  NAISD18  \n",
       "0          5.0      8.0      8.0     13.0        7        8       10  \n",
       "1          1.0      5.0      3.0      5.0        6        4        1  \n",
       "2        218.0    208.0    238.0    222.0      220      204      229  \n",
       "3         21.0     26.0     17.0     15.0       14       18       21  \n",
       "4          1.0      1.0      1.0      2.0        2        1        0  \n",
       "...        ...      ...      ...      ...      ...      ...      ...  \n",
       "34948    378.0    374.0    359.0    358.0      373      380      356  \n",
       "34949    150.0    139.0    127.0    111.0      130      133      101  \n",
       "34950   1418.0   1292.0   1304.0   1339.0     1234     1180     1213  \n",
       "34951     96.0     98.0    102.0    104.0      110      100       96  \n",
       "34952     76.0     82.0     76.0     87.0       75       77       68  \n",
       "\n",
       "[34953 rows x 14 columns]"
      ]
     },
     "execution_count": 71,
     "metadata": {},
     "output_type": "execute_result"
    }
   ],
   "source": [
    "df_naissances"
   ]
  },
  {
   "cell_type": "code",
   "execution_count": 72,
   "metadata": {},
   "outputs": [
    {
     "data": {
      "text/plain": [
       "508"
      ]
     },
     "execution_count": 72,
     "metadata": {},
     "output_type": "execute_result"
    }
   ],
   "source": [
    "35848 - 35340"
   ]
  },
  {
   "cell_type": "markdown",
   "metadata": {},
   "source": [
    "La base revenus répertorie 35848 communes ; et la base naissances répertorie 35340 communes.\n",
    "Il manque donc 508 communes dans le fichier naissances.  \n",
    "Pourquoi ?\n"
   ]
  },
  {
   "cell_type": "markdown",
   "metadata": {},
   "source": [
    "###### Hypothèse 1 : Les communes ou il n'y a pas eu de naissances ne sont pas dans le fichier"
   ]
  },
  {
   "cell_type": "code",
   "execution_count": 73,
   "metadata": {},
   "outputs": [
    {
     "data": {
      "text/plain": [
       "False    34776\n",
       "True       177\n",
       "dtype: int64"
      ]
     },
     "execution_count": 73,
     "metadata": {},
     "output_type": "execute_result"
    }
   ],
   "source": [
    "nais_year_variables =[\"NAISD{}\".format(str(year).zfill(2)) for year in range(9,19) ]\n",
    "(df_naissances[nais_year_variables].astype(\"float\").sum(axis = 1) == 0).value_counts()"
   ]
  },
  {
   "cell_type": "markdown",
   "metadata": {},
   "source": [
    "Faux, il y a 164 communes où il y a 0 naissances renseignées sur la période qui sont quand même dans la base."
   ]
  },
  {
   "cell_type": "markdown",
   "metadata": {},
   "source": [
    "##### Hypothèse 2 : Les communes ont changées (création, destruction ?)"
   ]
  },
  {
   "cell_type": "code",
   "execution_count": 74,
   "metadata": {},
   "outputs": [
    {
     "name": "stdout",
     "output_type": "stream",
     "text": [
      "450 1199\n"
     ]
    }
   ],
   "source": [
    "print(len(set(df_naissances.LIBGEO) -  set(df_revenus.LIBGEO)),\n",
    "len(  set(df_revenus.LIBGEO) - set(df_naissances.LIBGEO)))"
   ]
  },
  {
   "cell_type": "code",
   "execution_count": 75,
   "metadata": {},
   "outputs": [
    {
     "data": {
      "application/javascript": [
       "\n",
       "        if (window._pyforest_update_imports_cell) { window._pyforest_update_imports_cell('import pandas as pd'); }\n",
       "    "
      ],
      "text/plain": [
       "<IPython.core.display.Javascript object>"
      ]
     },
     "metadata": {},
     "output_type": "display_data"
    },
    {
     "data": {
      "text/plain": [
       "0      Arvière-en-Valromey\n",
       "1     Saint-Pardoux-le-Lac\n",
       "2                   Plémet\n",
       "3        Forges de Lanouée\n",
       "4    Bazouges Cré sur Loir\n",
       "dtype: object"
      ]
     },
     "execution_count": 75,
     "metadata": {},
     "output_type": "execute_result"
    }
   ],
   "source": [
    "pd.Series(list(set(df_naissances.LIBGEO) -  set(df_revenus.LIBGEO))).head()"
   ]
  },
  {
   "cell_type": "markdown",
   "metadata": {},
   "source": [
    "La vérification manuelle confirme bien que ce sont de nouvelles communes crées en 201x."
   ]
  },
  {
   "cell_type": "code",
   "execution_count": 76,
   "metadata": {},
   "outputs": [
    {
     "data": {
      "text/plain": [
       "1649"
      ]
     },
     "execution_count": 76,
     "metadata": {},
     "output_type": "execute_result"
    }
   ],
   "source": [
    "len(set(df_revenus.LIBGEO) ^ set(df_naissances.LIBGEO))"
   ]
  },
  {
   "cell_type": "code",
   "execution_count": 77,
   "metadata": {},
   "outputs": [
    {
     "data": {
      "application/javascript": [
       "\n",
       "        if (window._pyforest_update_imports_cell) { window._pyforest_update_imports_cell('import pandas as pd'); }\n",
       "    "
      ],
      "text/plain": [
       "<IPython.core.display.Javascript object>"
      ]
     },
     "metadata": {},
     "output_type": "display_data"
    }
   ],
   "source": [
    "### merge des deux tables\n",
    "df = pd.merge(df_revenus, df_naissances, on = [\"LIBGEO\", \"CODGEO\"], how = \"inner\")"
   ]
  },
  {
   "cell_type": "markdown",
   "metadata": {},
   "source": [
    "### Evolution des naissances par an"
   ]
  },
  {
   "cell_type": "code",
   "execution_count": null,
   "metadata": {},
   "outputs": [],
   "source": []
  },
  {
   "cell_type": "code",
   "execution_count": 78,
   "metadata": {},
   "outputs": [
    {
     "data": {
      "application/javascript": [
       "\n",
       "        if (window._pyforest_update_imports_cell) { window._pyforest_update_imports_cell('import pandas as pd'); }\n",
       "    "
      ],
      "text/plain": [
       "<IPython.core.display.Javascript object>"
      ]
     },
     "metadata": {},
     "output_type": "display_data"
    },
    {
     "data": {
      "text/html": [
       "<div>\n",
       "<style scoped>\n",
       "    .dataframe tbody tr th:only-of-type {\n",
       "        vertical-align: middle;\n",
       "    }\n",
       "\n",
       "    .dataframe tbody tr th {\n",
       "        vertical-align: top;\n",
       "    }\n",
       "\n",
       "    .dataframe thead th {\n",
       "        text-align: right;\n",
       "    }\n",
       "</style>\n",
       "<table border=\"1\" class=\"dataframe\">\n",
       "  <thead>\n",
       "    <tr style=\"text-align: right;\">\n",
       "      <th></th>\n",
       "      <th>2009</th>\n",
       "      <th>2010</th>\n",
       "      <th>2011</th>\n",
       "      <th>2012</th>\n",
       "      <th>2013</th>\n",
       "      <th>2014</th>\n",
       "      <th>2015</th>\n",
       "      <th>2016</th>\n",
       "      <th>2017</th>\n",
       "      <th>2018</th>\n",
       "    </tr>\n",
       "  </thead>\n",
       "  <tbody>\n",
       "    <tr>\n",
       "      <th>Nombre de naissances</th>\n",
       "      <td>822985.0</td>\n",
       "      <td>831495.0</td>\n",
       "      <td>821589.0</td>\n",
       "      <td>819191.0</td>\n",
       "      <td>809556.0</td>\n",
       "      <td>809328.0</td>\n",
       "      <td>787844.0</td>\n",
       "      <td>772128.0</td>\n",
       "      <td>757623.0</td>\n",
       "      <td>747060.0</td>\n",
       "    </tr>\n",
       "  </tbody>\n",
       "</table>\n",
       "</div>"
      ],
      "text/plain": [
       "                          2009      2010      2011      2012      2013  \\\n",
       "Nombre de naissances  822985.0  831495.0  821589.0  819191.0  809556.0   \n",
       "\n",
       "                          2014      2015      2016      2017      2018  \n",
       "Nombre de naissances  809328.0  787844.0  772128.0  757623.0  747060.0  "
      ]
     },
     "execution_count": 78,
     "metadata": {},
     "output_type": "execute_result"
    }
   ],
   "source": [
    "pd.DataFrame({\"Nombre de naissances\":df_naissances[nais_year_variables].set_axis(range(2009,2019), axis = 1).sum()}).T"
   ]
  },
  {
   "cell_type": "code",
   "execution_count": 79,
   "metadata": {},
   "outputs": [
    {
     "data": {
      "application/javascript": [
       "\n",
       "        if (window._pyforest_update_imports_cell) { window._pyforest_update_imports_cell('import pandas as pd\\nimport matplotlib.pyplot as plt'); }\n",
       "    "
      ],
      "text/plain": [
       "<IPython.core.display.Javascript object>"
      ]
     },
     "metadata": {},
     "output_type": "display_data"
    },
    {
     "data": {
      "application/javascript": [
       "\n",
       "        if (window._pyforest_update_imports_cell) { window._pyforest_update_imports_cell('import pandas as pd\\nimport matplotlib.pyplot as plt'); }\n",
       "    "
      ],
      "text/plain": [
       "<IPython.core.display.Javascript object>"
      ]
     },
     "metadata": {},
     "output_type": "display_data"
    },
    {
     "data": {
      "application/javascript": [
       "\n",
       "        if (window._pyforest_update_imports_cell) { window._pyforest_update_imports_cell('import pandas as pd\\nimport matplotlib.pyplot as plt'); }\n",
       "    "
      ],
      "text/plain": [
       "<IPython.core.display.Javascript object>"
      ]
     },
     "metadata": {},
     "output_type": "display_data"
    },
    {
     "data": {
      "application/javascript": [
       "\n",
       "        if (window._pyforest_update_imports_cell) { window._pyforest_update_imports_cell('import pandas as pd\\nimport matplotlib.pyplot as plt'); }\n",
       "    "
      ],
      "text/plain": [
       "<IPython.core.display.Javascript object>"
      ]
     },
     "metadata": {},
     "output_type": "display_data"
    },
    {
     "data": {
      "image/png": "[encoded data removed]",
      "text/plain": [
       "<Figure size 1080x504 with 1 Axes>"
      ]
     },
     "metadata": {
      "needs_background": "light"
     },
     "output_type": "display_data"
    }
   ],
   "source": [
    "nais_by_year = df[nais_year_variables].sum()\n",
    "nais_by_year.index = range(2009,2019)\n",
    "\n",
    "min_nais_xy = ( nais_by_year.idxmin(), nais_by_year.min())\n",
    "max_nais_xy = ( nais_by_year.idxmax(), nais_by_year.max())\n",
    "plt.figure(figsize=(15,7))\n",
    "\n",
    "nais_by_year.plot()\n",
    "plt.annotate(\"{} \\n naissances\".format(int(min_nais_xy[1])),\n",
    "             xy=min_nais_xy,\n",
    "             xytext=(min_nais_xy[0]*0.9985,min_nais_xy[1]*1.001), arrowprops=dict(arrowstyle=\"->\"), fontsize = 15)\n",
    "\n",
    "plt.annotate(\"{} \\n naissances\".format(int(max_nais_xy[1])),\n",
    "             xy=max_nais_xy,\n",
    "             xytext=(max_nais_xy[0]*1.0001,max_nais_xy[1]*0.975), arrowprops=dict(arrowstyle=\"->\"), fontsize = 15)\n",
    "plt.grid()\n",
    "#plt.plot([2012], [780000], marker=11)\n",
    "#plt.arrow(2018,nais_by_year.min(),-1,5*10**3, width = 0.5)\n",
    "\n",
    "#plt.xticks(np.arange(len(nais_year_variables)), range(2008,2019));"
   ]
  },
  {
   "cell_type": "markdown",
   "metadata": {},
   "source": [
    "### Évolution par quintile"
   ]
  },
  {
   "cell_type": "code",
   "execution_count": 248,
   "metadata": {},
   "outputs": [],
   "source": [
    "df[\"Quantile_income\"] = pd.qcut(df.MED15, 5, labels = False)+1"
   ]
  },
  {
   "cell_type": "code",
   "execution_count": 268,
   "metadata": {},
   "outputs": [],
   "source": [
    "df_quintile = df"
   ]
  },
  {
   "cell_type": "code",
   "execution_count": 269,
   "metadata": {},
   "outputs": [],
   "source": [
    "a = df.groupby(\"Quantile_income\")[nais_year_variables].sum().set_axis(range(2008,2018), axis = 1).astype(\"int\")[2017]"
   ]
  },
  {
   "cell_type": "code",
   "execution_count": 270,
   "metadata": {},
   "outputs": [
    {
     "data": {
      "text/html": [
       "<style  type=\"text/css\" >\n",
       "</style><table id=\"T_dbe2b594_a592_11ea_86cb_acde48001122\" style='display:inline'><caption>Raw numbers</caption><thead>    <tr>        <th class=\"blank level0\" ></th>        <th class=\"col_heading level0 col0\" >2008</th>        <th class=\"col_heading level0 col1\" >2009</th>        <th class=\"col_heading level0 col2\" >2010</th>        <th class=\"col_heading level0 col3\" >2011</th>        <th class=\"col_heading level0 col4\" >2012</th>        <th class=\"col_heading level0 col5\" >2013</th>        <th class=\"col_heading level0 col6\" >2014</th>        <th class=\"col_heading level0 col7\" >2015</th>        <th class=\"col_heading level0 col8\" >2016</th>        <th class=\"col_heading level0 col9\" >2017</th>    </tr>    <tr>        <th class=\"index_name level0\" >Quantile_income</th>        <th class=\"blank\" ></th>        <th class=\"blank\" ></th>        <th class=\"blank\" ></th>        <th class=\"blank\" ></th>        <th class=\"blank\" ></th>        <th class=\"blank\" ></th>        <th class=\"blank\" ></th>        <th class=\"blank\" ></th>        <th class=\"blank\" ></th>        <th class=\"blank\" ></th>    </tr></thead><tbody>\n",
       "                <tr>\n",
       "                        <th id=\"T_dbe2b594_a592_11ea_86cb_acde48001122level0_row0\" class=\"row_heading level0 row0\" >1.0</th>\n",
       "                        <td id=\"T_dbe2b594_a592_11ea_86cb_acde48001122row0_col0\" class=\"data row0 col0\" >230875</td>\n",
       "                        <td id=\"T_dbe2b594_a592_11ea_86cb_acde48001122row0_col1\" class=\"data row0 col1\" >230668</td>\n",
       "                        <td id=\"T_dbe2b594_a592_11ea_86cb_acde48001122row0_col2\" class=\"data row0 col2\" >229006</td>\n",
       "                        <td id=\"T_dbe2b594_a592_11ea_86cb_acde48001122row0_col3\" class=\"data row0 col3\" >228986</td>\n",
       "                        <td id=\"T_dbe2b594_a592_11ea_86cb_acde48001122row0_col4\" class=\"data row0 col4\" >226716</td>\n",
       "                        <td id=\"T_dbe2b594_a592_11ea_86cb_acde48001122row0_col5\" class=\"data row0 col5\" >226621</td>\n",
       "                        <td id=\"T_dbe2b594_a592_11ea_86cb_acde48001122row0_col6\" class=\"data row0 col6\" >220332</td>\n",
       "                        <td id=\"T_dbe2b594_a592_11ea_86cb_acde48001122row0_col7\" class=\"data row0 col7\" >214354</td>\n",
       "                        <td id=\"T_dbe2b594_a592_11ea_86cb_acde48001122row0_col8\" class=\"data row0 col8\" >209909</td>\n",
       "                        <td id=\"T_dbe2b594_a592_11ea_86cb_acde48001122row0_col9\" class=\"data row0 col9\" >205219</td>\n",
       "            </tr>\n",
       "            <tr>\n",
       "                        <th id=\"T_dbe2b594_a592_11ea_86cb_acde48001122level0_row1\" class=\"row_heading level0 row1\" >2.0</th>\n",
       "                        <td id=\"T_dbe2b594_a592_11ea_86cb_acde48001122row1_col0\" class=\"data row1 col0\" >139197</td>\n",
       "                        <td id=\"T_dbe2b594_a592_11ea_86cb_acde48001122row1_col1\" class=\"data row1 col1\" >139763</td>\n",
       "                        <td id=\"T_dbe2b594_a592_11ea_86cb_acde48001122row1_col2\" class=\"data row1 col2\" >137797</td>\n",
       "                        <td id=\"T_dbe2b594_a592_11ea_86cb_acde48001122row1_col3\" class=\"data row1 col3\" >137232</td>\n",
       "                        <td id=\"T_dbe2b594_a592_11ea_86cb_acde48001122row1_col4\" class=\"data row1 col4\" >134062</td>\n",
       "                        <td id=\"T_dbe2b594_a592_11ea_86cb_acde48001122row1_col5\" class=\"data row1 col5\" >133648</td>\n",
       "                        <td id=\"T_dbe2b594_a592_11ea_86cb_acde48001122row1_col6\" class=\"data row1 col6\" >128846</td>\n",
       "                        <td id=\"T_dbe2b594_a592_11ea_86cb_acde48001122row1_col7\" class=\"data row1 col7\" >125485</td>\n",
       "                        <td id=\"T_dbe2b594_a592_11ea_86cb_acde48001122row1_col8\" class=\"data row1 col8\" >122563</td>\n",
       "                        <td id=\"T_dbe2b594_a592_11ea_86cb_acde48001122row1_col9\" class=\"data row1 col9\" >119580</td>\n",
       "            </tr>\n",
       "            <tr>\n",
       "                        <th id=\"T_dbe2b594_a592_11ea_86cb_acde48001122level0_row2\" class=\"row_heading level0 row2\" >3.0</th>\n",
       "                        <td id=\"T_dbe2b594_a592_11ea_86cb_acde48001122row2_col0\" class=\"data row2 col0\" >118944</td>\n",
       "                        <td id=\"T_dbe2b594_a592_11ea_86cb_acde48001122row2_col1\" class=\"data row2 col1\" >120424</td>\n",
       "                        <td id=\"T_dbe2b594_a592_11ea_86cb_acde48001122row2_col2\" class=\"data row2 col2\" >118990</td>\n",
       "                        <td id=\"T_dbe2b594_a592_11ea_86cb_acde48001122row2_col3\" class=\"data row2 col3\" >118631</td>\n",
       "                        <td id=\"T_dbe2b594_a592_11ea_86cb_acde48001122row2_col4\" class=\"data row2 col4\" >117389</td>\n",
       "                        <td id=\"T_dbe2b594_a592_11ea_86cb_acde48001122row2_col5\" class=\"data row2 col5\" >116455</td>\n",
       "                        <td id=\"T_dbe2b594_a592_11ea_86cb_acde48001122row2_col6\" class=\"data row2 col6\" >112357</td>\n",
       "                        <td id=\"T_dbe2b594_a592_11ea_86cb_acde48001122row2_col7\" class=\"data row2 col7\" >109533</td>\n",
       "                        <td id=\"T_dbe2b594_a592_11ea_86cb_acde48001122row2_col8\" class=\"data row2 col8\" >107608</td>\n",
       "                        <td id=\"T_dbe2b594_a592_11ea_86cb_acde48001122row2_col9\" class=\"data row2 col9\" >105122</td>\n",
       "            </tr>\n",
       "            <tr>\n",
       "                        <th id=\"T_dbe2b594_a592_11ea_86cb_acde48001122level0_row3\" class=\"row_heading level0 row3\" >4.0</th>\n",
       "                        <td id=\"T_dbe2b594_a592_11ea_86cb_acde48001122row3_col0\" class=\"data row3 col0\" >116717</td>\n",
       "                        <td id=\"T_dbe2b594_a592_11ea_86cb_acde48001122row3_col1\" class=\"data row3 col1\" >119526</td>\n",
       "                        <td id=\"T_dbe2b594_a592_11ea_86cb_acde48001122row3_col2\" class=\"data row3 col2\" >117262</td>\n",
       "                        <td id=\"T_dbe2b594_a592_11ea_86cb_acde48001122row3_col3\" class=\"data row3 col3\" >117115</td>\n",
       "                        <td id=\"T_dbe2b594_a592_11ea_86cb_acde48001122row3_col4\" class=\"data row3 col4\" >116000</td>\n",
       "                        <td id=\"T_dbe2b594_a592_11ea_86cb_acde48001122row3_col5\" class=\"data row3 col5\" >115904</td>\n",
       "                        <td id=\"T_dbe2b594_a592_11ea_86cb_acde48001122row3_col6\" class=\"data row3 col6\" >113441</td>\n",
       "                        <td id=\"T_dbe2b594_a592_11ea_86cb_acde48001122row3_col7\" class=\"data row3 col7\" >111341</td>\n",
       "                        <td id=\"T_dbe2b594_a592_11ea_86cb_acde48001122row3_col8\" class=\"data row3 col8\" >109473</td>\n",
       "                        <td id=\"T_dbe2b594_a592_11ea_86cb_acde48001122row3_col9\" class=\"data row3 col9\" >108745</td>\n",
       "            </tr>\n",
       "            <tr>\n",
       "                        <th id=\"T_dbe2b594_a592_11ea_86cb_acde48001122level0_row4\" class=\"row_heading level0 row4\" >5.0</th>\n",
       "                        <td id=\"T_dbe2b594_a592_11ea_86cb_acde48001122row4_col0\" class=\"data row4 col0\" >190046</td>\n",
       "                        <td id=\"T_dbe2b594_a592_11ea_86cb_acde48001122row4_col1\" class=\"data row4 col1\" >193912</td>\n",
       "                        <td id=\"T_dbe2b594_a592_11ea_86cb_acde48001122row4_col2\" class=\"data row4 col2\" >191244</td>\n",
       "                        <td id=\"T_dbe2b594_a592_11ea_86cb_acde48001122row4_col3\" class=\"data row4 col3\" >190105</td>\n",
       "                        <td id=\"T_dbe2b594_a592_11ea_86cb_acde48001122row4_col4\" class=\"data row4 col4\" >188886</td>\n",
       "                        <td id=\"T_dbe2b594_a592_11ea_86cb_acde48001122row4_col5\" class=\"data row4 col5\" >190402</td>\n",
       "                        <td id=\"T_dbe2b594_a592_11ea_86cb_acde48001122row4_col6\" class=\"data row4 col6\" >187040</td>\n",
       "                        <td id=\"T_dbe2b594_a592_11ea_86cb_acde48001122row4_col7\" class=\"data row4 col7\" >185598</td>\n",
       "                        <td id=\"T_dbe2b594_a592_11ea_86cb_acde48001122row4_col8\" class=\"data row4 col8\" >182905</td>\n",
       "                        <td id=\"T_dbe2b594_a592_11ea_86cb_acde48001122row4_col9\" class=\"data row4 col9\" >182868</td>\n",
       "            </tr>\n",
       "    </tbody></table>   <style  type=\"text/css\" >\n",
       "</style><table id=\"T_dbe32fba_a592_11ea_86cb_acde48001122\" style='display:inline'><caption>Noramalized numbers</caption><thead>    <tr>        <th class=\"blank level0\" ></th>        <th class=\"col_heading level0 col0\" >2008</th>        <th class=\"col_heading level0 col1\" >2009</th>        <th class=\"col_heading level0 col2\" >2010</th>        <th class=\"col_heading level0 col3\" >2011</th>        <th class=\"col_heading level0 col4\" >2012</th>        <th class=\"col_heading level0 col5\" >2013</th>        <th class=\"col_heading level0 col6\" >2014</th>        <th class=\"col_heading level0 col7\" >2015</th>        <th class=\"col_heading level0 col8\" >2016</th>        <th class=\"col_heading level0 col9\" >2017</th>    </tr>    <tr>        <th class=\"index_name level0\" >Quantile_income</th>        <th class=\"blank\" ></th>        <th class=\"blank\" ></th>        <th class=\"blank\" ></th>        <th class=\"blank\" ></th>        <th class=\"blank\" ></th>        <th class=\"blank\" ></th>        <th class=\"blank\" ></th>        <th class=\"blank\" ></th>        <th class=\"blank\" ></th>        <th class=\"blank\" ></th>    </tr></thead><tbody>\n",
       "                <tr>\n",
       "                        <th id=\"T_dbe32fba_a592_11ea_86cb_acde48001122level0_row0\" class=\"row_heading level0 row0\" >1.0</th>\n",
       "                        <td id=\"T_dbe32fba_a592_11ea_86cb_acde48001122row0_col0\" class=\"data row0 col0\" >1.008161</td>\n",
       "                        <td id=\"T_dbe32fba_a592_11ea_86cb_acde48001122row0_col1\" class=\"data row0 col1\" >1.007257</td>\n",
       "                        <td id=\"T_dbe32fba_a592_11ea_86cb_acde48001122row0_col2\" class=\"data row0 col2\" >1.000000</td>\n",
       "                        <td id=\"T_dbe32fba_a592_11ea_86cb_acde48001122row0_col3\" class=\"data row0 col3\" >0.999913</td>\n",
       "                        <td id=\"T_dbe32fba_a592_11ea_86cb_acde48001122row0_col4\" class=\"data row0 col4\" >0.990000</td>\n",
       "                        <td id=\"T_dbe32fba_a592_11ea_86cb_acde48001122row0_col5\" class=\"data row0 col5\" >0.989585</td>\n",
       "                        <td id=\"T_dbe32fba_a592_11ea_86cb_acde48001122row0_col6\" class=\"data row0 col6\" >0.962123</td>\n",
       "                        <td id=\"T_dbe32fba_a592_11ea_86cb_acde48001122row0_col7\" class=\"data row0 col7\" >0.936019</td>\n",
       "                        <td id=\"T_dbe32fba_a592_11ea_86cb_acde48001122row0_col8\" class=\"data row0 col8\" >0.916609</td>\n",
       "                        <td id=\"T_dbe32fba_a592_11ea_86cb_acde48001122row0_col9\" class=\"data row0 col9\" >0.896129</td>\n",
       "            </tr>\n",
       "            <tr>\n",
       "                        <th id=\"T_dbe32fba_a592_11ea_86cb_acde48001122level0_row1\" class=\"row_heading level0 row1\" >2.0</th>\n",
       "                        <td id=\"T_dbe32fba_a592_11ea_86cb_acde48001122row1_col0\" class=\"data row1 col0\" >1.010160</td>\n",
       "                        <td id=\"T_dbe32fba_a592_11ea_86cb_acde48001122row1_col1\" class=\"data row1 col1\" >1.014267</td>\n",
       "                        <td id=\"T_dbe32fba_a592_11ea_86cb_acde48001122row1_col2\" class=\"data row1 col2\" >1.000000</td>\n",
       "                        <td id=\"T_dbe32fba_a592_11ea_86cb_acde48001122row1_col3\" class=\"data row1 col3\" >0.995900</td>\n",
       "                        <td id=\"T_dbe32fba_a592_11ea_86cb_acde48001122row1_col4\" class=\"data row1 col4\" >0.972895</td>\n",
       "                        <td id=\"T_dbe32fba_a592_11ea_86cb_acde48001122row1_col5\" class=\"data row1 col5\" >0.969890</td>\n",
       "                        <td id=\"T_dbe32fba_a592_11ea_86cb_acde48001122row1_col6\" class=\"data row1 col6\" >0.935042</td>\n",
       "                        <td id=\"T_dbe32fba_a592_11ea_86cb_acde48001122row1_col7\" class=\"data row1 col7\" >0.910651</td>\n",
       "                        <td id=\"T_dbe32fba_a592_11ea_86cb_acde48001122row1_col8\" class=\"data row1 col8\" >0.889446</td>\n",
       "                        <td id=\"T_dbe32fba_a592_11ea_86cb_acde48001122row1_col9\" class=\"data row1 col9\" >0.867798</td>\n",
       "            </tr>\n",
       "            <tr>\n",
       "                        <th id=\"T_dbe32fba_a592_11ea_86cb_acde48001122level0_row2\" class=\"row_heading level0 row2\" >3.0</th>\n",
       "                        <td id=\"T_dbe32fba_a592_11ea_86cb_acde48001122row2_col0\" class=\"data row2 col0\" >0.999613</td>\n",
       "                        <td id=\"T_dbe32fba_a592_11ea_86cb_acde48001122row2_col1\" class=\"data row2 col1\" >1.012051</td>\n",
       "                        <td id=\"T_dbe32fba_a592_11ea_86cb_acde48001122row2_col2\" class=\"data row2 col2\" >1.000000</td>\n",
       "                        <td id=\"T_dbe32fba_a592_11ea_86cb_acde48001122row2_col3\" class=\"data row2 col3\" >0.996983</td>\n",
       "                        <td id=\"T_dbe32fba_a592_11ea_86cb_acde48001122row2_col4\" class=\"data row2 col4\" >0.986545</td>\n",
       "                        <td id=\"T_dbe32fba_a592_11ea_86cb_acde48001122row2_col5\" class=\"data row2 col5\" >0.978696</td>\n",
       "                        <td id=\"T_dbe32fba_a592_11ea_86cb_acde48001122row2_col6\" class=\"data row2 col6\" >0.944256</td>\n",
       "                        <td id=\"T_dbe32fba_a592_11ea_86cb_acde48001122row2_col7\" class=\"data row2 col7\" >0.920523</td>\n",
       "                        <td id=\"T_dbe32fba_a592_11ea_86cb_acde48001122row2_col8\" class=\"data row2 col8\" >0.904345</td>\n",
       "                        <td id=\"T_dbe32fba_a592_11ea_86cb_acde48001122row2_col9\" class=\"data row2 col9\" >0.883452</td>\n",
       "            </tr>\n",
       "            <tr>\n",
       "                        <th id=\"T_dbe32fba_a592_11ea_86cb_acde48001122level0_row3\" class=\"row_heading level0 row3\" >4.0</th>\n",
       "                        <td id=\"T_dbe32fba_a592_11ea_86cb_acde48001122row3_col0\" class=\"data row3 col0\" >0.995352</td>\n",
       "                        <td id=\"T_dbe32fba_a592_11ea_86cb_acde48001122row3_col1\" class=\"data row3 col1\" >1.019307</td>\n",
       "                        <td id=\"T_dbe32fba_a592_11ea_86cb_acde48001122row3_col2\" class=\"data row3 col2\" >1.000000</td>\n",
       "                        <td id=\"T_dbe32fba_a592_11ea_86cb_acde48001122row3_col3\" class=\"data row3 col3\" >0.998746</td>\n",
       "                        <td id=\"T_dbe32fba_a592_11ea_86cb_acde48001122row3_col4\" class=\"data row3 col4\" >0.989238</td>\n",
       "                        <td id=\"T_dbe32fba_a592_11ea_86cb_acde48001122row3_col5\" class=\"data row3 col5\" >0.988419</td>\n",
       "                        <td id=\"T_dbe32fba_a592_11ea_86cb_acde48001122row3_col6\" class=\"data row3 col6\" >0.967415</td>\n",
       "                        <td id=\"T_dbe32fba_a592_11ea_86cb_acde48001122row3_col7\" class=\"data row3 col7\" >0.949506</td>\n",
       "                        <td id=\"T_dbe32fba_a592_11ea_86cb_acde48001122row3_col8\" class=\"data row3 col8\" >0.933576</td>\n",
       "                        <td id=\"T_dbe32fba_a592_11ea_86cb_acde48001122row3_col9\" class=\"data row3 col9\" >0.927368</td>\n",
       "            </tr>\n",
       "            <tr>\n",
       "                        <th id=\"T_dbe32fba_a592_11ea_86cb_acde48001122level0_row4\" class=\"row_heading level0 row4\" >5.0</th>\n",
       "                        <td id=\"T_dbe32fba_a592_11ea_86cb_acde48001122row4_col0\" class=\"data row4 col0\" >0.993736</td>\n",
       "                        <td id=\"T_dbe32fba_a592_11ea_86cb_acde48001122row4_col1\" class=\"data row4 col1\" >1.013951</td>\n",
       "                        <td id=\"T_dbe32fba_a592_11ea_86cb_acde48001122row4_col2\" class=\"data row4 col2\" >1.000000</td>\n",
       "                        <td id=\"T_dbe32fba_a592_11ea_86cb_acde48001122row4_col3\" class=\"data row4 col3\" >0.994044</td>\n",
       "                        <td id=\"T_dbe32fba_a592_11ea_86cb_acde48001122row4_col4\" class=\"data row4 col4\" >0.987670</td>\n",
       "                        <td id=\"T_dbe32fba_a592_11ea_86cb_acde48001122row4_col5\" class=\"data row4 col5\" >0.995597</td>\n",
       "                        <td id=\"T_dbe32fba_a592_11ea_86cb_acde48001122row4_col6\" class=\"data row4 col6\" >0.978018</td>\n",
       "                        <td id=\"T_dbe32fba_a592_11ea_86cb_acde48001122row4_col7\" class=\"data row4 col7\" >0.970478</td>\n",
       "                        <td id=\"T_dbe32fba_a592_11ea_86cb_acde48001122row4_col8\" class=\"data row4 col8\" >0.956396</td>\n",
       "                        <td id=\"T_dbe32fba_a592_11ea_86cb_acde48001122row4_col9\" class=\"data row4 col9\" >0.956203</td>\n",
       "            </tr>\n",
       "    </tbody></table>   "
      ],
      "text/plain": [
       "<IPython.core.display.HTML object>"
      ]
     },
     "metadata": {},
     "output_type": "display_data"
    }
   ],
   "source": [
    "display_side_by_side(\n",
    "    [\n",
    "        df.groupby(\"Quantile_income\")[nais_year_variables].sum().set_axis(range(2008,2018), axis = 1).astype(\"int\"),\n",
    "        df.groupby(\"Quantile_income\")[nais_year_variables].sum().set_axis(range(2008,2018), axis = 1).astype(\"int\").divide(\n",
    "            (df.groupby(\"Quantile_income\")[nais_year_variables].sum().set_axis(range(2008,2018), axis = 1).astype(\"int\")[2010].values), axis = 0)\n",
    "    ],\n",
    "    [\"Raw numbers\", \"Noramalized numbers\"])"
   ]
  },
  {
   "cell_type": "markdown",
   "metadata": {},
   "source": [
    "Raw numbers: ne veut rien dire tant que pas rapporté à la population par commune."
   ]
  },
  {
   "cell_type": "code",
   "execution_count": 271,
   "metadata": {},
   "outputs": [
    {
     "data": {
      "application/javascript": [
       "\n",
       "        if (window._pyforest_update_imports_cell) { window._pyforest_update_imports_cell('import numpy as np\\nimport seaborn as sns\\nimport pandas as pd\\nimport matplotlib.pyplot as plt'); }\n",
       "    "
      ],
      "text/plain": [
       "<IPython.core.display.Javascript object>"
      ]
     },
     "metadata": {},
     "output_type": "display_data"
    },
    {
     "data": {
      "application/javascript": [
       "\n",
       "        if (window._pyforest_update_imports_cell) { window._pyforest_update_imports_cell('import numpy as np\\nimport seaborn as sns\\nimport pandas as pd\\nimport matplotlib.pyplot as plt'); }\n",
       "    "
      ],
      "text/plain": [
       "<IPython.core.display.Javascript object>"
      ]
     },
     "metadata": {},
     "output_type": "display_data"
    },
    {
     "data": {
      "application/javascript": [
       "\n",
       "        if (window._pyforest_update_imports_cell) { window._pyforest_update_imports_cell('import numpy as np\\nimport seaborn as sns\\nimport pandas as pd\\nimport matplotlib.pyplot as plt'); }\n",
       "    "
      ],
      "text/plain": [
       "<IPython.core.display.Javascript object>"
      ]
     },
     "metadata": {},
     "output_type": "display_data"
    },
    {
     "data": {
      "image/png": "[encoded data removed]",
      "text/plain": [
       "<Figure size 360x216 with 1 Axes>"
      ]
     },
     "metadata": {
      "needs_background": "light"
     },
     "output_type": "display_data"
    }
   ],
   "source": [
    "df.groupby(\"Quantile_income\")[nais_year_variables].sum().T.plot(figsize=(5,3));\n",
    "plt.legend(title = \"décile de revenu\",loc = \"right\", bbox_to_anchor = (1.4,0.7));\n",
    "plt.xticks(np.arange(len(nais_year_variables)), range(2008,2018)); "
   ]
  },
  {
   "cell_type": "markdown",
   "metadata": {},
   "source": [
    "### Évolution par quintile normalisée"
   ]
  },
  {
   "cell_type": "code",
   "execution_count": 272,
   "metadata": {},
   "outputs": [
    {
     "data": {
      "application/javascript": [
       "\n",
       "        if (window._pyforest_update_imports_cell) { window._pyforest_update_imports_cell('import numpy as np\\nimport seaborn as sns\\nimport pandas as pd\\nimport matplotlib.pyplot as plt'); }\n",
       "    "
      ],
      "text/plain": [
       "<IPython.core.display.Javascript object>"
      ]
     },
     "metadata": {},
     "output_type": "display_data"
    },
    {
     "data": {
      "application/javascript": [
       "\n",
       "        if (window._pyforest_update_imports_cell) { window._pyforest_update_imports_cell('import numpy as np\\nimport seaborn as sns\\nimport pandas as pd\\nimport matplotlib.pyplot as plt'); }\n",
       "    "
      ],
      "text/plain": [
       "<IPython.core.display.Javascript object>"
      ]
     },
     "metadata": {},
     "output_type": "display_data"
    },
    {
     "data": {
      "application/javascript": [
       "\n",
       "        if (window._pyforest_update_imports_cell) { window._pyforest_update_imports_cell('import numpy as np\\nimport seaborn as sns\\nimport pandas as pd\\nimport matplotlib.pyplot as plt'); }\n",
       "    "
      ],
      "text/plain": [
       "<IPython.core.display.Javascript object>"
      ]
     },
     "metadata": {},
     "output_type": "display_data"
    },
    {
     "data": {
      "application/javascript": [
       "\n",
       "        if (window._pyforest_update_imports_cell) { window._pyforest_update_imports_cell('import numpy as np\\nimport seaborn as sns\\nimport pandas as pd\\nimport matplotlib.pyplot as plt'); }\n",
       "    "
      ],
      "text/plain": [
       "<IPython.core.display.Javascript object>"
      ]
     },
     "metadata": {},
     "output_type": "display_data"
    },
    {
     "data": {
      "image/png": "[encoded data removed]",
      "text/plain": [
       "<Figure size 1440x720 with 1 Axes>"
      ]
     },
     "metadata": {
      "needs_background": "light"
     },
     "output_type": "display_data"
    }
   ],
   "source": [
    "#Normalisé par décile\n",
    "(df.groupby(\"Quantile_income\")[nais_year_variables].sum().T/df.groupby(\"Quantile_income\")[\"NAISD10\"].sum().values).plot(figsize=(20,10))\n",
    "plt.legend(title = \"décile de revenu\",loc = \"upper right\")\n",
    "\n",
    "#Normalisé en total\n",
    "(df[nais_year_variables].sum()/df[\"NAISD10\"].sum()).plot(linestyle = \"--\", linewidth = 3, label = \"Moyenne nationale\") \n",
    "plt.legend(title = \"décile de revenu\", loc = \"upper right\")\n",
    "\n",
    "plt.xticks(np.arange(len(nais_year_variables)), range(2008,2018));"
   ]
  },
  {
   "cell_type": "markdown",
   "metadata": {},
   "source": [
    "Les communes qui connaissent la plus faible diminiution du nombre de naissance entre 2010 et 2018, sont les communes les plus riches  ; et donc potentiellement les communes les moins touchées par les réformes de la baisse du plafond du quotient familial et de la modulation des allocations familiales."
   ]
  },
  {
   "cell_type": "markdown",
   "metadata": {},
   "source": [
    "## Caractéristiques des parents"
   ]
  },
  {
   "cell_type": "code",
   "execution_count": 273,
   "metadata": {},
   "outputs": [
    {
     "name": "stdout",
     "output_type": "stream",
     "text": [
      "CPU times: user 38.7 s, sys: 372 ms, total: 39.1 s\n",
      "Wall time: 39.1 s\n"
     ]
    }
   ],
   "source": [
    "%%time\n",
    "%%capture\n",
    "from simpledbf import Dbf5\n",
    "dbf = Dbf5('/Users/adrienpacifico/Downloads/etatcivil2017_nais2017_dbase/nais2017.dbf')\n",
    "df_naissances_ec = dbf.to_dataframe(); print(df_naissances_ec.shape)\n",
    "df_naissances_ec = df_naissances_ec.apply(lambda x:pd.to_numeric(x,errors ='ignore'));"
   ]
  },
  {
   "cell_type": "code",
   "execution_count": 274,
   "metadata": {},
   "outputs": [
    {
     "name": "stderr",
     "output_type": "stream",
     "text": [
      "/Users/adrienpacifico/Library/Caches/pypoetry/virtualenvs/fertility-freely-available-data-sources-Ebk-O8z8-py3.8/lib/python3.8/site-packages/IPython/core/interactiveshell.py:3062: DtypeWarning: Columns (10,11) have mixed types.Specify dtype option on import or set low_memory=False.\n",
      "  has_raised = await self.run_ast_nodes(code_ast.body, cell_name,\n"
     ]
    },
    {
     "data": {
      "text/plain": [
       "Index(['ANAIS', 'ACCOUCHR', 'AGEMERE', 'AGEPERE', 'AGEXACTM', 'AGEXACTP',\n",
       "       'AMAR', 'ARECC', 'ARECM', 'ARECP', 'DEPDOM', 'DEPNAIS', 'DMARNAIS',\n",
       "       'DURECEVP', 'INDLNM', 'INDLNP', 'INDNATM', 'INDNATP', 'JRECC', 'JRECM',\n",
       "       'JRECP', 'MNAIS', 'MRECC', 'MRECM', 'MRECP', 'NBENF', 'ORIGINOM',\n",
       "       'SEXE', 'SITUATMR', 'SITUATPR', 'TUCOM', 'TUDOM'],\n",
       "      dtype='object')"
      ]
     },
     "execution_count": 274,
     "metadata": {},
     "output_type": "execute_result"
    }
   ],
   "source": [
    "pd.read_csv(data_path+\"Nais2018.csv\", delimiter =\";\").columns"
   ]
  },
  {
   "cell_type": "code",
   "execution_count": null,
   "metadata": {},
   "outputs": [],
   "source": []
  },
  {
   "cell_type": "code",
   "execution_count": 275,
   "metadata": {},
   "outputs": [
    {
     "data": {
      "text/plain": [
       "set()"
      ]
     },
     "execution_count": 275,
     "metadata": {},
     "output_type": "execute_result"
    }
   ],
   "source": [
    "set([str.upper(s) for s in df_naissances_ec.head().columns]) - set(pd.read_csv(data_path+\"Nais2018.csv\", delimiter =\";\").columns)"
   ]
  },
  {
   "cell_type": "code",
   "execution_count": 276,
   "metadata": {},
   "outputs": [
    {
     "data": {
      "text/plain": [
       "(30,)"
      ]
     },
     "execution_count": 276,
     "metadata": {},
     "output_type": "execute_result"
    }
   ],
   "source": [
    "df_naissances_ec.agepere.value_counts().shape"
   ]
  },
  {
   "cell_type": "code",
   "execution_count": 277,
   "metadata": {},
   "outputs": [
    {
     "data": {
      "application/javascript": [
       "\n",
       "        if (window._pyforest_update_imports_cell) { window._pyforest_update_imports_cell('import numpy as np\\nimport seaborn as sns\\nimport pandas as pd\\nimport matplotlib.pyplot as plt'); }\n",
       "    "
      ],
      "text/plain": [
       "<IPython.core.display.Javascript object>"
      ]
     },
     "metadata": {},
     "output_type": "display_data"
    },
    {
     "data": {
      "image/png": "[encoded data removed]",
      "text/plain": [
       "<Figure size 432x288 with 1 Axes>"
      ]
     },
     "metadata": {
      "needs_background": "light"
     },
     "output_type": "display_data"
    }
   ],
   "source": [
    "df_naissances_ec.agemere.hist(bins = 30, label = 'age de la mère')\n",
    "df_naissances_ec.agepere.hist(alpha = 0.6,bins = 30,  label = 'age du père'); plt.legend();"
   ]
  },
  {
   "cell_type": "code",
   "execution_count": 278,
   "metadata": {},
   "outputs": [
    {
     "data": {
      "text/plain": [
       "count    769553.000000\n",
       "mean         30.781703\n",
       "std           5.348357\n",
       "min          17.000000\n",
       "25%          27.000000\n",
       "50%          31.000000\n",
       "75%          34.000000\n",
       "max          46.000000\n",
       "Name: agemere, dtype: float64"
      ]
     },
     "execution_count": 278,
     "metadata": {},
     "output_type": "execute_result"
    }
   ],
   "source": [
    "df_naissances_ec.agemere.describe()"
   ]
  },
  {
   "cell_type": "markdown",
   "metadata": {},
   "source": [
    "TODO, faire la variation pour chaque année"
   ]
  },
  {
   "cell_type": "markdown",
   "metadata": {},
   "source": [
    "#### Taux de non déclaration du père"
   ]
  },
  {
   "cell_type": "code",
   "execution_count": 279,
   "metadata": {},
   "outputs": [
    {
     "data": {
      "text/plain": [
       "1.0    0.824405\n",
       "3.0    0.086940\n",
       "2.0    0.062061\n",
       "4.0    0.024713\n",
       "5.0    0.001344\n",
       "NaN    0.000538\n",
       "Name: originom, dtype: float64"
      ]
     },
     "execution_count": 279,
     "metadata": {},
     "output_type": "execute_result"
    }
   ],
   "source": [
    "df_naissances_ec.originom.value_counts(normalize = True, dropna = False) # 1 nom du père, 2 nom de la mère, 3 nom père-mère, 4 nom mère-père, 5 Autre"
   ]
  },
  {
   "cell_type": "markdown",
   "metadata": {},
   "source": [
    "### Situation professionnelle des parents à la naissance"
   ]
  },
  {
   "cell_type": "code",
   "execution_count": 280,
   "metadata": {},
   "outputs": [
    {
     "data": {
      "application/javascript": [
       "\n",
       "        if (window._pyforest_update_imports_cell) { window._pyforest_update_imports_cell('import numpy as np\\nimport seaborn as sns\\nimport pandas as pd\\nimport matplotlib.pyplot as plt'); }\n",
       "    "
      ],
      "text/plain": [
       "<IPython.core.display.Javascript object>"
      ]
     },
     "metadata": {},
     "output_type": "display_data"
    },
    {
     "data": {
      "text/html": [
       "<div>\n",
       "<style scoped>\n",
       "    .dataframe tbody tr th:only-of-type {\n",
       "        vertical-align: middle;\n",
       "    }\n",
       "\n",
       "    .dataframe tbody tr th {\n",
       "        vertical-align: top;\n",
       "    }\n",
       "\n",
       "    .dataframe thead th {\n",
       "        text-align: right;\n",
       "    }\n",
       "</style>\n",
       "<table border=\"1\" class=\"dataframe\">\n",
       "  <thead>\n",
       "    <tr style=\"text-align: right;\">\n",
       "      <th></th>\n",
       "      <th>Mère</th>\n",
       "      <th>Père</th>\n",
       "    </tr>\n",
       "  </thead>\n",
       "  <tbody>\n",
       "    <tr>\n",
       "      <th>Salarié</th>\n",
       "      <td>0.603006</td>\n",
       "      <td>0.714645</td>\n",
       "    </tr>\n",
       "    <tr>\n",
       "      <th>Inconnue</th>\n",
       "      <td>0.198323</td>\n",
       "      <td>0.180263</td>\n",
       "    </tr>\n",
       "    <tr>\n",
       "      <th>Non renseigné</th>\n",
       "      <td>0.173436</td>\n",
       "      <td>0.050453</td>\n",
       "    </tr>\n",
       "    <tr>\n",
       "      <th>Actif non salarié</th>\n",
       "      <td>0.025235</td>\n",
       "      <td>0.054640</td>\n",
       "    </tr>\n",
       "  </tbody>\n",
       "</table>\n",
       "</div>"
      ],
      "text/plain": [
       "                       Mère      Père\n",
       "Salarié            0.603006  0.714645\n",
       "Inconnue           0.198323  0.180263\n",
       "Non renseigné      0.173436  0.050453\n",
       "Actif non salarié  0.025235  0.054640"
      ]
     },
     "execution_count": 280,
     "metadata": {},
     "output_type": "execute_result"
    }
   ],
   "source": [
    "pd.DataFrame({\"Mère\": df_naissances_ec.situatmr.value_counts(normalize = True, dropna = False), \n",
    "              \"Père\":df_naissances_ec.situatpr.value_counts(normalize = True, dropna = False)}\n",
    "            ).rename({\"S\":\"Salarié\", \"ND\":\"Inconnue\", \"NS\":\"Actif non salarié\", np.NaN:\"Non renseigné\"})"
   ]
  },
  {
   "cell_type": "markdown",
   "metadata": {},
   "source": [
    "### Nationalité "
   ]
  },
  {
   "cell_type": "code",
   "execution_count": 281,
   "metadata": {},
   "outputs": [
    {
     "data": {
      "application/javascript": [
       "\n",
       "        if (window._pyforest_update_imports_cell) { window._pyforest_update_imports_cell('import numpy as np\\nimport seaborn as sns\\nimport pandas as pd\\nimport matplotlib.pyplot as plt'); }\n",
       "    "
      ],
      "text/plain": [
       "<IPython.core.display.Javascript object>"
      ]
     },
     "metadata": {},
     "output_type": "display_data"
    },
    {
     "data": {
      "text/html": [
       "<div>\n",
       "<style scoped>\n",
       "    .dataframe tbody tr th:only-of-type {\n",
       "        vertical-align: middle;\n",
       "    }\n",
       "\n",
       "    .dataframe tbody tr th {\n",
       "        vertical-align: top;\n",
       "    }\n",
       "\n",
       "    .dataframe thead th {\n",
       "        text-align: right;\n",
       "    }\n",
       "</style>\n",
       "<table border=\"1\" class=\"dataframe\">\n",
       "  <thead>\n",
       "    <tr style=\"text-align: right;\">\n",
       "      <th></th>\n",
       "      <th>Mère</th>\n",
       "      <th>Père</th>\n",
       "    </tr>\n",
       "  </thead>\n",
       "  <tbody>\n",
       "    <tr>\n",
       "      <th>Française</th>\n",
       "      <td>0.82375</td>\n",
       "      <td>0.831866</td>\n",
       "    </tr>\n",
       "    <tr>\n",
       "      <th>Étrangère</th>\n",
       "      <td>0.17625</td>\n",
       "      <td>0.168134</td>\n",
       "    </tr>\n",
       "  </tbody>\n",
       "</table>\n",
       "</div>"
      ],
      "text/plain": [
       "              Mère      Père\n",
       "Française  0.82375  0.831866\n",
       "Étrangère  0.17625  0.168134"
      ]
     },
     "execution_count": 281,
     "metadata": {},
     "output_type": "execute_result"
    }
   ],
   "source": [
    "pd.DataFrame({\"Mère\": df_naissances_ec.indnatm.value_counts(normalize = True, dropna = False), \n",
    "              \"Père\":df_naissances_ec.indnatp.value_counts(normalize = True, dropna = False)}\n",
    "            ).rename({1:\"Française\", 2:\"Étrangère\", \"NS\":\"Actif non salarié\", np.NaN:\"Non renseigné\"})\n",
    "    "
   ]
  },
  {
   "cell_type": "markdown",
   "metadata": {},
   "source": [
    "### Orignine"
   ]
  },
  {
   "cell_type": "code",
   "execution_count": 282,
   "metadata": {},
   "outputs": [
    {
     "data": {
      "application/javascript": [
       "\n",
       "        if (window._pyforest_update_imports_cell) { window._pyforest_update_imports_cell('import numpy as np\\nimport seaborn as sns\\nimport pandas as pd\\nimport matplotlib.pyplot as plt'); }\n",
       "    "
      ],
      "text/plain": [
       "<IPython.core.display.Javascript object>"
      ]
     },
     "metadata": {},
     "output_type": "display_data"
    },
    {
     "data": {
      "text/html": [
       "<div>\n",
       "<style scoped>\n",
       "    .dataframe tbody tr th:only-of-type {\n",
       "        vertical-align: middle;\n",
       "    }\n",
       "\n",
       "    .dataframe tbody tr th {\n",
       "        vertical-align: top;\n",
       "    }\n",
       "\n",
       "    .dataframe thead th {\n",
       "        text-align: right;\n",
       "    }\n",
       "</style>\n",
       "<table border=\"1\" class=\"dataframe\">\n",
       "  <thead>\n",
       "    <tr style=\"text-align: right;\">\n",
       "      <th></th>\n",
       "      <th>Mère</th>\n",
       "      <th>Père</th>\n",
       "    </tr>\n",
       "  </thead>\n",
       "  <tbody>\n",
       "    <tr>\n",
       "      <th>France</th>\n",
       "      <td>0.724192</td>\n",
       "      <td>0.715175</td>\n",
       "    </tr>\n",
       "    <tr>\n",
       "      <th>Étranger</th>\n",
       "      <td>0.234397</td>\n",
       "      <td>0.241002</td>\n",
       "    </tr>\n",
       "    <tr>\n",
       "      <th>Drom</th>\n",
       "      <td>0.033547</td>\n",
       "      <td>0.035522</td>\n",
       "    </tr>\n",
       "    <tr>\n",
       "      <th>Com</th>\n",
       "      <td>0.007864</td>\n",
       "      <td>0.008301</td>\n",
       "    </tr>\n",
       "  </tbody>\n",
       "</table>\n",
       "</div>"
      ],
      "text/plain": [
       "              Mère      Père\n",
       "France    0.724192  0.715175\n",
       "Étranger  0.234397  0.241002\n",
       "Drom      0.033547  0.035522\n",
       "Com       0.007864  0.008301"
      ]
     },
     "execution_count": 282,
     "metadata": {},
     "output_type": "execute_result"
    }
   ],
   "source": [
    "pd.DataFrame({\"Mère\": df_naissances_ec.indlnm.value_counts(normalize = True, dropna = False), \n",
    "              \"Père\":df_naissances_ec.indlnp.value_counts(normalize = True, dropna = False)}\n",
    "            ).rename({1:\"France\", 2:\"Drom\",3:\"Com\",4:\"Étranger\",np.NaN:\"Non renseigné\"})\n",
    "    "
   ]
  },
  {
   "cell_type": "markdown",
   "metadata": {},
   "source": [
    "TODO mix origine et nationalité"
   ]
  },
  {
   "cell_type": "markdown",
   "metadata": {},
   "source": [
    "### Moyen de garde d'enfants"
   ]
  },
  {
   "cell_type": "code",
   "execution_count": null,
   "metadata": {},
   "outputs": [],
   "source": []
  },
  {
   "cell_type": "code",
   "execution_count": 283,
   "metadata": {},
   "outputs": [],
   "source": [
    "# import urllib\n",
    "\n",
    "# try:\n",
    "    \n",
    "#     df_moyen_de_garde = pd.read_csv(\"coucou\", delimiter=\",\", low_memory=False)\n",
    "# except FileNotFoundError:\n",
    "#     url =\"https://drees.solidarites-sante.gouv.fr/IMG/xlsx/l_offre_d_accueil_des_enfants_de_moins_de_3_ans_-_series_longues_et_resultats_detailles_2018.xlsx\"\n",
    "#     r = requests.get(url)\n",
    "#     with open('garde_enfants_par_departement.xlsx', 'wb') as outfile:\n",
    "#         outfile.write(r.content)\n",
    "#     #df_votes = pd.read_csv(\"presidentielles_tour_1_2017.csv\", delimiter=\";\", low_memory=False)"
   ]
  },
  {
   "cell_type": "code",
   "execution_count": 284,
   "metadata": {},
   "outputs": [],
   "source": [
    "df_garde_enf_2018 = (pd.read_excel(data_path + \"acceuil_enfants_2018.xlsx\", header = 3,sheet_name=\" T1 Total 2018\"\n",
    "                            ).drop(['Crèches collectives', 'Haltes-garderies', \"Jardins d'éveil\", \"Jardins d'enfants\"], axis=1)\n",
    "                             .rename({\"Total \":\"Mono_acceuil\", \"Unnamed: 7\":\"Multi_acceuil\", \"Unnamed: 8\":\"tot_mono_multi_acceuil\", \"Unnamed: 1\":\"Nom_DEP\"}, axis = 1)\n",
    "                            .iloc[0:100,:-1]\n",
    "               )"
   ]
  },
  {
   "cell_type": "code",
   "execution_count": null,
   "metadata": {},
   "outputs": [],
   "source": []
  },
  {
   "cell_type": "code",
   "execution_count": 285,
   "metadata": {},
   "outputs": [],
   "source": [
    "df_garde_enf_2010_2018 = (pd.read_excel(data_path + \"acceuil_enfants_2018.xlsx\", header = 2,sheet_name=\"T24 2010-2017 multi ETAB\"\n",
    "                            )\n",
    "                            .iloc[0:100,:]\n",
    "                            .rename({\"DÉPARTEMENTS\":\"DEP\"}, axis = 1)\n",
    "               )\n",
    "df_garde_enf_2010_2018[list(range(2010,2019))] = df_garde_enf_2010_2018[list(range(2010,2019))].apply(pd.to_numeric, errors='coerce')"
   ]
  },
  {
   "cell_type": "code",
   "execution_count": 286,
   "metadata": {},
   "outputs": [],
   "source": [
    "df_garde_enf_2010_2018 = (pd.read_excel(data_path + \"acceuil_enfants_2018.xlsx\", header = 2,sheet_name=\"T14 2010-2018 total collec \"\n",
    "                            )\n",
    "                            .iloc[0:100,:]\n",
    "                            .rename({\"DÉPARTEMENTS\":\"DEP\"}, axis = 1)\n",
    "               )\n",
    "df_garde_enf_2010_2018[list(range(2010,2019))] = df_garde_enf_2010_2018[list(range(2010,2019))].apply(pd.to_numeric, errors='coerce')"
   ]
  },
  {
   "cell_type": "code",
   "execution_count": 287,
   "metadata": {},
   "outputs": [
    {
     "data": {
      "text/html": [
       "<div>\n",
       "<style scoped>\n",
       "    .dataframe tbody tr th:only-of-type {\n",
       "        vertical-align: middle;\n",
       "    }\n",
       "\n",
       "    .dataframe tbody tr th {\n",
       "        vertical-align: top;\n",
       "    }\n",
       "\n",
       "    .dataframe thead th {\n",
       "        text-align: right;\n",
       "    }\n",
       "</style>\n",
       "<table border=\"1\" class=\"dataframe\">\n",
       "  <thead>\n",
       "    <tr style=\"text-align: right;\">\n",
       "      <th></th>\n",
       "      <th>DEP</th>\n",
       "      <th>Unnamed: 1</th>\n",
       "      <th>2010</th>\n",
       "      <th>2011</th>\n",
       "      <th>2012</th>\n",
       "      <th>2013</th>\n",
       "      <th>2014</th>\n",
       "      <th>2015</th>\n",
       "      <th>2016</th>\n",
       "      <th>2017</th>\n",
       "      <th>2018</th>\n",
       "    </tr>\n",
       "  </thead>\n",
       "  <tbody>\n",
       "    <tr>\n",
       "      <th>0</th>\n",
       "      <td>01</td>\n",
       "      <td>Ain</td>\n",
       "      <td>2204.0</td>\n",
       "      <td>2337.0</td>\n",
       "      <td>2496.0</td>\n",
       "      <td>2520.0</td>\n",
       "      <td>2675.0</td>\n",
       "      <td>2782.0</td>\n",
       "      <td>2891.0</td>\n",
       "      <td>3017.0</td>\n",
       "      <td>2994.0</td>\n",
       "    </tr>\n",
       "    <tr>\n",
       "      <th>1</th>\n",
       "      <td>02</td>\n",
       "      <td>Aisne</td>\n",
       "      <td>799.0</td>\n",
       "      <td>764.0</td>\n",
       "      <td>748.0</td>\n",
       "      <td>807.0</td>\n",
       "      <td>902.0</td>\n",
       "      <td>947.0</td>\n",
       "      <td>947.0</td>\n",
       "      <td>1111.0</td>\n",
       "      <td>1201.0</td>\n",
       "    </tr>\n",
       "    <tr>\n",
       "      <th>2</th>\n",
       "      <td>03</td>\n",
       "      <td>Allier</td>\n",
       "      <td>695.0</td>\n",
       "      <td>750.0</td>\n",
       "      <td>814.0</td>\n",
       "      <td>878.0</td>\n",
       "      <td>928.0</td>\n",
       "      <td>854.0</td>\n",
       "      <td>1017.0</td>\n",
       "      <td>1034.0</td>\n",
       "      <td>827.0</td>\n",
       "    </tr>\n",
       "    <tr>\n",
       "      <th>3</th>\n",
       "      <td>04</td>\n",
       "      <td>Alpes de Haute-Provence</td>\n",
       "      <td>979.0</td>\n",
       "      <td>979.0</td>\n",
       "      <td>1028.0</td>\n",
       "      <td>992.0</td>\n",
       "      <td>1048.0</td>\n",
       "      <td>1052.0</td>\n",
       "      <td>1052.0</td>\n",
       "      <td>1021.0</td>\n",
       "      <td>1078.0</td>\n",
       "    </tr>\n",
       "    <tr>\n",
       "      <th>4</th>\n",
       "      <td>05</td>\n",
       "      <td>Hautes-Alpes</td>\n",
       "      <td>819.0</td>\n",
       "      <td>835.0</td>\n",
       "      <td>841.0</td>\n",
       "      <td>818.0</td>\n",
       "      <td>891.0</td>\n",
       "      <td>917.0</td>\n",
       "      <td>854.0</td>\n",
       "      <td>968.0</td>\n",
       "      <td>977.0</td>\n",
       "    </tr>\n",
       "    <tr>\n",
       "      <th>...</th>\n",
       "      <td>...</td>\n",
       "      <td>...</td>\n",
       "      <td>...</td>\n",
       "      <td>...</td>\n",
       "      <td>...</td>\n",
       "      <td>...</td>\n",
       "      <td>...</td>\n",
       "      <td>...</td>\n",
       "      <td>...</td>\n",
       "      <td>...</td>\n",
       "      <td>...</td>\n",
       "    </tr>\n",
       "    <tr>\n",
       "      <th>95</th>\n",
       "      <td>92</td>\n",
       "      <td>Hauts-de-Seine</td>\n",
       "      <td>22026.0</td>\n",
       "      <td>22388.0</td>\n",
       "      <td>23129.0</td>\n",
       "      <td>23674.0</td>\n",
       "      <td>24160.0</td>\n",
       "      <td>24599.0</td>\n",
       "      <td>26394.0</td>\n",
       "      <td>25701.0</td>\n",
       "      <td>26077.0</td>\n",
       "    </tr>\n",
       "    <tr>\n",
       "      <th>96</th>\n",
       "      <td>93</td>\n",
       "      <td>Seine-Saint-Denis</td>\n",
       "      <td>10925.0</td>\n",
       "      <td>11407.0</td>\n",
       "      <td>11853.0</td>\n",
       "      <td>12341.0</td>\n",
       "      <td>12603.0</td>\n",
       "      <td>12892.0</td>\n",
       "      <td>13255.0</td>\n",
       "      <td>13689.0</td>\n",
       "      <td>13818.0</td>\n",
       "    </tr>\n",
       "    <tr>\n",
       "      <th>97</th>\n",
       "      <td>94</td>\n",
       "      <td>Val-de-Marne</td>\n",
       "      <td>13109.0</td>\n",
       "      <td>13909.0</td>\n",
       "      <td>13977.0</td>\n",
       "      <td>13926.0</td>\n",
       "      <td>15081.0</td>\n",
       "      <td>15028.0</td>\n",
       "      <td>15045.0</td>\n",
       "      <td>16267.0</td>\n",
       "      <td>16349.0</td>\n",
       "    </tr>\n",
       "    <tr>\n",
       "      <th>98</th>\n",
       "      <td>95</td>\n",
       "      <td>Val-d'Oise</td>\n",
       "      <td>4798.0</td>\n",
       "      <td>5213.0</td>\n",
       "      <td>5401.0</td>\n",
       "      <td>5601.0</td>\n",
       "      <td>6074.0</td>\n",
       "      <td>6311.0</td>\n",
       "      <td>6673.0</td>\n",
       "      <td>6875.0</td>\n",
       "      <td>6961.0</td>\n",
       "    </tr>\n",
       "    <tr>\n",
       "      <th>99</th>\n",
       "      <td>971</td>\n",
       "      <td>Guadeloupe</td>\n",
       "      <td>2513.0</td>\n",
       "      <td>2680.0</td>\n",
       "      <td>2689.0</td>\n",
       "      <td>2571.0</td>\n",
       "      <td>3348.0</td>\n",
       "      <td>2593.0</td>\n",
       "      <td>2443.0</td>\n",
       "      <td>2623.0</td>\n",
       "      <td>2464.0</td>\n",
       "    </tr>\n",
       "  </tbody>\n",
       "</table>\n",
       "<p>100 rows × 11 columns</p>\n",
       "</div>"
      ],
      "text/plain": [
       "    DEP               Unnamed: 1     2010     2011     2012     2013     2014  \\\n",
       "0    01                      Ain   2204.0   2337.0   2496.0   2520.0   2675.0   \n",
       "1    02                    Aisne    799.0    764.0    748.0    807.0    902.0   \n",
       "2    03                   Allier    695.0    750.0    814.0    878.0    928.0   \n",
       "3    04  Alpes de Haute-Provence    979.0    979.0   1028.0    992.0   1048.0   \n",
       "4    05             Hautes-Alpes    819.0    835.0    841.0    818.0    891.0   \n",
       "..  ...                      ...      ...      ...      ...      ...      ...   \n",
       "95   92           Hauts-de-Seine  22026.0  22388.0  23129.0  23674.0  24160.0   \n",
       "96   93        Seine-Saint-Denis  10925.0  11407.0  11853.0  12341.0  12603.0   \n",
       "97   94             Val-de-Marne  13109.0  13909.0  13977.0  13926.0  15081.0   \n",
       "98   95               Val-d'Oise   4798.0   5213.0   5401.0   5601.0   6074.0   \n",
       "99  971               Guadeloupe   2513.0   2680.0   2689.0   2571.0   3348.0   \n",
       "\n",
       "       2015     2016     2017     2018  \n",
       "0    2782.0   2891.0   3017.0   2994.0  \n",
       "1     947.0    947.0   1111.0   1201.0  \n",
       "2     854.0   1017.0   1034.0    827.0  \n",
       "3    1052.0   1052.0   1021.0   1078.0  \n",
       "4     917.0    854.0    968.0    977.0  \n",
       "..      ...      ...      ...      ...  \n",
       "95  24599.0  26394.0  25701.0  26077.0  \n",
       "96  12892.0  13255.0  13689.0  13818.0  \n",
       "97  15028.0  15045.0  16267.0  16349.0  \n",
       "98   6311.0   6673.0   6875.0   6961.0  \n",
       "99   2593.0   2443.0   2623.0   2464.0  \n",
       "\n",
       "[100 rows x 11 columns]"
      ]
     },
     "execution_count": 287,
     "metadata": {},
     "output_type": "execute_result"
    }
   ],
   "source": [
    "df_garde_enf_2010_2018"
   ]
  },
  {
   "cell_type": "code",
   "execution_count": 288,
   "metadata": {},
   "outputs": [
    {
     "name": "stdout",
     "output_type": "stream",
     "text": [
      "<class 'pandas.core.frame.DataFrame'>\n",
      "RangeIndex: 100 entries, 0 to 99\n",
      "Data columns (total 11 columns):\n",
      " #   Column      Non-Null Count  Dtype  \n",
      "---  ------      --------------  -----  \n",
      " 0   DEP         100 non-null    object \n",
      " 1   Unnamed: 1  100 non-null    object \n",
      " 2   2010        98 non-null     float64\n",
      " 3   2011        98 non-null     float64\n",
      " 4   2012        98 non-null     float64\n",
      " 5   2013        98 non-null     float64\n",
      " 6   2014        98 non-null     float64\n",
      " 7   2015        100 non-null    float64\n",
      " 8   2016        100 non-null    float64\n",
      " 9   2017        100 non-null    float64\n",
      " 10  2018        98 non-null     float64\n",
      "dtypes: float64(9), object(2)\n",
      "memory usage: 8.7+ KB\n"
     ]
    }
   ],
   "source": [
    "df_garde_enf_2010_2018.info()"
   ]
  },
  {
   "cell_type": "code",
   "execution_count": 289,
   "metadata": {},
   "outputs": [
    {
     "name": "stdout",
     "output_type": "stream",
     "text": [
      "<class 'pandas.core.frame.DataFrame'>\n",
      "RangeIndex: 100 entries, 0 to 99\n",
      "Data columns (total 11 columns):\n",
      " #   Column      Non-Null Count  Dtype \n",
      "---  ------      --------------  ----- \n",
      " 0   DEP         100 non-null    object\n",
      " 1   Unnamed: 1  100 non-null    string\n",
      " 2   2010        98 non-null     Int64 \n",
      " 3   2011        98 non-null     Int64 \n",
      " 4   2012        98 non-null     Int64 \n",
      " 5   2013        98 non-null     Int64 \n",
      " 6   2014        98 non-null     Int64 \n",
      " 7   2015        100 non-null    Int64 \n",
      " 8   2016        100 non-null    Int64 \n",
      " 9   2017        100 non-null    Int64 \n",
      " 10  2018        98 non-null     Int64 \n",
      "dtypes: Int64(9), object(1), string(1)\n",
      "memory usage: 9.6+ KB\n"
     ]
    }
   ],
   "source": [
    "df_garde_enf_2010_2018.convert_dtypes().info()"
   ]
  },
  {
   "cell_type": "markdown",
   "metadata": {},
   "source": [
    "#### Evolution de la garde d'enfants"
   ]
  },
  {
   "cell_type": "code",
   "execution_count": 290,
   "metadata": {},
   "outputs": [],
   "source": [
    "## Transformer cellules ci-dessous avec des assign"
   ]
  },
  {
   "cell_type": "code",
   "execution_count": 291,
   "metadata": {},
   "outputs": [
    {
     "data": {
      "application/javascript": [
       "\n",
       "        if (window._pyforest_update_imports_cell) { window._pyforest_update_imports_cell('import numpy as np\\nimport seaborn as sns\\nimport pandas as pd\\nimport matplotlib.pyplot as plt'); }\n",
       "    "
      ],
      "text/plain": [
       "<IPython.core.display.Javascript object>"
      ]
     },
     "metadata": {},
     "output_type": "display_data"
    }
   ],
   "source": [
    "q = [0.2, 0.4,0.6,0.8]\n",
    "\n",
    "\n",
    "df_garde_enf_2010_2018[\"delta_r_2010_2018\"] = ((df_garde_enf_2010_2018[2018]-df_garde_enf_2010_2018[2010])/df_garde_enf_2010_2018[2010])\n",
    "df_garde_enf_2010_2018[\"ratio_2010_2018\"] = (df_garde_enf_2010_2018[2018]/df_garde_enf_2010_2018[2010])\n",
    "df_garde_enf_2010_2018[\"log_delta_2010_2018\"] = np.log(df_garde_enf_2010_2018[2018]/df_garde_enf_2010_2018[2010])\n",
    "#df_garde_enf_2010_2018[\"delta_2010_2018\"].describe(percentiles = q)\n",
    "delta_garde_enf_2010_2018 = df_garde_enf_2010_2018[\"delta_r_2010_2018\"]\n",
    "df_garde_enf_2010_2018[\"delta_2010_2018_quintile\"] = pd.qcut(delta_garde_enf_2010_2018, 5, labels = False)+1\n",
    "df_garde_enf_2010_2018 = df_garde_enf_2010_2018.dropna() #Enlève la Corse, et garde que Rhône 69 qui est la somme de Rhône et Lyon Métropole"
   ]
  },
  {
   "cell_type": "code",
   "execution_count": 292,
   "metadata": {},
   "outputs": [
    {
     "data": {
      "image/png": "[encoded data removed]",
      "text/plain": [
       "<Figure size 864x288 with 2 Axes>"
      ]
     },
     "metadata": {
      "needs_background": "light"
     },
     "output_type": "display_data"
    }
   ],
   "source": [
    "df_garde_enf_2010_2018[[\"log_delta_2010_2018\", \"ratio_2010_2018\"]].hist(bins = 12, figsize=(12,4));"
   ]
  },
  {
   "cell_type": "code",
   "execution_count": 293,
   "metadata": {},
   "outputs": [
    {
     "data": {
      "text/plain": [
       "<matplotlib.axes._subplots.AxesSubplot at 0x1204f9820>"
      ]
     },
     "execution_count": 293,
     "metadata": {},
     "output_type": "execute_result"
    },
    {
     "data": {
      "image/png": "[encoded data removed]",
      "text/plain": [
       "<Figure size 432x288 with 1 Axes>"
      ]
     },
     "metadata": {
      "needs_background": "light"
     },
     "output_type": "display_data"
    }
   ],
   "source": [
    "df_garde_enf_2010_2018.log_delta_2010_2018.hist(bins = 12)"
   ]
  },
  {
   "cell_type": "markdown",
   "metadata": {},
   "source": [
    "#### On peut regarder l'évolution du nombre de naissance par département en fonction du quintile de l'évolution de nombre de place de garde"
   ]
  },
  {
   "cell_type": "code",
   "execution_count": 294,
   "metadata": {},
   "outputs": [],
   "source": [
    "df_grpby_DEP = df.groupby(\"DEP\").sum()"
   ]
  },
  {
   "cell_type": "code",
   "execution_count": 295,
   "metadata": {},
   "outputs": [
    {
     "data": {
      "application/javascript": [
       "\n",
       "        if (window._pyforest_update_imports_cell) { window._pyforest_update_imports_cell('import numpy as np\\nimport seaborn as sns\\nimport pandas as pd\\nimport matplotlib.pyplot as plt'); }\n",
       "    "
      ],
      "text/plain": [
       "<IPython.core.display.Javascript object>"
      ]
     },
     "metadata": {},
     "output_type": "display_data"
    }
   ],
   "source": [
    "df_grpby_DEP_2 = df.groupby(\"DEP\").agg({\"Quantile_income\":np.mean})"
   ]
  },
  {
   "cell_type": "code",
   "execution_count": 296,
   "metadata": {},
   "outputs": [],
   "source": [
    "df_grpby_DEP = pd.concat([df_grpby_DEP[nais_year_variables], df_grpby_DEP_2], axis = 1)"
   ]
  },
  {
   "cell_type": "code",
   "execution_count": 297,
   "metadata": {},
   "outputs": [],
   "source": [
    "#df_garde_enf.columns"
   ]
  },
  {
   "cell_type": "code",
   "execution_count": 298,
   "metadata": {},
   "outputs": [
    {
     "name": "stdout",
     "output_type": "stream",
     "text": [
      "<class 'pandas.core.frame.DataFrame'>\n",
      "Int64Index: 96 entries, 0 to 99\n",
      "Data columns (total 15 columns):\n",
      " #   Column                    Non-Null Count  Dtype  \n",
      "---  ------                    --------------  -----  \n",
      " 0   DEP                       96 non-null     object \n",
      " 1   Unnamed: 1                96 non-null     object \n",
      " 2   2010                      96 non-null     float64\n",
      " 3   2011                      96 non-null     float64\n",
      " 4   2012                      96 non-null     float64\n",
      " 5   2013                      96 non-null     float64\n",
      " 6   2014                      96 non-null     float64\n",
      " 7   2015                      96 non-null     float64\n",
      " 8   2016                      96 non-null     float64\n",
      " 9   2017                      96 non-null     float64\n",
      " 10  2018                      96 non-null     float64\n",
      " 11  delta_r_2010_2018         96 non-null     float64\n",
      " 12  ratio_2010_2018           96 non-null     float64\n",
      " 13  log_delta_2010_2018       96 non-null     float64\n",
      " 14  delta_2010_2018_quintile  96 non-null     float64\n",
      "dtypes: float64(13), object(2)\n",
      "memory usage: 12.0+ KB\n"
     ]
    }
   ],
   "source": [
    "df_garde_enf_2010_2018.info()"
   ]
  },
  {
   "cell_type": "code",
   "execution_count": 299,
   "metadata": {},
   "outputs": [
    {
     "name": "stderr",
     "output_type": "stream",
     "text": [
      "/Users/adrienpacifico/Library/Caches/pypoetry/virtualenvs/fertility-freely-available-data-sources-Ebk-O8z8-py3.8/lib/python3.8/site-packages/pandas/core/generic.py:5303: SettingWithCopyWarning: \n",
      "A value is trying to be set on a copy of a slice from a DataFrame.\n",
      "Try using .loc[row_indexer,col_indexer] = value instead\n",
      "\n",
      "See the caveats in the documentation: https://pandas.pydata.org/pandas-docs/stable/user_guide/indexing.html#returning-a-view-versus-a-copy\n",
      "  self[name] = value\n"
     ]
    }
   ],
   "source": [
    "df_garde_enf_2010_2018.DEP = df_garde_enf_2010_2018.DEP.astype(\"str\")"
   ]
  },
  {
   "cell_type": "code",
   "execution_count": 300,
   "metadata": {},
   "outputs": [],
   "source": [
    "df_gard_nais = pd.merge(df_garde_enf_2010_2018,df_grpby_DEP.reset_index(), on=\"DEP\")"
   ]
  },
  {
   "cell_type": "code",
   "execution_count": 301,
   "metadata": {},
   "outputs": [
    {
     "data": {
      "text/plain": [
       "{'20R', '971'}"
      ]
     },
     "execution_count": 301,
     "metadata": {},
     "output_type": "execute_result"
    }
   ],
   "source": [
    "set(df_garde_enf_2010_2018.DEP) - set(df_gard_nais.DEP)"
   ]
  },
  {
   "cell_type": "code",
   "execution_count": 302,
   "metadata": {},
   "outputs": [
    {
     "data": {
      "text/plain": [
       "(94, 26)"
      ]
     },
     "execution_count": 302,
     "metadata": {},
     "output_type": "execute_result"
    }
   ],
   "source": [
    "df_gard_nais.shape"
   ]
  },
  {
   "cell_type": "code",
   "execution_count": 303,
   "metadata": {},
   "outputs": [
    {
     "data": {
      "text/plain": [
       "3.0    19\n",
       "1.0    19\n",
       "2.0    19\n",
       "5.0    19\n",
       "4.0    18\n",
       "Name: delta_2010_2018_quintile, dtype: int64"
      ]
     },
     "execution_count": 303,
     "metadata": {},
     "output_type": "execute_result"
    }
   ],
   "source": [
    "df_gard_nais.delta_2010_2018_quintile.value_counts()"
   ]
  },
  {
   "cell_type": "code",
   "execution_count": 304,
   "metadata": {},
   "outputs": [
    {
     "data": {
      "text/plain": [
       "delta_2010_2018_quintile\n",
       "1.0    19\n",
       "2.0    19\n",
       "3.0    19\n",
       "4.0    18\n",
       "5.0    19\n",
       "dtype: int64"
      ]
     },
     "execution_count": 304,
     "metadata": {},
     "output_type": "execute_result"
    }
   ],
   "source": [
    "df_gard_nais.groupby(\"delta_2010_2018_quintile\").size()"
   ]
  },
  {
   "cell_type": "code",
   "execution_count": 305,
   "metadata": {},
   "outputs": [
    {
     "data": {
      "text/html": [
       "<div>\n",
       "<style scoped>\n",
       "    .dataframe tbody tr th:only-of-type {\n",
       "        vertical-align: middle;\n",
       "    }\n",
       "\n",
       "    .dataframe tbody tr th {\n",
       "        vertical-align: top;\n",
       "    }\n",
       "\n",
       "    .dataframe thead th {\n",
       "        text-align: right;\n",
       "    }\n",
       "</style>\n",
       "<table border=\"1\" class=\"dataframe\">\n",
       "  <thead>\n",
       "    <tr style=\"text-align: right;\">\n",
       "      <th></th>\n",
       "      <th>NAISD09</th>\n",
       "      <th>NAISD10</th>\n",
       "      <th>NAISD11</th>\n",
       "      <th>NAISD12</th>\n",
       "      <th>NAISD13</th>\n",
       "      <th>NAISD14</th>\n",
       "      <th>NAISD15</th>\n",
       "      <th>NAISD16</th>\n",
       "      <th>NAISD17</th>\n",
       "      <th>NAISD18</th>\n",
       "    </tr>\n",
       "    <tr>\n",
       "      <th>delta_2010_2018_quintile</th>\n",
       "      <th></th>\n",
       "      <th></th>\n",
       "      <th></th>\n",
       "      <th></th>\n",
       "      <th></th>\n",
       "      <th></th>\n",
       "      <th></th>\n",
       "      <th></th>\n",
       "      <th></th>\n",
       "      <th></th>\n",
       "    </tr>\n",
       "  </thead>\n",
       "  <tbody>\n",
       "    <tr>\n",
       "      <th>1.0</th>\n",
       "      <td>80795.0</td>\n",
       "      <td>81482.0</td>\n",
       "      <td>79892.0</td>\n",
       "      <td>79289.0</td>\n",
       "      <td>77717.0</td>\n",
       "      <td>77152.0</td>\n",
       "      <td>73979.0</td>\n",
       "      <td>72770</td>\n",
       "      <td>70284</td>\n",
       "      <td>68669</td>\n",
       "    </tr>\n",
       "    <tr>\n",
       "      <th>2.0</th>\n",
       "      <td>161258.0</td>\n",
       "      <td>162424.0</td>\n",
       "      <td>160606.0</td>\n",
       "      <td>160910.0</td>\n",
       "      <td>159932.0</td>\n",
       "      <td>160681.0</td>\n",
       "      <td>157504.0</td>\n",
       "      <td>154733</td>\n",
       "      <td>152071</td>\n",
       "      <td>150324</td>\n",
       "    </tr>\n",
       "    <tr>\n",
       "      <th>3.0</th>\n",
       "      <td>182121.0</td>\n",
       "      <td>184777.0</td>\n",
       "      <td>182942.0</td>\n",
       "      <td>182710.0</td>\n",
       "      <td>180420.0</td>\n",
       "      <td>180518.0</td>\n",
       "      <td>177217.0</td>\n",
       "      <td>172714</td>\n",
       "      <td>169778</td>\n",
       "      <td>167230</td>\n",
       "    </tr>\n",
       "    <tr>\n",
       "      <th>4.0</th>\n",
       "      <td>189380.0</td>\n",
       "      <td>191441.0</td>\n",
       "      <td>189024.0</td>\n",
       "      <td>188320.0</td>\n",
       "      <td>186041.0</td>\n",
       "      <td>186112.0</td>\n",
       "      <td>180810.0</td>\n",
       "      <td>177501</td>\n",
       "      <td>173797</td>\n",
       "      <td>172465</td>\n",
       "    </tr>\n",
       "    <tr>\n",
       "      <th>5.0</th>\n",
       "      <td>161959.0</td>\n",
       "      <td>164361.0</td>\n",
       "      <td>162430.0</td>\n",
       "      <td>161168.0</td>\n",
       "      <td>159867.0</td>\n",
       "      <td>159101.0</td>\n",
       "      <td>153572.0</td>\n",
       "      <td>150003</td>\n",
       "      <td>148093</td>\n",
       "      <td>144640</td>\n",
       "    </tr>\n",
       "  </tbody>\n",
       "</table>\n",
       "</div>"
      ],
      "text/plain": [
       "                           NAISD09   NAISD10   NAISD11   NAISD12   NAISD13  \\\n",
       "delta_2010_2018_quintile                                                     \n",
       "1.0                        80795.0   81482.0   79892.0   79289.0   77717.0   \n",
       "2.0                       161258.0  162424.0  160606.0  160910.0  159932.0   \n",
       "3.0                       182121.0  184777.0  182942.0  182710.0  180420.0   \n",
       "4.0                       189380.0  191441.0  189024.0  188320.0  186041.0   \n",
       "5.0                       161959.0  164361.0  162430.0  161168.0  159867.0   \n",
       "\n",
       "                           NAISD14   NAISD15  NAISD16  NAISD17  NAISD18  \n",
       "delta_2010_2018_quintile                                                 \n",
       "1.0                        77152.0   73979.0    72770    70284    68669  \n",
       "2.0                       160681.0  157504.0   154733   152071   150324  \n",
       "3.0                       180518.0  177217.0   172714   169778   167230  \n",
       "4.0                       186112.0  180810.0   177501   173797   172465  \n",
       "5.0                       159101.0  153572.0   150003   148093   144640  "
      ]
     },
     "execution_count": 305,
     "metadata": {},
     "output_type": "execute_result"
    }
   ],
   "source": [
    "df_gard_nais.groupby(\"delta_2010_2018_quintile\").sum()[nais_year_variables]"
   ]
  },
  {
   "cell_type": "code",
   "execution_count": 306,
   "metadata": {},
   "outputs": [
    {
     "data": {
      "text/plain": [
       "<matplotlib.axes._subplots.AxesSubplot at 0x17092c2e0>"
      ]
     },
     "execution_count": 306,
     "metadata": {},
     "output_type": "execute_result"
    },
    {
     "data": {
      "image/png": "[encoded data removed]",
      "text/plain": [
       "<Figure size 432x288 with 1 Axes>"
      ]
     },
     "metadata": {
      "needs_background": "light"
     },
     "output_type": "display_data"
    }
   ],
   "source": [
    "(df_gard_nais.groupby(\"delta_2010_2018_quintile\").sum()[nais_year_variables].T/df_gard_nais.groupby(\"delta_2010_2018_quintile\").sum()[\"NAISD10\"]).plot()"
   ]
  },
  {
   "cell_type": "code",
   "execution_count": 307,
   "metadata": {},
   "outputs": [
    {
     "data": {
      "text/plain": [
       "<matplotlib.axes._subplots.AxesSubplot at 0x15bdbd7c0>"
      ]
     },
     "execution_count": 307,
     "metadata": {},
     "output_type": "execute_result"
    },
    {
     "data": {
      "image/png": "[encoded data removed]",
      "text/plain": [
       "<Figure size 432x288 with 1 Axes>"
      ]
     },
     "metadata": {
      "needs_background": "light"
     },
     "output_type": "display_data"
    }
   ],
   "source": [
    "(df.groupby(\"Quantile_income\")[nais_year_variables].sum().T/df.groupby(\"Quantile_income\")[\"NAISD10\"].sum().values).plot()"
   ]
  },
  {
   "cell_type": "code",
   "execution_count": 308,
   "metadata": {},
   "outputs": [
    {
     "data": {
      "text/html": [
       "<div>\n",
       "<style scoped>\n",
       "    .dataframe tbody tr th:only-of-type {\n",
       "        vertical-align: middle;\n",
       "    }\n",
       "\n",
       "    .dataframe tbody tr th {\n",
       "        vertical-align: top;\n",
       "    }\n",
       "\n",
       "    .dataframe thead th {\n",
       "        text-align: right;\n",
       "    }\n",
       "</style>\n",
       "<table border=\"1\" class=\"dataframe\">\n",
       "  <thead>\n",
       "    <tr style=\"text-align: right;\">\n",
       "      <th></th>\n",
       "      <th>Quantile_income</th>\n",
       "      <th>delta_2010_2018_quintile</th>\n",
       "    </tr>\n",
       "  </thead>\n",
       "  <tbody>\n",
       "    <tr>\n",
       "      <th>Quantile_income</th>\n",
       "      <td>1.000000</td>\n",
       "      <td>0.190898</td>\n",
       "    </tr>\n",
       "    <tr>\n",
       "      <th>delta_2010_2018_quintile</th>\n",
       "      <td>0.190898</td>\n",
       "      <td>1.000000</td>\n",
       "    </tr>\n",
       "  </tbody>\n",
       "</table>\n",
       "</div>"
      ],
      "text/plain": [
       "                          Quantile_income  delta_2010_2018_quintile\n",
       "Quantile_income                  1.000000                  0.190898\n",
       "delta_2010_2018_quintile         0.190898                  1.000000"
      ]
     },
     "execution_count": 308,
     "metadata": {},
     "output_type": "execute_result"
    }
   ],
   "source": [
    "df_gard_nais[[\"Quantile_income\",\"delta_2010_2018_quintile\" ]].astype(\"float\").corr()"
   ]
  },
  {
   "cell_type": "markdown",
   "metadata": {},
   "source": [
    "### Vote aux élections"
   ]
  },
  {
   "cell_type": "markdown",
   "metadata": {},
   "source": [
    "#### Vote aux élections présidentielles de 2017"
   ]
  },
  {
   "cell_type": "code",
   "execution_count": null,
   "metadata": {},
   "outputs": [],
   "source": []
  },
  {
   "cell_type": "code",
   "execution_count": 309,
   "metadata": {},
   "outputs": [],
   "source": [
    "class Enfant:\n",
    "    enfant = True\n",
    "    def __init__(self, age=None, nom=None):\n",
    "        self.nom = nom\n",
    "        self.age = age\n",
    "        self.notes = []\n",
    "        if self.age is None:\n",
    "            self.age = input(\"Quel est son age ?\")\n",
    "        if self.nom is None:\n",
    "            self.nom = input(\"Quel est son nom ?\")\n",
    "    def controle(self):\n",
    "        self.notes.append(np.random.randint(0,20))\n",
    "        "
   ]
  },
  {
   "cell_type": "code",
   "execution_count": 310,
   "metadata": {},
   "outputs": [],
   "source": [
    "#un_enfant = Enfant(24)"
   ]
  },
  {
   "cell_type": "code",
   "execution_count": 311,
   "metadata": {},
   "outputs": [],
   "source": [
    "#un_enfant.controle()"
   ]
  },
  {
   "cell_type": "code",
   "execution_count": 312,
   "metadata": {},
   "outputs": [],
   "source": [
    "#un_enfant.notes"
   ]
  },
  {
   "cell_type": "code",
   "execution_count": 313,
   "metadata": {},
   "outputs": [],
   "source": [
    "import pandas as pd"
   ]
  },
  {
   "cell_type": "code",
   "execution_count": 314,
   "metadata": {},
   "outputs": [],
   "source": [
    "import urllib\n",
    "\n",
    "try:\n",
    "    df_votes = pd.read_csv(\"presidentielles_tour_1_2017.csv\", delimiter=\",\", low_memory=False)\n",
    "except FileNotFoundError:\n",
    "    urllib.request.urlretrieve(\"https://www.data.gouv.fr/fr/datasets/r/d61a1778-3db4-4f15-bf67-f7d0429a813b\", \"presidentielles_tour_1_2017.csv\")\n",
    "    df_votes = pd.read_csv(\"presidentielles_tour_1_2017.csv\", delimiter=\",\", low_memory=False)\n",
    "    \n",
    "    \n",
    "    \n",
    "    #urllib.request.urlretrieve(\"https://www.data.gouv.fr/s/resources/election-presidentielle-des-23-avril-et-7-mai-2017-resultats-definitifs-du-1er-tour-par-communes/20170427-100544/Presidentielle_2017_Resultats_Communes_Tour_1_c.xls\", \"municipales_tour2_2014.csv\")\n",
    "    #df_votes = pd.read_csv(\"municipales_tour2_2014.csv\", delimiter=\";\", low_memory=False)\n",
    "    \n",
    "    #urllib.request.urlretrieve(\"http://www.regardscitoyens.org/telechargement/donnees/elections/2014_municipales/municipales-2014-r%C3%A9sultats-bureaux_vote-tour2.csv\", \"municipales_tour2_2014.csv\")\n",
    "    #df_votes = pd.read_csv(\"municipales_tour2_2014.csv\", delimiter=\";\", low_memory=False)\n",
    "    \n",
    "    \n",
    "    #urllib.request.urlretrieve(\"http://www.regardscitoyens.org/telechargement/donnees/elections/2014_europeennes/europ%C3%A9ennes-2014-r%C3%A9sultats-bureaux_vote-tour1.csv\", \"europeennes_2014.csv\")\n",
    "    #df_votes = pd.read_csv(\"europeennes_2014.csv\", delimiter=\";\", low_memory=False)"
   ]
  },
  {
   "cell_type": "code",
   "execution_count": 315,
   "metadata": {},
   "outputs": [
    {
     "name": "stdout",
     "output_type": "stream",
     "text": [
      "<class 'pandas.core.frame.DataFrame'>\n",
      "RangeIndex: 35719 entries, 0 to 35718\n",
      "Data columns (total 12 columns):\n",
      " #   Column         Non-Null Count  Dtype \n",
      "---  ------         --------------  ----- \n",
      " 0   dc             35719 non-null  object\n",
      " 1   ARTHAUD        35719 non-null  int64 \n",
      " 2   ASSELINEAU     35719 non-null  int64 \n",
      " 3   CHEMINADE      35719 non-null  int64 \n",
      " 4   DUPONT-AIGNAN  35719 non-null  int64 \n",
      " 5   FILLON         35719 non-null  int64 \n",
      " 6   HAMON          35719 non-null  int64 \n",
      " 7   LASSALLE       35719 non-null  int64 \n",
      " 8   LE PEN         35719 non-null  int64 \n",
      " 9   MACRON         35719 non-null  int64 \n",
      " 10  MÉLENCHON      35719 non-null  int64 \n",
      " 11  POUTOU         35719 non-null  int64 \n",
      "dtypes: int64(11), object(1)\n",
      "memory usage: 3.3+ MB\n"
     ]
    }
   ],
   "source": [
    "df_votes.info()"
   ]
  },
  {
   "cell_type": "code",
   "execution_count": 316,
   "metadata": {},
   "outputs": [
    {
     "data": {
      "text/html": [
       "<div>\n",
       "<style scoped>\n",
       "    .dataframe tbody tr th:only-of-type {\n",
       "        vertical-align: middle;\n",
       "    }\n",
       "\n",
       "    .dataframe tbody tr th {\n",
       "        vertical-align: top;\n",
       "    }\n",
       "\n",
       "    .dataframe thead th {\n",
       "        text-align: right;\n",
       "    }\n",
       "</style>\n",
       "<table border=\"1\" class=\"dataframe\">\n",
       "  <thead>\n",
       "    <tr style=\"text-align: right;\">\n",
       "      <th></th>\n",
       "      <th>dc</th>\n",
       "      <th>ARTHAUD</th>\n",
       "      <th>ASSELINEAU</th>\n",
       "      <th>CHEMINADE</th>\n",
       "      <th>DUPONT-AIGNAN</th>\n",
       "      <th>FILLON</th>\n",
       "      <th>HAMON</th>\n",
       "      <th>LASSALLE</th>\n",
       "      <th>LE PEN</th>\n",
       "      <th>MACRON</th>\n",
       "      <th>MÉLENCHON</th>\n",
       "      <th>POUTOU</th>\n",
       "    </tr>\n",
       "  </thead>\n",
       "  <tbody>\n",
       "    <tr>\n",
       "      <th>0</th>\n",
       "      <td>01001</td>\n",
       "      <td>4</td>\n",
       "      <td>6</td>\n",
       "      <td>2</td>\n",
       "      <td>34</td>\n",
       "      <td>110</td>\n",
       "      <td>29</td>\n",
       "      <td>2</td>\n",
       "      <td>126</td>\n",
       "      <td>119</td>\n",
       "      <td>59</td>\n",
       "      <td>4</td>\n",
       "    </tr>\n",
       "    <tr>\n",
       "      <th>1</th>\n",
       "      <td>01002</td>\n",
       "      <td>2</td>\n",
       "      <td>1</td>\n",
       "      <td>0</td>\n",
       "      <td>6</td>\n",
       "      <td>34</td>\n",
       "      <td>13</td>\n",
       "      <td>0</td>\n",
       "      <td>48</td>\n",
       "      <td>37</td>\n",
       "      <td>33</td>\n",
       "      <td>2</td>\n",
       "    </tr>\n",
       "    <tr>\n",
       "      <th>2</th>\n",
       "      <td>01004</td>\n",
       "      <td>40</td>\n",
       "      <td>71</td>\n",
       "      <td>5</td>\n",
       "      <td>346</td>\n",
       "      <td>1084</td>\n",
       "      <td>344</td>\n",
       "      <td>60</td>\n",
       "      <td>1667</td>\n",
       "      <td>1332</td>\n",
       "      <td>1412</td>\n",
       "      <td>91</td>\n",
       "    </tr>\n",
       "    <tr>\n",
       "      <th>3</th>\n",
       "      <td>01005</td>\n",
       "      <td>5</td>\n",
       "      <td>10</td>\n",
       "      <td>0</td>\n",
       "      <td>45</td>\n",
       "      <td>197</td>\n",
       "      <td>37</td>\n",
       "      <td>6</td>\n",
       "      <td>306</td>\n",
       "      <td>191</td>\n",
       "      <td>126</td>\n",
       "      <td>10</td>\n",
       "    </tr>\n",
       "    <tr>\n",
       "      <th>4</th>\n",
       "      <td>01006</td>\n",
       "      <td>1</td>\n",
       "      <td>0</td>\n",
       "      <td>0</td>\n",
       "      <td>4</td>\n",
       "      <td>14</td>\n",
       "      <td>3</td>\n",
       "      <td>1</td>\n",
       "      <td>18</td>\n",
       "      <td>15</td>\n",
       "      <td>19</td>\n",
       "      <td>2</td>\n",
       "    </tr>\n",
       "    <tr>\n",
       "      <th>...</th>\n",
       "      <td>...</td>\n",
       "      <td>...</td>\n",
       "      <td>...</td>\n",
       "      <td>...</td>\n",
       "      <td>...</td>\n",
       "      <td>...</td>\n",
       "      <td>...</td>\n",
       "      <td>...</td>\n",
       "      <td>...</td>\n",
       "      <td>...</td>\n",
       "      <td>...</td>\n",
       "      <td>...</td>\n",
       "    </tr>\n",
       "    <tr>\n",
       "      <th>35714</th>\n",
       "      <td>ZZ226</td>\n",
       "      <td>2</td>\n",
       "      <td>3</td>\n",
       "      <td>0</td>\n",
       "      <td>1</td>\n",
       "      <td>62</td>\n",
       "      <td>10</td>\n",
       "      <td>0</td>\n",
       "      <td>16</td>\n",
       "      <td>115</td>\n",
       "      <td>26</td>\n",
       "      <td>1</td>\n",
       "    </tr>\n",
       "    <tr>\n",
       "      <th>35715</th>\n",
       "      <td>ZZ227</td>\n",
       "      <td>0</td>\n",
       "      <td>4</td>\n",
       "      <td>0</td>\n",
       "      <td>13</td>\n",
       "      <td>197</td>\n",
       "      <td>63</td>\n",
       "      <td>2</td>\n",
       "      <td>49</td>\n",
       "      <td>251</td>\n",
       "      <td>131</td>\n",
       "      <td>1</td>\n",
       "    </tr>\n",
       "    <tr>\n",
       "      <th>35716</th>\n",
       "      <td>ZZ228</td>\n",
       "      <td>0</td>\n",
       "      <td>6</td>\n",
       "      <td>0</td>\n",
       "      <td>8</td>\n",
       "      <td>65</td>\n",
       "      <td>14</td>\n",
       "      <td>1</td>\n",
       "      <td>35</td>\n",
       "      <td>92</td>\n",
       "      <td>30</td>\n",
       "      <td>0</td>\n",
       "    </tr>\n",
       "    <tr>\n",
       "      <th>35717</th>\n",
       "      <td>ZZ229</td>\n",
       "      <td>27</td>\n",
       "      <td>87</td>\n",
       "      <td>18</td>\n",
       "      <td>205</td>\n",
       "      <td>2893</td>\n",
       "      <td>567</td>\n",
       "      <td>41</td>\n",
       "      <td>622</td>\n",
       "      <td>4672</td>\n",
       "      <td>1050</td>\n",
       "      <td>61</td>\n",
       "    </tr>\n",
       "    <tr>\n",
       "      <th>35718</th>\n",
       "      <td>ZZ231</td>\n",
       "      <td>1</td>\n",
       "      <td>35</td>\n",
       "      <td>3</td>\n",
       "      <td>8</td>\n",
       "      <td>113</td>\n",
       "      <td>47</td>\n",
       "      <td>6</td>\n",
       "      <td>45</td>\n",
       "      <td>260</td>\n",
       "      <td>156</td>\n",
       "      <td>2</td>\n",
       "    </tr>\n",
       "  </tbody>\n",
       "</table>\n",
       "<p>35719 rows × 12 columns</p>\n",
       "</div>"
      ],
      "text/plain": [
       "          dc  ARTHAUD  ASSELINEAU  CHEMINADE  DUPONT-AIGNAN  FILLON  HAMON  \\\n",
       "0      01001        4           6          2             34     110     29   \n",
       "1      01002        2           1          0              6      34     13   \n",
       "2      01004       40          71          5            346    1084    344   \n",
       "3      01005        5          10          0             45     197     37   \n",
       "4      01006        1           0          0              4      14      3   \n",
       "...      ...      ...         ...        ...            ...     ...    ...   \n",
       "35714  ZZ226        2           3          0              1      62     10   \n",
       "35715  ZZ227        0           4          0             13     197     63   \n",
       "35716  ZZ228        0           6          0              8      65     14   \n",
       "35717  ZZ229       27          87         18            205    2893    567   \n",
       "35718  ZZ231        1          35          3              8     113     47   \n",
       "\n",
       "       LASSALLE  LE PEN  MACRON  MÉLENCHON  POUTOU  \n",
       "0             2     126     119         59       4  \n",
       "1             0      48      37         33       2  \n",
       "2            60    1667    1332       1412      91  \n",
       "3             6     306     191        126      10  \n",
       "4             1      18      15         19       2  \n",
       "...         ...     ...     ...        ...     ...  \n",
       "35714         0      16     115         26       1  \n",
       "35715         2      49     251        131       1  \n",
       "35716         1      35      92         30       0  \n",
       "35717        41     622    4672       1050      61  \n",
       "35718         6      45     260        156       2  \n",
       "\n",
       "[35719 rows x 12 columns]"
      ]
     },
     "execution_count": 316,
     "metadata": {},
     "output_type": "execute_result"
    }
   ],
   "source": [
    "df_votes"
   ]
  },
  {
   "cell_type": "code",
   "execution_count": 317,
   "metadata": {},
   "outputs": [],
   "source": [
    "#df_votes[\"CODGEO\"] = df_votes[\"Code département\"].str.cat(df_votes['Code commune'].astype(\"str\"))\n",
    "#df_votes = df_votes.groupby(\"CODGEO\").sum()"
   ]
  },
  {
   "cell_type": "code",
   "execution_count": 318,
   "metadata": {},
   "outputs": [],
   "source": [
    "#df_votes[\"Code nuance de la liste\"].value_counts()"
   ]
  },
  {
   "cell_type": "code",
   "execution_count": 319,
   "metadata": {},
   "outputs": [],
   "source": [
    "candidats = df_votes.iloc[:,1:].columns"
   ]
  },
  {
   "cell_type": "code",
   "execution_count": 320,
   "metadata": {},
   "outputs": [
    {
     "data": {
      "text/plain": [
       "Index(['ARTHAUD', 'ASSELINEAU', 'CHEMINADE', 'DUPONT-AIGNAN', 'FILLON',\n",
       "       'HAMON', 'LASSALLE', 'LE PEN', 'MACRON', 'MÉLENCHON', 'POUTOU'],\n",
       "      dtype='object')"
      ]
     },
     "execution_count": 320,
     "metadata": {},
     "output_type": "execute_result"
    }
   ],
   "source": [
    "candidats"
   ]
  },
  {
   "cell_type": "code",
   "execution_count": 321,
   "metadata": {},
   "outputs": [],
   "source": [
    "df_votes[\"Total_votes\"] = df_votes.iloc[:,1:].sum(axis=1)"
   ]
  },
  {
   "cell_type": "code",
   "execution_count": 322,
   "metadata": {},
   "outputs": [
    {
     "data": {
      "text/plain": [
       "0          495\n",
       "1          176\n",
       "2         6452\n",
       "3          933\n",
       "4           77\n",
       "         ...  \n",
       "35714      236\n",
       "35715      711\n",
       "35716      251\n",
       "35717    10243\n",
       "35718      676\n",
       "Name: Total_votes, Length: 35719, dtype: int64"
      ]
     },
     "execution_count": 322,
     "metadata": {},
     "output_type": "execute_result"
    }
   ],
   "source": [
    "df_votes[\"Total_votes\"]"
   ]
  },
  {
   "cell_type": "code",
   "execution_count": 323,
   "metadata": {},
   "outputs": [],
   "source": [
    "def changedclass(cls):\n",
    "  def __init__(self, *a, **k):\n",
    "    cls.__init__(self, *a, **k)\n",
    "    self.murf = 45\n",
    "  return type(cls.__name__, (cls,), {'foobar': 23, '__init__': __init__})"
   ]
  },
  {
   "cell_type": "code",
   "execution_count": 324,
   "metadata": {},
   "outputs": [],
   "source": [
    "#class value_counts2(pd.value_counts):\n",
    "#    def __init__(self, *a, **k):\n",
    "#        self.value_counts = pd.value_counts(dropna = False)"
   ]
  },
  {
   "cell_type": "code",
   "execution_count": 325,
   "metadata": {},
   "outputs": [],
   "source": [
    "df_votes.iloc[:,1:-1] = df_votes.iloc[:,1:-1].div(df_votes.Total_votes, axis = 0)\n"
   ]
  },
  {
   "cell_type": "code",
   "execution_count": 326,
   "metadata": {},
   "outputs": [],
   "source": [
    "#### Je crée le vote à droite et à gauche (le classement est discutable, on peut tester avec une autre barre politique)\n",
    "\n",
    "\n",
    "df_votes[\"prct_gauche\"] = df_votes[[\"ARTHAUD\", \"HAMON\",\"MÉLENCHON\", \"POUTOU\"]].sum(axis=1)\n",
    "df_votes[\"prct_droite\"] = df_votes[[\"ASSELINEAU\", \"DUPONT-AIGNAN\",\"FILLON\", \"LASSALLE\", \"LE PEN\", \"MACRON\"]].sum(axis=1)\n",
    "\n",
    "df_votes[\"prct_populiste\"] = df_votes[[\"ARTHAUD\",\"ASSELINEAU\", \"CHEMINADE\", \"DUPONT-AIGNAN\", \"LASSALLE\", \"LE PEN\", \"MÉLENCHON\", \"POUTOU\"]].sum(axis=1)\n",
    "df_votes[\"prct_establishment\"] = 1 - df_votes[\"prct_populiste\"]\n",
    "\n"
   ]
  },
  {
   "cell_type": "code",
   "execution_count": 327,
   "metadata": {},
   "outputs": [
    {
     "data": {
      "text/html": [
       "<div>\n",
       "<style scoped>\n",
       "    .dataframe tbody tr th:only-of-type {\n",
       "        vertical-align: middle;\n",
       "    }\n",
       "\n",
       "    .dataframe tbody tr th {\n",
       "        vertical-align: top;\n",
       "    }\n",
       "\n",
       "    .dataframe thead th {\n",
       "        text-align: right;\n",
       "    }\n",
       "</style>\n",
       "<table border=\"1\" class=\"dataframe\">\n",
       "  <thead>\n",
       "    <tr style=\"text-align: right;\">\n",
       "      <th></th>\n",
       "      <th>dc</th>\n",
       "      <th>ARTHAUD</th>\n",
       "      <th>ASSELINEAU</th>\n",
       "      <th>CHEMINADE</th>\n",
       "      <th>DUPONT-AIGNAN</th>\n",
       "      <th>FILLON</th>\n",
       "      <th>HAMON</th>\n",
       "      <th>LASSALLE</th>\n",
       "      <th>LE PEN</th>\n",
       "      <th>MACRON</th>\n",
       "      <th>MÉLENCHON</th>\n",
       "      <th>POUTOU</th>\n",
       "      <th>Total_votes</th>\n",
       "      <th>prct_gauche</th>\n",
       "      <th>prct_droite</th>\n",
       "      <th>prct_populiste</th>\n",
       "      <th>prct_establishment</th>\n",
       "    </tr>\n",
       "  </thead>\n",
       "  <tbody>\n",
       "    <tr>\n",
       "      <th>0</th>\n",
       "      <td>01001</td>\n",
       "      <td>0.008081</td>\n",
       "      <td>0.012121</td>\n",
       "      <td>0.004040</td>\n",
       "      <td>0.068687</td>\n",
       "      <td>0.222222</td>\n",
       "      <td>0.058586</td>\n",
       "      <td>0.004040</td>\n",
       "      <td>0.254545</td>\n",
       "      <td>0.240404</td>\n",
       "      <td>0.119192</td>\n",
       "      <td>0.008081</td>\n",
       "      <td>495</td>\n",
       "      <td>0.193939</td>\n",
       "      <td>0.802020</td>\n",
       "      <td>0.478788</td>\n",
       "      <td>0.521212</td>\n",
       "    </tr>\n",
       "    <tr>\n",
       "      <th>1</th>\n",
       "      <td>01002</td>\n",
       "      <td>0.011364</td>\n",
       "      <td>0.005682</td>\n",
       "      <td>0.000000</td>\n",
       "      <td>0.034091</td>\n",
       "      <td>0.193182</td>\n",
       "      <td>0.073864</td>\n",
       "      <td>0.000000</td>\n",
       "      <td>0.272727</td>\n",
       "      <td>0.210227</td>\n",
       "      <td>0.187500</td>\n",
       "      <td>0.011364</td>\n",
       "      <td>176</td>\n",
       "      <td>0.284091</td>\n",
       "      <td>0.715909</td>\n",
       "      <td>0.522727</td>\n",
       "      <td>0.477273</td>\n",
       "    </tr>\n",
       "    <tr>\n",
       "      <th>2</th>\n",
       "      <td>01004</td>\n",
       "      <td>0.006200</td>\n",
       "      <td>0.011004</td>\n",
       "      <td>0.000775</td>\n",
       "      <td>0.053627</td>\n",
       "      <td>0.168010</td>\n",
       "      <td>0.053317</td>\n",
       "      <td>0.009299</td>\n",
       "      <td>0.258369</td>\n",
       "      <td>0.206448</td>\n",
       "      <td>0.218847</td>\n",
       "      <td>0.014104</td>\n",
       "      <td>6452</td>\n",
       "      <td>0.292467</td>\n",
       "      <td>0.706758</td>\n",
       "      <td>0.572226</td>\n",
       "      <td>0.427774</td>\n",
       "    </tr>\n",
       "    <tr>\n",
       "      <th>3</th>\n",
       "      <td>01005</td>\n",
       "      <td>0.005359</td>\n",
       "      <td>0.010718</td>\n",
       "      <td>0.000000</td>\n",
       "      <td>0.048232</td>\n",
       "      <td>0.211147</td>\n",
       "      <td>0.039657</td>\n",
       "      <td>0.006431</td>\n",
       "      <td>0.327974</td>\n",
       "      <td>0.204716</td>\n",
       "      <td>0.135048</td>\n",
       "      <td>0.010718</td>\n",
       "      <td>933</td>\n",
       "      <td>0.190782</td>\n",
       "      <td>0.809218</td>\n",
       "      <td>0.544480</td>\n",
       "      <td>0.455520</td>\n",
       "    </tr>\n",
       "    <tr>\n",
       "      <th>4</th>\n",
       "      <td>01006</td>\n",
       "      <td>0.012987</td>\n",
       "      <td>0.000000</td>\n",
       "      <td>0.000000</td>\n",
       "      <td>0.051948</td>\n",
       "      <td>0.181818</td>\n",
       "      <td>0.038961</td>\n",
       "      <td>0.012987</td>\n",
       "      <td>0.233766</td>\n",
       "      <td>0.194805</td>\n",
       "      <td>0.246753</td>\n",
       "      <td>0.025974</td>\n",
       "      <td>77</td>\n",
       "      <td>0.324675</td>\n",
       "      <td>0.675325</td>\n",
       "      <td>0.584416</td>\n",
       "      <td>0.415584</td>\n",
       "    </tr>\n",
       "    <tr>\n",
       "      <th>...</th>\n",
       "      <td>...</td>\n",
       "      <td>...</td>\n",
       "      <td>...</td>\n",
       "      <td>...</td>\n",
       "      <td>...</td>\n",
       "      <td>...</td>\n",
       "      <td>...</td>\n",
       "      <td>...</td>\n",
       "      <td>...</td>\n",
       "      <td>...</td>\n",
       "      <td>...</td>\n",
       "      <td>...</td>\n",
       "      <td>...</td>\n",
       "      <td>...</td>\n",
       "      <td>...</td>\n",
       "      <td>...</td>\n",
       "      <td>...</td>\n",
       "    </tr>\n",
       "    <tr>\n",
       "      <th>35714</th>\n",
       "      <td>ZZ226</td>\n",
       "      <td>0.008475</td>\n",
       "      <td>0.012712</td>\n",
       "      <td>0.000000</td>\n",
       "      <td>0.004237</td>\n",
       "      <td>0.262712</td>\n",
       "      <td>0.042373</td>\n",
       "      <td>0.000000</td>\n",
       "      <td>0.067797</td>\n",
       "      <td>0.487288</td>\n",
       "      <td>0.110169</td>\n",
       "      <td>0.004237</td>\n",
       "      <td>236</td>\n",
       "      <td>0.165254</td>\n",
       "      <td>0.834746</td>\n",
       "      <td>0.207627</td>\n",
       "      <td>0.792373</td>\n",
       "    </tr>\n",
       "    <tr>\n",
       "      <th>35715</th>\n",
       "      <td>ZZ227</td>\n",
       "      <td>0.000000</td>\n",
       "      <td>0.005626</td>\n",
       "      <td>0.000000</td>\n",
       "      <td>0.018284</td>\n",
       "      <td>0.277075</td>\n",
       "      <td>0.088608</td>\n",
       "      <td>0.002813</td>\n",
       "      <td>0.068917</td>\n",
       "      <td>0.353024</td>\n",
       "      <td>0.184248</td>\n",
       "      <td>0.001406</td>\n",
       "      <td>711</td>\n",
       "      <td>0.274262</td>\n",
       "      <td>0.725738</td>\n",
       "      <td>0.281294</td>\n",
       "      <td>0.718706</td>\n",
       "    </tr>\n",
       "    <tr>\n",
       "      <th>35716</th>\n",
       "      <td>ZZ228</td>\n",
       "      <td>0.000000</td>\n",
       "      <td>0.023904</td>\n",
       "      <td>0.000000</td>\n",
       "      <td>0.031873</td>\n",
       "      <td>0.258964</td>\n",
       "      <td>0.055777</td>\n",
       "      <td>0.003984</td>\n",
       "      <td>0.139442</td>\n",
       "      <td>0.366534</td>\n",
       "      <td>0.119522</td>\n",
       "      <td>0.000000</td>\n",
       "      <td>251</td>\n",
       "      <td>0.175299</td>\n",
       "      <td>0.824701</td>\n",
       "      <td>0.318725</td>\n",
       "      <td>0.681275</td>\n",
       "    </tr>\n",
       "    <tr>\n",
       "      <th>35717</th>\n",
       "      <td>ZZ229</td>\n",
       "      <td>0.002636</td>\n",
       "      <td>0.008494</td>\n",
       "      <td>0.001757</td>\n",
       "      <td>0.020014</td>\n",
       "      <td>0.282437</td>\n",
       "      <td>0.055355</td>\n",
       "      <td>0.004003</td>\n",
       "      <td>0.060724</td>\n",
       "      <td>0.456116</td>\n",
       "      <td>0.102509</td>\n",
       "      <td>0.005955</td>\n",
       "      <td>10243</td>\n",
       "      <td>0.166455</td>\n",
       "      <td>0.831788</td>\n",
       "      <td>0.206092</td>\n",
       "      <td>0.793908</td>\n",
       "    </tr>\n",
       "    <tr>\n",
       "      <th>35718</th>\n",
       "      <td>ZZ231</td>\n",
       "      <td>0.001479</td>\n",
       "      <td>0.051775</td>\n",
       "      <td>0.004438</td>\n",
       "      <td>0.011834</td>\n",
       "      <td>0.167160</td>\n",
       "      <td>0.069527</td>\n",
       "      <td>0.008876</td>\n",
       "      <td>0.066568</td>\n",
       "      <td>0.384615</td>\n",
       "      <td>0.230769</td>\n",
       "      <td>0.002959</td>\n",
       "      <td>676</td>\n",
       "      <td>0.304734</td>\n",
       "      <td>0.690828</td>\n",
       "      <td>0.378698</td>\n",
       "      <td>0.621302</td>\n",
       "    </tr>\n",
       "  </tbody>\n",
       "</table>\n",
       "<p>35719 rows × 17 columns</p>\n",
       "</div>"
      ],
      "text/plain": [
       "          dc   ARTHAUD  ASSELINEAU  CHEMINADE  DUPONT-AIGNAN    FILLON  \\\n",
       "0      01001  0.008081    0.012121   0.004040       0.068687  0.222222   \n",
       "1      01002  0.011364    0.005682   0.000000       0.034091  0.193182   \n",
       "2      01004  0.006200    0.011004   0.000775       0.053627  0.168010   \n",
       "3      01005  0.005359    0.010718   0.000000       0.048232  0.211147   \n",
       "4      01006  0.012987    0.000000   0.000000       0.051948  0.181818   \n",
       "...      ...       ...         ...        ...            ...       ...   \n",
       "35714  ZZ226  0.008475    0.012712   0.000000       0.004237  0.262712   \n",
       "35715  ZZ227  0.000000    0.005626   0.000000       0.018284  0.277075   \n",
       "35716  ZZ228  0.000000    0.023904   0.000000       0.031873  0.258964   \n",
       "35717  ZZ229  0.002636    0.008494   0.001757       0.020014  0.282437   \n",
       "35718  ZZ231  0.001479    0.051775   0.004438       0.011834  0.167160   \n",
       "\n",
       "          HAMON  LASSALLE    LE PEN    MACRON  MÉLENCHON    POUTOU  \\\n",
       "0      0.058586  0.004040  0.254545  0.240404   0.119192  0.008081   \n",
       "1      0.073864  0.000000  0.272727  0.210227   0.187500  0.011364   \n",
       "2      0.053317  0.009299  0.258369  0.206448   0.218847  0.014104   \n",
       "3      0.039657  0.006431  0.327974  0.204716   0.135048  0.010718   \n",
       "4      0.038961  0.012987  0.233766  0.194805   0.246753  0.025974   \n",
       "...         ...       ...       ...       ...        ...       ...   \n",
       "35714  0.042373  0.000000  0.067797  0.487288   0.110169  0.004237   \n",
       "35715  0.088608  0.002813  0.068917  0.353024   0.184248  0.001406   \n",
       "35716  0.055777  0.003984  0.139442  0.366534   0.119522  0.000000   \n",
       "35717  0.055355  0.004003  0.060724  0.456116   0.102509  0.005955   \n",
       "35718  0.069527  0.008876  0.066568  0.384615   0.230769  0.002959   \n",
       "\n",
       "       Total_votes  prct_gauche  prct_droite  prct_populiste  \\\n",
       "0              495     0.193939     0.802020        0.478788   \n",
       "1              176     0.284091     0.715909        0.522727   \n",
       "2             6452     0.292467     0.706758        0.572226   \n",
       "3              933     0.190782     0.809218        0.544480   \n",
       "4               77     0.324675     0.675325        0.584416   \n",
       "...            ...          ...          ...             ...   \n",
       "35714          236     0.165254     0.834746        0.207627   \n",
       "35715          711     0.274262     0.725738        0.281294   \n",
       "35716          251     0.175299     0.824701        0.318725   \n",
       "35717        10243     0.166455     0.831788        0.206092   \n",
       "35718          676     0.304734     0.690828        0.378698   \n",
       "\n",
       "       prct_establishment  \n",
       "0                0.521212  \n",
       "1                0.477273  \n",
       "2                0.427774  \n",
       "3                0.455520  \n",
       "4                0.415584  \n",
       "...                   ...  \n",
       "35714            0.792373  \n",
       "35715            0.718706  \n",
       "35716            0.681275  \n",
       "35717            0.793908  \n",
       "35718            0.621302  \n",
       "\n",
       "[35719 rows x 17 columns]"
      ]
     },
     "execution_count": 327,
     "metadata": {},
     "output_type": "execute_result"
    }
   ],
   "source": [
    "df_votes"
   ]
  },
  {
   "cell_type": "code",
   "execution_count": 328,
   "metadata": {},
   "outputs": [
    {
     "name": "stdout",
     "output_type": "stream",
     "text": [
      "(34490, 42) (35719, 17)\n"
     ]
    }
   ],
   "source": [
    "print(df.shape, df_votes.shape)\n",
    "df = pd.merge(df, df_votes, left_on=\"CODGEO\",right_on=\"dc\")"
   ]
  },
  {
   "cell_type": "code",
   "execution_count": 329,
   "metadata": {},
   "outputs": [],
   "source": [
    "\n",
    "df[\"NAIS10_18_∆prct\"] = (df.NAISD18-df.NAISD10)/df.NAISD10"
   ]
  },
  {
   "cell_type": "code",
   "execution_count": 330,
   "metadata": {},
   "outputs": [],
   "source": [
    "#df.corr()[\"NAIS10_18_∆prct\"][candidats].sort_values(ascending=False)"
   ]
  },
  {
   "cell_type": "code",
   "execution_count": 331,
   "metadata": {},
   "outputs": [
    {
     "data": {
      "text/plain": [
       "LE PEN           0.263883\n",
       "MACRON           0.203867\n",
       "FILLON           0.199463\n",
       "MÉLENCHON        0.172337\n",
       "DUPONT-AIGNAN    0.057230\n",
       "HAMON            0.052348\n",
       "LASSALLE         0.020455\n",
       "POUTOU           0.012627\n",
       "ASSELINEAU       0.008341\n",
       "ARTHAUD          0.007536\n",
       "CHEMINADE        0.001913\n",
       "dtype: float64"
      ]
     },
     "execution_count": 331,
     "metadata": {},
     "output_type": "execute_result"
    }
   ],
   "source": [
    "df[candidats].mean().sort_values(ascending = False)"
   ]
  },
  {
   "cell_type": "code",
   "execution_count": 332,
   "metadata": {},
   "outputs": [],
   "source": [
    "a = (df[candidats].mean()>0.05)\n",
    "candidats_over_5_prct = a[a].index"
   ]
  },
  {
   "cell_type": "code",
   "execution_count": 333,
   "metadata": {},
   "outputs": [
    {
     "data": {
      "text/plain": [
       "DUPONT-AIGNAN    True\n",
       "FILLON           True\n",
       "HAMON            True\n",
       "LE PEN           True\n",
       "MACRON           True\n",
       "MÉLENCHON        True\n",
       "dtype: bool"
      ]
     },
     "execution_count": 333,
     "metadata": {},
     "output_type": "execute_result"
    }
   ],
   "source": [
    "a[a]"
   ]
  },
  {
   "cell_type": "code",
   "execution_count": 334,
   "metadata": {},
   "outputs": [],
   "source": [
    "import statsmodels.api as smf"
   ]
  },
  {
   "cell_type": "code",
   "execution_count": 335,
   "metadata": {},
   "outputs": [
    {
     "data": {
      "text/plain": [
       "(34432, 60)"
      ]
     },
     "execution_count": 335,
     "metadata": {},
     "output_type": "execute_result"
    }
   ],
   "source": [
    "df.shape"
   ]
  },
  {
   "cell_type": "code",
   "execution_count": 336,
   "metadata": {},
   "outputs": [
    {
     "data": {
      "text/plain": [
       "(34432, 60)"
      ]
     },
     "execution_count": 336,
     "metadata": {},
     "output_type": "execute_result"
    }
   ],
   "source": [
    "df_reg = df.dropna(how = \"all\"); df_reg.shape"
   ]
  },
  {
   "cell_type": "code",
   "execution_count": null,
   "metadata": {},
   "outputs": [],
   "source": []
  },
  {
   "cell_type": "code",
   "execution_count": null,
   "metadata": {},
   "outputs": [],
   "source": []
  },
  {
   "cell_type": "code",
   "execution_count": 337,
   "metadata": {},
   "outputs": [
    {
     "data": {
      "text/plain": [
       "(34432,)"
      ]
     },
     "execution_count": 337,
     "metadata": {},
     "output_type": "execute_result"
    }
   ],
   "source": [
    "df_reg.CODGEO.str[:2].shape"
   ]
  },
  {
   "cell_type": "code",
   "execution_count": 338,
   "metadata": {},
   "outputs": [
    {
     "data": {
      "text/plain": [
       "0        01\n",
       "1        01\n",
       "2        01\n",
       "3        01\n",
       "4        01\n",
       "         ..\n",
       "34427    95\n",
       "34428    95\n",
       "34429    95\n",
       "34430    95\n",
       "34431    95\n",
       "Name: CODGEO, Length: 34432, dtype: object"
      ]
     },
     "execution_count": 338,
     "metadata": {},
     "output_type": "execute_result"
    }
   ],
   "source": [
    "df_reg.CODGEO.str[:2]"
   ]
  },
  {
   "cell_type": "code",
   "execution_count": 339,
   "metadata": {},
   "outputs": [],
   "source": [
    "#df_garde_enf"
   ]
  },
  {
   "cell_type": "code",
   "execution_count": 340,
   "metadata": {},
   "outputs": [],
   "source": [
    "#df_reg_2 = df_reg.merge(df_garde_enf, left_on=df_reg.CODGEO.str[:2], right_on=\"DÉPARTEMENTS\", how=\"left\").dropna()"
   ]
  },
  {
   "cell_type": "code",
   "execution_count": 341,
   "metadata": {},
   "outputs": [],
   "source": [
    "#df_reg_2.shape"
   ]
  },
  {
   "cell_type": "code",
   "execution_count": 342,
   "metadata": {},
   "outputs": [],
   "source": [
    "#list(candidats_over_5_prct)+['a ']"
   ]
  },
  {
   "cell_type": "code",
   "execution_count": 343,
   "metadata": {},
   "outputs": [],
   "source": [
    "#fit = smf.OLS(df_reg[\"NAIS10_18_∆prct\"], df_reg[list(candidats_over_5_prct)+[\"prct_populiste\", \"tot_mono_multi_acceuil\"]]).fit()"
   ]
  },
  {
   "cell_type": "code",
   "execution_count": 344,
   "metadata": {},
   "outputs": [],
   "source": [
    "#df_reg[\"NAIS10_18_∆prct\"].shape"
   ]
  },
  {
   "cell_type": "code",
   "execution_count": 345,
   "metadata": {},
   "outputs": [],
   "source": [
    "#fit.summary()"
   ]
  },
  {
   "cell_type": "code",
   "execution_count": null,
   "metadata": {},
   "outputs": [],
   "source": []
  },
  {
   "cell_type": "markdown",
   "metadata": {},
   "source": [
    "#### Nombre moyen de naissance par femme en age de procéer"
   ]
  },
  {
   "cell_type": "markdown",
   "metadata": {},
   "source": [
    "On utilise les enquêtes de rencencement"
   ]
  },
  {
   "cell_type": "code",
   "execution_count": 346,
   "metadata": {},
   "outputs": [
    {
     "name": "stdout",
     "output_type": "stream",
     "text": [
      "CPU times: user 49 s, sys: 16.4 s, total: 1min 5s\n",
      "Wall time: 1min 6s\n"
     ]
    }
   ],
   "source": [
    "%%time\n",
    "data_path = \"../fetched_data/\"\n",
    "df = pd.read_csv(data_path+'RP19682016.csv', sep = \";\", low_memory=False)"
   ]
  },
  {
   "cell_type": "code",
   "execution_count": 347,
   "metadata": {},
   "outputs": [
    {
     "name": "stdout",
     "output_type": "stream",
     "text": [
      "<class 'pandas.core.frame.DataFrame'>\n",
      "RangeIndex: 45505195 entries, 0 to 45505194\n",
      "Data columns (total 18 columns):\n",
      " #   Column      Dtype  \n",
      "---  ------      -----  \n",
      " 0   AN_RECENS   int64  \n",
      " 1   DEP_RES_18  object \n",
      " 2   DEP_NAIS    object \n",
      " 3   DEP_TRA_18  object \n",
      " 4   DEP_RAN_18  object \n",
      " 5   REG_RES_18  int64  \n",
      " 6   REG_NAIS    object \n",
      " 7   REG_TRA_18  object \n",
      " 8   REG_RAN_18  object \n",
      " 9   AGE_REV     int64  \n",
      " 10  SEXE        int64  \n",
      " 11  STAT_CONJ   object \n",
      " 12  NATIO       object \n",
      " 13  DIPL        object \n",
      " 14  TYP_ACT     int64  \n",
      " 15  NES4        int64  \n",
      " 16  CSP         int64  \n",
      " 17  POND        float64\n",
      "dtypes: float64(1), int64(7), object(10)\n",
      "memory usage: 6.1+ GB\n"
     ]
    }
   ],
   "source": [
    "df.info()"
   ]
  },
  {
   "cell_type": "code",
   "execution_count": 348,
   "metadata": {},
   "outputs": [],
   "source": [
    "df_2016=df.query(\"AN_RECENS==2016\"); del df"
   ]
  },
  {
   "cell_type": "code",
   "execution_count": 349,
   "metadata": {},
   "outputs": [
    {
     "data": {
      "text/html": [
       "<div>\n",
       "<style scoped>\n",
       "    .dataframe tbody tr th:only-of-type {\n",
       "        vertical-align: middle;\n",
       "    }\n",
       "\n",
       "    .dataframe tbody tr th {\n",
       "        vertical-align: top;\n",
       "    }\n",
       "\n",
       "    .dataframe thead th {\n",
       "        text-align: right;\n",
       "    }\n",
       "</style>\n",
       "<table border=\"1\" class=\"dataframe\">\n",
       "  <thead>\n",
       "    <tr style=\"text-align: right;\">\n",
       "      <th></th>\n",
       "      <th>AN_RECENS</th>\n",
       "      <th>DEP_RES_18</th>\n",
       "      <th>DEP_NAIS</th>\n",
       "      <th>DEP_TRA_18</th>\n",
       "      <th>DEP_RAN_18</th>\n",
       "      <th>REG_RES_18</th>\n",
       "      <th>REG_NAIS</th>\n",
       "      <th>REG_TRA_18</th>\n",
       "      <th>REG_RAN_18</th>\n",
       "      <th>AGE_REV</th>\n",
       "      <th>SEXE</th>\n",
       "      <th>STAT_CONJ</th>\n",
       "      <th>NATIO</th>\n",
       "      <th>DIPL</th>\n",
       "      <th>TYP_ACT</th>\n",
       "      <th>NES4</th>\n",
       "      <th>CSP</th>\n",
       "      <th>POND</th>\n",
       "    </tr>\n",
       "  </thead>\n",
       "  <tbody>\n",
       "    <tr>\n",
       "      <th>38608061</th>\n",
       "      <td>2016</td>\n",
       "      <td>01</td>\n",
       "      <td>01</td>\n",
       "      <td>***</td>\n",
       "      <td>01</td>\n",
       "      <td>84</td>\n",
       "      <td>84</td>\n",
       "      <td>**</td>\n",
       "      <td>84</td>\n",
       "      <td>1</td>\n",
       "      <td>1</td>\n",
       "      <td>B</td>\n",
       "      <td>000</td>\n",
       "      <td>*</td>\n",
       "      <td>6</td>\n",
       "      <td>9</td>\n",
       "      <td>9</td>\n",
       "      <td>1588.499610</td>\n",
       "    </tr>\n",
       "    <tr>\n",
       "      <th>38608062</th>\n",
       "      <td>2016</td>\n",
       "      <td>01</td>\n",
       "      <td>01</td>\n",
       "      <td>***</td>\n",
       "      <td>01</td>\n",
       "      <td>84</td>\n",
       "      <td>84</td>\n",
       "      <td>**</td>\n",
       "      <td>84</td>\n",
       "      <td>1</td>\n",
       "      <td>1</td>\n",
       "      <td>B</td>\n",
       "      <td>1ES</td>\n",
       "      <td>*</td>\n",
       "      <td>6</td>\n",
       "      <td>9</td>\n",
       "      <td>9</td>\n",
       "      <td>3.157411</td>\n",
       "    </tr>\n",
       "    <tr>\n",
       "      <th>38608063</th>\n",
       "      <td>2016</td>\n",
       "      <td>01</td>\n",
       "      <td>01</td>\n",
       "      <td>***</td>\n",
       "      <td>01</td>\n",
       "      <td>84</td>\n",
       "      <td>84</td>\n",
       "      <td>**</td>\n",
       "      <td>84</td>\n",
       "      <td>1</td>\n",
       "      <td>1</td>\n",
       "      <td>B</td>\n",
       "      <td>1IT</td>\n",
       "      <td>*</td>\n",
       "      <td>6</td>\n",
       "      <td>9</td>\n",
       "      <td>9</td>\n",
       "      <td>3.600822</td>\n",
       "    </tr>\n",
       "    <tr>\n",
       "      <th>38608064</th>\n",
       "      <td>2016</td>\n",
       "      <td>01</td>\n",
       "      <td>01</td>\n",
       "      <td>***</td>\n",
       "      <td>01</td>\n",
       "      <td>84</td>\n",
       "      <td>84</td>\n",
       "      <td>**</td>\n",
       "      <td>84</td>\n",
       "      <td>1</td>\n",
       "      <td>1</td>\n",
       "      <td>B</td>\n",
       "      <td>1PT</td>\n",
       "      <td>*</td>\n",
       "      <td>6</td>\n",
       "      <td>9</td>\n",
       "      <td>9</td>\n",
       "      <td>25.832346</td>\n",
       "    </tr>\n",
       "    <tr>\n",
       "      <th>38608065</th>\n",
       "      <td>2016</td>\n",
       "      <td>01</td>\n",
       "      <td>01</td>\n",
       "      <td>***</td>\n",
       "      <td>01</td>\n",
       "      <td>84</td>\n",
       "      <td>84</td>\n",
       "      <td>**</td>\n",
       "      <td>84</td>\n",
       "      <td>1</td>\n",
       "      <td>1</td>\n",
       "      <td>B</td>\n",
       "      <td>2**</td>\n",
       "      <td>*</td>\n",
       "      <td>6</td>\n",
       "      <td>9</td>\n",
       "      <td>9</td>\n",
       "      <td>9.651694</td>\n",
       "    </tr>\n",
       "    <tr>\n",
       "      <th>...</th>\n",
       "      <td>...</td>\n",
       "      <td>...</td>\n",
       "      <td>...</td>\n",
       "      <td>...</td>\n",
       "      <td>...</td>\n",
       "      <td>...</td>\n",
       "      <td>...</td>\n",
       "      <td>...</td>\n",
       "      <td>...</td>\n",
       "      <td>...</td>\n",
       "      <td>...</td>\n",
       "      <td>...</td>\n",
       "      <td>...</td>\n",
       "      <td>...</td>\n",
       "      <td>...</td>\n",
       "      <td>...</td>\n",
       "      <td>...</td>\n",
       "      <td>...</td>\n",
       "    </tr>\n",
       "    <tr>\n",
       "      <th>45505190</th>\n",
       "      <td>2016</td>\n",
       "      <td>974</td>\n",
       "      <td>9Y</td>\n",
       "      <td>974</td>\n",
       "      <td>974</td>\n",
       "      <td>4</td>\n",
       "      <td>99</td>\n",
       "      <td>04</td>\n",
       "      <td>04</td>\n",
       "      <td>54</td>\n",
       "      <td>2</td>\n",
       "      <td>B</td>\n",
       "      <td>000</td>\n",
       "      <td>D</td>\n",
       "      <td>1</td>\n",
       "      <td>2</td>\n",
       "      <td>6</td>\n",
       "      <td>2.582770</td>\n",
       "    </tr>\n",
       "    <tr>\n",
       "      <th>45505191</th>\n",
       "      <td>2016</td>\n",
       "      <td>974</td>\n",
       "      <td>9Y</td>\n",
       "      <td>974</td>\n",
       "      <td>974</td>\n",
       "      <td>4</td>\n",
       "      <td>99</td>\n",
       "      <td>04</td>\n",
       "      <td>04</td>\n",
       "      <td>55</td>\n",
       "      <td>2</td>\n",
       "      <td>A</td>\n",
       "      <td>000</td>\n",
       "      <td>B</td>\n",
       "      <td>1</td>\n",
       "      <td>4</td>\n",
       "      <td>5</td>\n",
       "      <td>2.547605</td>\n",
       "    </tr>\n",
       "    <tr>\n",
       "      <th>45505192</th>\n",
       "      <td>2016</td>\n",
       "      <td>974</td>\n",
       "      <td>9Y</td>\n",
       "      <td>974</td>\n",
       "      <td>974</td>\n",
       "      <td>4</td>\n",
       "      <td>99</td>\n",
       "      <td>04</td>\n",
       "      <td>04</td>\n",
       "      <td>56</td>\n",
       "      <td>1</td>\n",
       "      <td>B</td>\n",
       "      <td>000</td>\n",
       "      <td>D</td>\n",
       "      <td>1</td>\n",
       "      <td>4</td>\n",
       "      <td>3</td>\n",
       "      <td>2.537490</td>\n",
       "    </tr>\n",
       "    <tr>\n",
       "      <th>45505193</th>\n",
       "      <td>2016</td>\n",
       "      <td>974</td>\n",
       "      <td>9Y</td>\n",
       "      <td>974</td>\n",
       "      <td>974</td>\n",
       "      <td>4</td>\n",
       "      <td>99</td>\n",
       "      <td>04</td>\n",
       "      <td>04</td>\n",
       "      <td>64</td>\n",
       "      <td>1</td>\n",
       "      <td>A</td>\n",
       "      <td>000</td>\n",
       "      <td>B</td>\n",
       "      <td>1</td>\n",
       "      <td>4</td>\n",
       "      <td>2</td>\n",
       "      <td>2.562629</td>\n",
       "    </tr>\n",
       "    <tr>\n",
       "      <th>45505194</th>\n",
       "      <td>2016</td>\n",
       "      <td>974</td>\n",
       "      <td>9Y</td>\n",
       "      <td>974</td>\n",
       "      <td>9Y</td>\n",
       "      <td>4</td>\n",
       "      <td>99</td>\n",
       "      <td>04</td>\n",
       "      <td>XX</td>\n",
       "      <td>30</td>\n",
       "      <td>2</td>\n",
       "      <td>B</td>\n",
       "      <td>000</td>\n",
       "      <td>D</td>\n",
       "      <td>1</td>\n",
       "      <td>4</td>\n",
       "      <td>4</td>\n",
       "      <td>2.471720</td>\n",
       "    </tr>\n",
       "  </tbody>\n",
       "</table>\n",
       "<p>6897134 rows × 18 columns</p>\n",
       "</div>"
      ],
      "text/plain": [
       "          AN_RECENS DEP_RES_18 DEP_NAIS DEP_TRA_18 DEP_RAN_18  REG_RES_18  \\\n",
       "38608061       2016         01       01        ***         01          84   \n",
       "38608062       2016         01       01        ***         01          84   \n",
       "38608063       2016         01       01        ***         01          84   \n",
       "38608064       2016         01       01        ***         01          84   \n",
       "38608065       2016         01       01        ***         01          84   \n",
       "...             ...        ...      ...        ...        ...         ...   \n",
       "45505190       2016        974       9Y        974        974           4   \n",
       "45505191       2016        974       9Y        974        974           4   \n",
       "45505192       2016        974       9Y        974        974           4   \n",
       "45505193       2016        974       9Y        974        974           4   \n",
       "45505194       2016        974       9Y        974         9Y           4   \n",
       "\n",
       "         REG_NAIS REG_TRA_18 REG_RAN_18  AGE_REV  SEXE STAT_CONJ NATIO DIPL  \\\n",
       "38608061       84         **         84        1     1         B   000    *   \n",
       "38608062       84         **         84        1     1         B   1ES    *   \n",
       "38608063       84         **         84        1     1         B   1IT    *   \n",
       "38608064       84         **         84        1     1         B   1PT    *   \n",
       "38608065       84         **         84        1     1         B   2**    *   \n",
       "...           ...        ...        ...      ...   ...       ...   ...  ...   \n",
       "45505190       99         04         04       54     2         B   000    D   \n",
       "45505191       99         04         04       55     2         A   000    B   \n",
       "45505192       99         04         04       56     1         B   000    D   \n",
       "45505193       99         04         04       64     1         A   000    B   \n",
       "45505194       99         04         XX       30     2         B   000    D   \n",
       "\n",
       "          TYP_ACT  NES4  CSP         POND  \n",
       "38608061        6     9    9  1588.499610  \n",
       "38608062        6     9    9     3.157411  \n",
       "38608063        6     9    9     3.600822  \n",
       "38608064        6     9    9    25.832346  \n",
       "38608065        6     9    9     9.651694  \n",
       "...           ...   ...  ...          ...  \n",
       "45505190        1     2    6     2.582770  \n",
       "45505191        1     4    5     2.547605  \n",
       "45505192        1     4    3     2.537490  \n",
       "45505193        1     4    2     2.562629  \n",
       "45505194        1     4    4     2.471720  \n",
       "\n",
       "[6897134 rows x 18 columns]"
      ]
     },
     "execution_count": 349,
     "metadata": {},
     "output_type": "execute_result"
    }
   ],
   "source": [
    "df_2016"
   ]
  },
  {
   "cell_type": "markdown",
   "metadata": {},
   "source": [
    "TODO: Faire carte nombre de places de garde en fonction du nombre de femmes en age de procréer.  \n",
    "    Nombre de places de garde en fonction du nombre d'enfants en bas age."
   ]
  },
  {
   "cell_type": "code",
   "execution_count": 350,
   "metadata": {},
   "outputs": [],
   "source": [
    "label_csp = {\n",
    "1 : \"Agriculteurs\",\n",
    "2 : \"Artisans-commerçants-chefs d'entreprise\",\n",
    "3 : \"Cadres et professions intellectuelles supérieures\",\n",
    "4 : \"Professions intermédiaires\",\n",
    "5 : \"Employés\",\n",
    "6 : \"Ouvriers\",\n",
    "8 : \"Anciens actifs\",\n",
    "9 : \"Inactifs et chômeurs n'ayant jamais travaillé\",}"
   ]
  },
  {
   "cell_type": "code",
   "execution_count": 351,
   "metadata": {},
   "outputs": [
    {
     "data": {
      "text/plain": [
       "Employés                                             0.176273\n",
       "Professions intermédiaires                           0.172216\n",
       "Inactifs et chômeurs n'ayant jamais travaillé        0.161072\n",
       "Anciens actifs                                       0.156173\n",
       "Ouvriers                                             0.142168\n",
       "Cadres et professions intellectuelles supérieures    0.128743\n",
       "Artisans-commerçants-chefs d'entreprise              0.054834\n",
       "Agriculteurs                                         0.008520\n",
       "Name: CSP, dtype: float64"
      ]
     },
     "execution_count": 351,
     "metadata": {},
     "output_type": "execute_result"
    }
   ],
   "source": [
    "df_2016.CSP.value_counts(normalize=True).rename(label_csp)"
   ]
  },
  {
   "cell_type": "code",
   "execution_count": 352,
   "metadata": {},
   "outputs": [
    {
     "data": {
      "text/html": [
       "<div>\n",
       "<style scoped>\n",
       "    .dataframe tbody tr th:only-of-type {\n",
       "        vertical-align: middle;\n",
       "    }\n",
       "\n",
       "    .dataframe tbody tr th {\n",
       "        vertical-align: top;\n",
       "    }\n",
       "\n",
       "    .dataframe thead th {\n",
       "        text-align: right;\n",
       "    }\n",
       "</style>\n",
       "<table border=\"1\" class=\"dataframe\">\n",
       "  <thead>\n",
       "    <tr style=\"text-align: right;\">\n",
       "      <th></th>\n",
       "      <th>AN_RECENS</th>\n",
       "      <th>DEP_RES_18</th>\n",
       "      <th>DEP_NAIS</th>\n",
       "      <th>DEP_TRA_18</th>\n",
       "      <th>DEP_RAN_18</th>\n",
       "      <th>REG_RES_18</th>\n",
       "      <th>REG_NAIS</th>\n",
       "      <th>REG_TRA_18</th>\n",
       "      <th>REG_RAN_18</th>\n",
       "      <th>AGE_REV</th>\n",
       "      <th>SEXE</th>\n",
       "      <th>STAT_CONJ</th>\n",
       "      <th>NATIO</th>\n",
       "      <th>DIPL</th>\n",
       "      <th>TYP_ACT</th>\n",
       "      <th>NES4</th>\n",
       "      <th>CSP</th>\n",
       "      <th>POND</th>\n",
       "    </tr>\n",
       "  </thead>\n",
       "  <tbody>\n",
       "    <tr>\n",
       "      <th>38608321</th>\n",
       "      <td>2016</td>\n",
       "      <td>01</td>\n",
       "      <td>01</td>\n",
       "      <td>***</td>\n",
       "      <td>01</td>\n",
       "      <td>84</td>\n",
       "      <td>84</td>\n",
       "      <td>**</td>\n",
       "      <td>84</td>\n",
       "      <td>18</td>\n",
       "      <td>2</td>\n",
       "      <td>A</td>\n",
       "      <td>000</td>\n",
       "      <td>*</td>\n",
       "      <td>3</td>\n",
       "      <td>9</td>\n",
       "      <td>9</td>\n",
       "      <td>2.896120</td>\n",
       "    </tr>\n",
       "    <tr>\n",
       "      <th>38608322</th>\n",
       "      <td>2016</td>\n",
       "      <td>01</td>\n",
       "      <td>01</td>\n",
       "      <td>***</td>\n",
       "      <td>01</td>\n",
       "      <td>84</td>\n",
       "      <td>84</td>\n",
       "      <td>**</td>\n",
       "      <td>84</td>\n",
       "      <td>18</td>\n",
       "      <td>2</td>\n",
       "      <td>B</td>\n",
       "      <td>000</td>\n",
       "      <td>*</td>\n",
       "      <td>3</td>\n",
       "      <td>9</td>\n",
       "      <td>9</td>\n",
       "      <td>614.995642</td>\n",
       "    </tr>\n",
       "    <tr>\n",
       "      <th>38608323</th>\n",
       "      <td>2016</td>\n",
       "      <td>01</td>\n",
       "      <td>01</td>\n",
       "      <td>***</td>\n",
       "      <td>01</td>\n",
       "      <td>84</td>\n",
       "      <td>84</td>\n",
       "      <td>**</td>\n",
       "      <td>84</td>\n",
       "      <td>18</td>\n",
       "      <td>2</td>\n",
       "      <td>B</td>\n",
       "      <td>000</td>\n",
       "      <td>A</td>\n",
       "      <td>2</td>\n",
       "      <td>9</td>\n",
       "      <td>5</td>\n",
       "      <td>22.716570</td>\n",
       "    </tr>\n",
       "    <tr>\n",
       "      <th>38608324</th>\n",
       "      <td>2016</td>\n",
       "      <td>01</td>\n",
       "      <td>01</td>\n",
       "      <td>***</td>\n",
       "      <td>01</td>\n",
       "      <td>84</td>\n",
       "      <td>84</td>\n",
       "      <td>**</td>\n",
       "      <td>84</td>\n",
       "      <td>18</td>\n",
       "      <td>2</td>\n",
       "      <td>B</td>\n",
       "      <td>000</td>\n",
       "      <td>A</td>\n",
       "      <td>2</td>\n",
       "      <td>9</td>\n",
       "      <td>6</td>\n",
       "      <td>2.855002</td>\n",
       "    </tr>\n",
       "    <tr>\n",
       "      <th>38608325</th>\n",
       "      <td>2016</td>\n",
       "      <td>01</td>\n",
       "      <td>01</td>\n",
       "      <td>***</td>\n",
       "      <td>01</td>\n",
       "      <td>84</td>\n",
       "      <td>84</td>\n",
       "      <td>**</td>\n",
       "      <td>84</td>\n",
       "      <td>18</td>\n",
       "      <td>2</td>\n",
       "      <td>B</td>\n",
       "      <td>000</td>\n",
       "      <td>A</td>\n",
       "      <td>2</td>\n",
       "      <td>9</td>\n",
       "      <td>9</td>\n",
       "      <td>27.172605</td>\n",
       "    </tr>\n",
       "    <tr>\n",
       "      <th>...</th>\n",
       "      <td>...</td>\n",
       "      <td>...</td>\n",
       "      <td>...</td>\n",
       "      <td>...</td>\n",
       "      <td>...</td>\n",
       "      <td>...</td>\n",
       "      <td>...</td>\n",
       "      <td>...</td>\n",
       "      <td>...</td>\n",
       "      <td>...</td>\n",
       "      <td>...</td>\n",
       "      <td>...</td>\n",
       "      <td>...</td>\n",
       "      <td>...</td>\n",
       "      <td>...</td>\n",
       "      <td>...</td>\n",
       "      <td>...</td>\n",
       "      <td>...</td>\n",
       "    </tr>\n",
       "    <tr>\n",
       "      <th>45505163</th>\n",
       "      <td>2016</td>\n",
       "      <td>974</td>\n",
       "      <td>9Y</td>\n",
       "      <td>974</td>\n",
       "      <td>974</td>\n",
       "      <td>4</td>\n",
       "      <td>99</td>\n",
       "      <td>04</td>\n",
       "      <td>04</td>\n",
       "      <td>39</td>\n",
       "      <td>2</td>\n",
       "      <td>A</td>\n",
       "      <td>000</td>\n",
       "      <td>D</td>\n",
       "      <td>1</td>\n",
       "      <td>4</td>\n",
       "      <td>4</td>\n",
       "      <td>2.582770</td>\n",
       "    </tr>\n",
       "    <tr>\n",
       "      <th>45505164</th>\n",
       "      <td>2016</td>\n",
       "      <td>974</td>\n",
       "      <td>9Y</td>\n",
       "      <td>974</td>\n",
       "      <td>974</td>\n",
       "      <td>4</td>\n",
       "      <td>99</td>\n",
       "      <td>04</td>\n",
       "      <td>04</td>\n",
       "      <td>40</td>\n",
       "      <td>2</td>\n",
       "      <td>A</td>\n",
       "      <td>000</td>\n",
       "      <td>D</td>\n",
       "      <td>1</td>\n",
       "      <td>4</td>\n",
       "      <td>4</td>\n",
       "      <td>2.521609</td>\n",
       "    </tr>\n",
       "    <tr>\n",
       "      <th>45505167</th>\n",
       "      <td>2016</td>\n",
       "      <td>974</td>\n",
       "      <td>9Y</td>\n",
       "      <td>974</td>\n",
       "      <td>974</td>\n",
       "      <td>4</td>\n",
       "      <td>99</td>\n",
       "      <td>04</td>\n",
       "      <td>04</td>\n",
       "      <td>41</td>\n",
       "      <td>2</td>\n",
       "      <td>A</td>\n",
       "      <td>000</td>\n",
       "      <td>C</td>\n",
       "      <td>1</td>\n",
       "      <td>4</td>\n",
       "      <td>5</td>\n",
       "      <td>2.494697</td>\n",
       "    </tr>\n",
       "    <tr>\n",
       "      <th>45505170</th>\n",
       "      <td>2016</td>\n",
       "      <td>974</td>\n",
       "      <td>9Y</td>\n",
       "      <td>974</td>\n",
       "      <td>974</td>\n",
       "      <td>4</td>\n",
       "      <td>99</td>\n",
       "      <td>04</td>\n",
       "      <td>04</td>\n",
       "      <td>42</td>\n",
       "      <td>2</td>\n",
       "      <td>B</td>\n",
       "      <td>000</td>\n",
       "      <td>D</td>\n",
       "      <td>1</td>\n",
       "      <td>4</td>\n",
       "      <td>4</td>\n",
       "      <td>2.500864</td>\n",
       "    </tr>\n",
       "    <tr>\n",
       "      <th>45505194</th>\n",
       "      <td>2016</td>\n",
       "      <td>974</td>\n",
       "      <td>9Y</td>\n",
       "      <td>974</td>\n",
       "      <td>9Y</td>\n",
       "      <td>4</td>\n",
       "      <td>99</td>\n",
       "      <td>04</td>\n",
       "      <td>XX</td>\n",
       "      <td>30</td>\n",
       "      <td>2</td>\n",
       "      <td>B</td>\n",
       "      <td>000</td>\n",
       "      <td>D</td>\n",
       "      <td>1</td>\n",
       "      <td>4</td>\n",
       "      <td>4</td>\n",
       "      <td>2.471720</td>\n",
       "    </tr>\n",
       "  </tbody>\n",
       "</table>\n",
       "<p>1523730 rows × 18 columns</p>\n",
       "</div>"
      ],
      "text/plain": [
       "          AN_RECENS DEP_RES_18 DEP_NAIS DEP_TRA_18 DEP_RAN_18  REG_RES_18  \\\n",
       "38608321       2016         01       01        ***         01          84   \n",
       "38608322       2016         01       01        ***         01          84   \n",
       "38608323       2016         01       01        ***         01          84   \n",
       "38608324       2016         01       01        ***         01          84   \n",
       "38608325       2016         01       01        ***         01          84   \n",
       "...             ...        ...      ...        ...        ...         ...   \n",
       "45505163       2016        974       9Y        974        974           4   \n",
       "45505164       2016        974       9Y        974        974           4   \n",
       "45505167       2016        974       9Y        974        974           4   \n",
       "45505170       2016        974       9Y        974        974           4   \n",
       "45505194       2016        974       9Y        974         9Y           4   \n",
       "\n",
       "         REG_NAIS REG_TRA_18 REG_RAN_18  AGE_REV  SEXE STAT_CONJ NATIO DIPL  \\\n",
       "38608321       84         **         84       18     2         A   000    *   \n",
       "38608322       84         **         84       18     2         B   000    *   \n",
       "38608323       84         **         84       18     2         B   000    A   \n",
       "38608324       84         **         84       18     2         B   000    A   \n",
       "38608325       84         **         84       18     2         B   000    A   \n",
       "...           ...        ...        ...      ...   ...       ...   ...  ...   \n",
       "45505163       99         04         04       39     2         A   000    D   \n",
       "45505164       99         04         04       40     2         A   000    D   \n",
       "45505167       99         04         04       41     2         A   000    C   \n",
       "45505170       99         04         04       42     2         B   000    D   \n",
       "45505194       99         04         XX       30     2         B   000    D   \n",
       "\n",
       "          TYP_ACT  NES4  CSP        POND  \n",
       "38608321        3     9    9    2.896120  \n",
       "38608322        3     9    9  614.995642  \n",
       "38608323        2     9    5   22.716570  \n",
       "38608324        2     9    6    2.855002  \n",
       "38608325        2     9    9   27.172605  \n",
       "...           ...   ...  ...         ...  \n",
       "45505163        1     4    4    2.582770  \n",
       "45505164        1     4    4    2.521609  \n",
       "45505167        1     4    5    2.494697  \n",
       "45505170        1     4    4    2.500864  \n",
       "45505194        1     4    4    2.471720  \n",
       "\n",
       "[1523730 rows x 18 columns]"
      ]
     },
     "execution_count": 352,
     "metadata": {},
     "output_type": "execute_result"
    }
   ],
   "source": [
    "df_2016.query(\"(17<AGE_REV<45)&(SEXE=='2')\")"
   ]
  },
  {
   "cell_type": "code",
   "execution_count": 353,
   "metadata": {},
   "outputs": [
    {
     "data": {
      "application/javascript": [
       "\n",
       "        if (window._pyforest_update_imports_cell) { window._pyforest_update_imports_cell('import numpy as np\\nimport seaborn as sns\\nimport pandas as pd\\nimport matplotlib.pyplot as plt'); }\n",
       "    "
      ],
      "text/plain": [
       "<IPython.core.display.Javascript object>"
      ]
     },
     "metadata": {},
     "output_type": "display_data"
    },
    {
     "data": {
      "image/png": "[encoded data removed]",
      "text/plain": [
       "<Figure size 1584x288 with 2 Axes>"
      ]
     },
     "metadata": {
      "needs_background": "light"
     },
     "output_type": "display_data"
    }
   ],
   "source": [
    "fig, axes = plt.subplots(1, 2)\n",
    "\n",
    "df_2016.AGE_REV.hist(bins=df_2016.AGE_REV.nunique(), weights=df_2016.POND, ax=axes[0], figsize=(22,4))\n",
    "df_2016.AGE_REV.hist(bins=df_2016.AGE_REV.nunique(), ax=axes[1])\n",
    "\n",
    "axes[0].set_title(\"Avec Pondération\")\n",
    "axes[1].set_title(\"Sans Pondération\\n(Données brutes)\");"
   ]
  },
  {
   "cell_type": "code",
   "execution_count": 354,
   "metadata": {},
   "outputs": [
    {
     "data": {
      "text/plain": [
       "(81071, 18)"
      ]
     },
     "execution_count": 354,
     "metadata": {},
     "output_type": "execute_result"
    }
   ],
   "source": [
    "df_2016.query(\"AGE_REV==20\").shape"
   ]
  },
  {
   "cell_type": "code",
   "execution_count": 355,
   "metadata": {},
   "outputs": [
    {
     "data": {
      "text/plain": [
       "763844.0438229179"
      ]
     },
     "execution_count": 355,
     "metadata": {},
     "output_type": "execute_result"
    }
   ],
   "source": [
    "df_2016.query(\"AGE_REV==20\").POND.sum()"
   ]
  },
  {
   "cell_type": "code",
   "execution_count": 356,
   "metadata": {},
   "outputs": [
    {
     "data": {
      "text/plain": [
       "111    21\n",
       "112    31\n",
       "113    31\n",
       "114    53\n",
       "115    59\n",
       "116    64\n",
       "117    36\n",
       "118     3\n",
       "119    28\n",
       "120     3\n",
       "Name: AGE_REV, dtype: int64"
      ]
     },
     "execution_count": 356,
     "metadata": {},
     "output_type": "execute_result"
    }
   ],
   "source": [
    "df_2016.AGE_REV.value_counts().sort_index().tail(10)"
   ]
  },
  {
   "cell_type": "markdown",
   "metadata": {},
   "source": [
    "### Nombre de femmes en age de procréer par département"
   ]
  },
  {
   "cell_type": "code",
   "execution_count": 357,
   "metadata": {},
   "outputs": [
    {
     "data": {
      "text/plain": [
       "Index(['AN_RECENS', 'DEP_RES_18', 'DEP_NAIS', 'DEP_TRA_18', 'DEP_RAN_18',\n",
       "       'REG_RES_18', 'REG_NAIS', 'REG_TRA_18', 'REG_RAN_18', 'AGE_REV', 'SEXE',\n",
       "       'STAT_CONJ', 'NATIO', 'DIPL', 'TYP_ACT', 'NES4', 'CSP', 'POND'],\n",
       "      dtype='object')"
      ]
     },
     "execution_count": 357,
     "metadata": {},
     "output_type": "execute_result"
    }
   ],
   "source": [
    "df_2016.columns"
   ]
  },
  {
   "cell_type": "code",
   "execution_count": 358,
   "metadata": {},
   "outputs": [],
   "source": [
    "df_2016[['DEP_RES_18', 'DEP_NAIS', 'DEP_TRA_18', 'DEP_RAN_18',\n",
    "       'REG_RES_18', 'REG_NAIS', 'REG_TRA_18', 'REG_RAN_18']] = df_2016[['DEP_RES_18', 'DEP_NAIS', 'DEP_TRA_18', 'DEP_RAN_18',\n",
    "                                                                        'REG_RES_18', 'REG_NAIS', 'REG_TRA_18', 'REG_RAN_18']].astype(\"str\")"
   ]
  },
  {
   "cell_type": "code",
   "execution_count": 359,
   "metadata": {},
   "outputs": [],
   "source": [
    "df_nb_f_fertile_by_dep = df_2016.query(\"17<AGE_REV<45\").groupby(\"DEP_NAIS\").POND.sum()\n",
    "df_nb_f_fertile_by_dep.index = df_nb_f_fertile_by_dep.index.astype(\"str\")"
   ]
  },
  {
   "cell_type": "markdown",
   "metadata": {},
   "source": [
    "### Nombre de naissances par département"
   ]
  },
  {
   "cell_type": "code",
   "execution_count": 360,
   "metadata": {},
   "outputs": [],
   "source": [
    "df_nb_nais_by_dep = df_naissances_ec.groupby(\"depnais\").size()\n",
    "df_nb_nais_by_dep.name = \"naissances\"\n",
    "df_nb_nais_by_dep.index = df_nb_nais_by_dep.index.astype(\"str\")"
   ]
  },
  {
   "cell_type": "code",
   "execution_count": 361,
   "metadata": {},
   "outputs": [
    {
     "data": {
      "text/plain": [
       "Index(['01', '02', '03', '04', '05', '06', '07', '08', '09', '10',\n",
       "       ...\n",
       "       '971', '972', '973', '974', '975', '976', '977', '978', '99', '9Y'],\n",
       "      dtype='object', name='DEP_NAIS', length=106)"
      ]
     },
     "execution_count": 361,
     "metadata": {},
     "output_type": "execute_result"
    }
   ],
   "source": [
    "df_nb_f_fertile_by_dep.index.astype(\"str\")"
   ]
  },
  {
   "cell_type": "code",
   "execution_count": 362,
   "metadata": {},
   "outputs": [
    {
     "data": {
      "text/plain": [
       "Index(['01', '02', '03', '04', '05', '06', '07', '08', '09', '10', '11', '12',\n",
       "       '13', '14', '15', '16', '17', '18', '19', '20R', '21', '22', '23', '24',\n",
       "       '25', '26', '27', '28', '29', '30', '31', '32', '33', '34', '35', '36',\n",
       "       '37', '38', '39', '40', '41', '42', '43', '44', '45', '46', '47', '48',\n",
       "       '49', '50', '51', '52', '53', '54', '55', '56', '57', '58', '59', '60',\n",
       "       '61', '62', '63', '64', '65', '66', '67', '68', '69D', '69M', '70',\n",
       "       '71', '72', '73', '74', '75', '76', '77', '78', '79', '80', '81', '82',\n",
       "       '83', '84', '85', '86', '87', '88', '89', '90', '91', '92', '93', '94',\n",
       "       '95', '971', '972', '973', '974'],\n",
       "      dtype='object', name='DÉPARTEMENTS')"
      ]
     },
     "execution_count": 362,
     "metadata": {},
     "output_type": "execute_result"
    }
   ],
   "source": [
    "df_garde_enf_2018[\"DÉPARTEMENTS\"] = df_garde_enf_2018[\"DÉPARTEMENTS\"].astype(\"str\")\n",
    "df_garde_enf_2018.set_index(\"DÉPARTEMENTS\").tot_mono_multi_acceuil.index"
   ]
  },
  {
   "cell_type": "code",
   "execution_count": 363,
   "metadata": {},
   "outputs": [
    {
     "data": {
      "text/plain": [
       "0      2994.0\n",
       "1      1201.0\n",
       "2       827.0\n",
       "3      1078.0\n",
       "4       977.0\n",
       "       ...   \n",
       "95    26077.0\n",
       "96    13818.0\n",
       "97    16349.0\n",
       "98     6961.0\n",
       "99     2464.0\n",
       "Name: 2018, Length: 96, dtype: float64"
      ]
     },
     "execution_count": 363,
     "metadata": {},
     "output_type": "execute_result"
    }
   ],
   "source": [
    "df_garde_enf_2010_2018[2018]"
   ]
  },
  {
   "cell_type": "code",
   "execution_count": null,
   "metadata": {},
   "outputs": [],
   "source": []
  },
  {
   "cell_type": "code",
   "execution_count": null,
   "metadata": {},
   "outputs": [],
   "source": []
  },
  {
   "cell_type": "code",
   "execution_count": 364,
   "metadata": {},
   "outputs": [
    {
     "ename": "NameError",
     "evalue": "name 'df' is not defined",
     "output_type": "error",
     "traceback": [
      "\u001b[0;31m---------------------------------------------------------------------------\u001b[0m",
      "\u001b[0;31mNameError\u001b[0m                                 Traceback (most recent call last)",
      "\u001b[0;32m<ipython-input-364-066929c24df0>\u001b[0m in \u001b[0;36m<module>\u001b[0;34m\u001b[0m\n\u001b[0;32m----> 1\u001b[0;31m \u001b[0mdf\u001b[0m\u001b[0;34m.\u001b[0m\u001b[0mQuantile_income\u001b[0m\u001b[0;34m\u001b[0m\u001b[0;34m\u001b[0m\u001b[0m\n\u001b[0m",
      "\u001b[0;31mNameError\u001b[0m: name 'df' is not defined"
     ]
    }
   ],
   "source": [
    "df.Quantile_income"
   ]
  },
  {
   "cell_type": "code",
   "execution_count": null,
   "metadata": {},
   "outputs": [],
   "source": [
    "df[\"DEP\"] = df.CODGEO.str[:-3]"
   ]
  },
  {
   "cell_type": "code",
   "execution_count": null,
   "metadata": {},
   "outputs": [],
   "source": [
    "pd.qcut(df.groupby(\"DEP\").MED15.mean(),5, labels = False)+1"
   ]
  },
  {
   "cell_type": "code",
   "execution_count": null,
   "metadata": {},
   "outputs": [],
   "source": [
    "df_dep = (\n",
    "pd.concat([df_nb_f_fertile_by_dep, \n",
    "           df_nb_nais_by_dep,\n",
    "           df_garde_enf_2010_2018.set_index(\"DEP\")[2018],\n",
    "          pd.qcut(df.groupby(\"DEP\").MED15.mean(),5, labels = False)+1],\n",
    "          axis=1)\n",
    ".rename({\n",
    "    2018:\"nombre_places_de_garde\",\n",
    "    'POND':\"nb_femme_17_45\",\n",
    "    \"MED15\":\"quintile_revenu\"\n",
    "}, axis = 1)\n",
    ".assign(\n",
    "    nais_par_femmes=lambda x:x.naissances/x.nb_femme_17_45,\n",
    "    places_acc_par_nais= lambda x: x[\"nombre_places_de_garde\"]/x.naissances,\n",
    ")\n",
    ")"
   ]
  },
  {
   "cell_type": "code",
   "execution_count": null,
   "metadata": {},
   "outputs": [],
   "source": [
    "df_dep.columns"
   ]
  },
  {
   "cell_type": "code",
   "execution_count": null,
   "metadata": {},
   "outputs": [],
   "source": [
    "df_grpby_DEP_2.index"
   ]
  },
  {
   "cell_type": "code",
   "execution_count": null,
   "metadata": {},
   "outputs": [],
   "source": [
    "df.set_index(df.CODGEO.str[:-3])"
   ]
  },
  {
   "cell_type": "code",
   "execution_count": null,
   "metadata": {},
   "outputs": [],
   "source": [
    "df_grpby_DEP_2"
   ]
  },
  {
   "cell_type": "code",
   "execution_count": null,
   "metadata": {},
   "outputs": [],
   "source": [
    "df_grpby_DEP_2.index"
   ]
  },
  {
   "cell_type": "code",
   "execution_count": null,
   "metadata": {},
   "outputs": [],
   "source": [
    "df_dep.shape"
   ]
  },
  {
   "cell_type": "code",
   "execution_count": null,
   "metadata": {},
   "outputs": [],
   "source": [
    "sns.pairplot(df_dep, hue=\"quintile_revenu\")"
   ]
  },
  {
   "cell_type": "code",
   "execution_count": 365,
   "metadata": {},
   "outputs": [
    {
     "data": {
      "text/plain": [
       "<matplotlib.axes._subplots.AxesSubplot at 0x152769a30>"
      ]
     },
     "execution_count": 365,
     "metadata": {},
     "output_type": "execute_result"
    },
    {
     "data": {
      "image/png": "[encoded data removed]",
      "text/plain": [
       "<Figure size 432x288 with 1 Axes>"
      ]
     },
     "metadata": {
      "needs_background": "light"
     },
     "output_type": "display_data"
    }
   ],
   "source": [
    "df_dep.plot(\"places_acc_par_nais\", \"nais_par_femmes\", kind=\"scatter\")"
   ]
  },
  {
   "cell_type": "code",
   "execution_count": 366,
   "metadata": {},
   "outputs": [
    {
     "data": {
      "text/plain": [
       "<matplotlib.axes._subplots.AxesSubplot at 0x12e2e4760>"
      ]
     },
     "execution_count": 366,
     "metadata": {},
     "output_type": "execute_result"
    },
    {
     "data": {
      "image/png": "[encoded data removed]",
      "text/plain": [
       "<Figure size 432x288 with 1 Axes>"
      ]
     },
     "metadata": {
      "needs_background": "light"
     },
     "output_type": "display_data"
    }
   ],
   "source": [
    "import seaborn as sns\n",
    "sns.regplot(\"places_acc_par_nais\", \"nais_par_femmes\", df_dep,  robust=True)"
   ]
  },
  {
   "cell_type": "code",
   "execution_count": 367,
   "metadata": {},
   "outputs": [
    {
     "data": {
      "text/html": [
       "<div>\n",
       "<style scoped>\n",
       "    .dataframe tbody tr th:only-of-type {\n",
       "        vertical-align: middle;\n",
       "    }\n",
       "\n",
       "    .dataframe tbody tr th {\n",
       "        vertical-align: top;\n",
       "    }\n",
       "\n",
       "    .dataframe thead th {\n",
       "        text-align: right;\n",
       "    }\n",
       "</style>\n",
       "<table border=\"1\" class=\"dataframe\">\n",
       "  <thead>\n",
       "    <tr style=\"text-align: right;\">\n",
       "      <th></th>\n",
       "      <th>POND</th>\n",
       "      <th>naissances</th>\n",
       "    </tr>\n",
       "  </thead>\n",
       "  <tbody>\n",
       "    <tr>\n",
       "      <th>01</th>\n",
       "      <td>95451.241354</td>\n",
       "      <td>3722</td>\n",
       "    </tr>\n",
       "    <tr>\n",
       "      <th>02</th>\n",
       "      <td>191031.284592</td>\n",
       "      <td>5183</td>\n",
       "    </tr>\n",
       "    <tr>\n",
       "      <th>03</th>\n",
       "      <td>109282.168185</td>\n",
       "      <td>3136</td>\n",
       "    </tr>\n",
       "    <tr>\n",
       "      <th>04</th>\n",
       "      <td>27677.748620</td>\n",
       "      <td>1134</td>\n",
       "    </tr>\n",
       "    <tr>\n",
       "      <th>05</th>\n",
       "      <td>31987.138071</td>\n",
       "      <td>1305</td>\n",
       "    </tr>\n",
       "    <tr>\n",
       "      <th>...</th>\n",
       "      <td>...</td>\n",
       "      <td>...</td>\n",
       "    </tr>\n",
       "    <tr>\n",
       "      <th>971</th>\n",
       "      <td>145448.414757</td>\n",
       "      <td>4175</td>\n",
       "    </tr>\n",
       "    <tr>\n",
       "      <th>972</th>\n",
       "      <td>139131.337353</td>\n",
       "      <td>3670</td>\n",
       "    </tr>\n",
       "    <tr>\n",
       "      <th>973</th>\n",
       "      <td>62238.866572</td>\n",
       "      <td>8079</td>\n",
       "    </tr>\n",
       "    <tr>\n",
       "      <th>974</th>\n",
       "      <td>294284.032814</td>\n",
       "      <td>13912</td>\n",
       "    </tr>\n",
       "    <tr>\n",
       "      <th>976</th>\n",
       "      <td>21994.646460</td>\n",
       "      <td>9475</td>\n",
       "    </tr>\n",
       "  </tbody>\n",
       "</table>\n",
       "<p>101 rows × 2 columns</p>\n",
       "</div>"
      ],
      "text/plain": [
       "              POND  naissances\n",
       "01    95451.241354        3722\n",
       "02   191031.284592        5183\n",
       "03   109282.168185        3136\n",
       "04    27677.748620        1134\n",
       "05    31987.138071        1305\n",
       "..             ...         ...\n",
       "971  145448.414757        4175\n",
       "972  139131.337353        3670\n",
       "973   62238.866572        8079\n",
       "974  294284.032814       13912\n",
       "976   21994.646460        9475\n",
       "\n",
       "[101 rows x 2 columns]"
      ]
     },
     "execution_count": 367,
     "metadata": {},
     "output_type": "execute_result"
    }
   ],
   "source": [
    "pd.merge(df_nb_f_fertile_by_dep, df_nb_nais_by_dep,left_index=True, right_index=True)"
   ]
  },
  {
   "cell_type": "code",
   "execution_count": 368,
   "metadata": {},
   "outputs": [
    {
     "data": {
      "text/plain": [
       "Index(['01', '02', '03', '04', '05', '06', '07', '08', '09', '10',\n",
       "       ...\n",
       "       '971', '972', '973', '974', '975', '976', '977', '978', '99', '9Y'],\n",
       "      dtype='object', name='DEP_NAIS', length=106)"
      ]
     },
     "execution_count": 368,
     "metadata": {},
     "output_type": "execute_result"
    }
   ],
   "source": [
    "df_nb_f_fertile_by_dep.index"
   ]
  },
  {
   "cell_type": "code",
   "execution_count": 369,
   "metadata": {},
   "outputs": [
    {
     "data": {
      "text/plain": [
       "DÉPARTEMENTS\n",
       "01     125.0\n",
       "02      75.0\n",
       "03      47.0\n",
       "04      49.0\n",
       "05      43.0\n",
       "       ...  \n",
       "95     250.0\n",
       "971     86.0\n",
       "972    100.0\n",
       "973     36.0\n",
       "974    318.0\n",
       "Name: tot_mono_multi_acceuil, Length: 100, dtype: float64"
      ]
     },
     "execution_count": 369,
     "metadata": {},
     "output_type": "execute_result"
    }
   ],
   "source": [
    "df_garde_enf_2018.set_index(\"DÉPARTEMENTS\").tot_mono_multi_acceuil"
   ]
  },
  {
   "cell_type": "code",
   "execution_count": 370,
   "metadata": {},
   "outputs": [
    {
     "data": {
      "text/plain": [
       "DEP_NAIS\n",
       "01     9.545124e+04\n",
       "02     1.910313e+05\n",
       "03     1.092822e+05\n",
       "04     2.767775e+04\n",
       "05     3.198714e+04\n",
       "           ...     \n",
       "976    2.199465e+04\n",
       "977    8.214867e+01\n",
       "978    1.757021e+03\n",
       "99     2.956655e+06\n",
       "9Y     2.060687e+04\n",
       "Name: POND, Length: 106, dtype: float64"
      ]
     },
     "execution_count": 370,
     "metadata": {},
     "output_type": "execute_result"
    }
   ],
   "source": [
    "df_nb_f_fertile_by_dep"
   ]
  },
  {
   "cell_type": "code",
   "execution_count": 371,
   "metadata": {},
   "outputs": [
    {
     "data": {
      "text/plain": [
       "Index(['01', '02', '03', '04', '05', '06', '07', '08', '09', '10',\n",
       "       ...\n",
       "       '971', '972', '973', '974', '975', '976', '977', '978', '99', '9Y'],\n",
       "      dtype='object', name='DEP_NAIS', length=106)"
      ]
     },
     "execution_count": 371,
     "metadata": {},
     "output_type": "execute_result"
    }
   ],
   "source": [
    "df_nb_f_fertile_by_dep.index"
   ]
  },
  {
   "cell_type": "code",
   "execution_count": null,
   "metadata": {},
   "outputs": [],
   "source": []
  },
  {
   "cell_type": "code",
   "execution_count": null,
   "metadata": {},
   "outputs": [],
   "source": []
  },
  {
   "cell_type": "code",
   "execution_count": null,
   "metadata": {},
   "outputs": [],
   "source": []
  },
  {
   "cell_type": "code",
   "execution_count": null,
   "metadata": {},
   "outputs": [],
   "source": []
  },
  {
   "cell_type": "code",
   "execution_count": null,
   "metadata": {},
   "outputs": [],
   "source": []
  },
  {
   "cell_type": "markdown",
   "metadata": {},
   "source": [
    "# Nowcasting des naissances avec google trends (poussettes, cèche, materninté, etc )"
   ]
  },
  {
   "cell_type": "code",
   "execution_count": null,
   "metadata": {},
   "outputs": [],
   "source": [
    "!pip install pytrends"
   ]
  },
  {
   "cell_type": "code",
   "execution_count": 1,
   "metadata": {},
   "outputs": [],
   "source": [
    "from pytrends.request import TrendReq\n",
    "\n",
    "pytrends = TrendReq(hl='fr-FR', tz=360)"
   ]
  },
  {
   "cell_type": "code",
   "execution_count": 2,
   "metadata": {},
   "outputs": [],
   "source": [
    "from pytrends.request import TrendReq\n",
    "pytrend = TrendReq()"
   ]
  },
  {
   "cell_type": "code",
   "execution_count": 3,
   "metadata": {},
   "outputs": [],
   "source": [
    "pytrend.build_payload(kw_list=[\"Poussette\", \"couches\", \"césarienne\"])\n",
    "# Interest by Region\n",
    "df = pytrend.interest_by_region(geo='FR')\n",
    "#df.sort_values(\"Taylor Swift\", ascending = False).head(20)"
   ]
  },
  {
   "cell_type": "code",
   "execution_count": 4,
   "metadata": {},
   "outputs": [
    {
     "data": {
      "text/plain": [
       "Poussette     78\n",
       "couches       19\n",
       "césarienne     3\n",
       "Name: France, dtype: int64"
      ]
     },
     "execution_count": 4,
     "metadata": {},
     "output_type": "execute_result"
    }
   ],
   "source": [
    "df.loc[\"France\"]"
   ]
  },
  {
   "cell_type": "code",
   "execution_count": 51,
   "metadata": {},
   "outputs": [
    {
     "data": {
      "text/html": [
       "<div>\n",
       "<style scoped>\n",
       "    .dataframe tbody tr th:only-of-type {\n",
       "        vertical-align: middle;\n",
       "    }\n",
       "\n",
       "    .dataframe tbody tr th {\n",
       "        vertical-align: top;\n",
       "    }\n",
       "\n",
       "    .dataframe thead th {\n",
       "        text-align: right;\n",
       "    }\n",
       "</style>\n",
       "<table border=\"1\" class=\"dataframe\">\n",
       "  <thead>\n",
       "    <tr style=\"text-align: right;\">\n",
       "      <th></th>\n",
       "      <th>vodka</th>\n",
       "      <th>isPartial</th>\n",
       "    </tr>\n",
       "    <tr>\n",
       "      <th>date</th>\n",
       "      <th></th>\n",
       "      <th></th>\n",
       "    </tr>\n",
       "  </thead>\n",
       "  <tbody>\n",
       "    <tr>\n",
       "      <th>2007-01-01</th>\n",
       "      <td>37</td>\n",
       "      <td>False</td>\n",
       "    </tr>\n",
       "    <tr>\n",
       "      <th>2007-02-01</th>\n",
       "      <td>35</td>\n",
       "      <td>False</td>\n",
       "    </tr>\n",
       "    <tr>\n",
       "      <th>2007-03-01</th>\n",
       "      <td>37</td>\n",
       "      <td>False</td>\n",
       "    </tr>\n",
       "    <tr>\n",
       "      <th>2007-04-01</th>\n",
       "      <td>37</td>\n",
       "      <td>False</td>\n",
       "    </tr>\n",
       "    <tr>\n",
       "      <th>2007-05-01</th>\n",
       "      <td>31</td>\n",
       "      <td>False</td>\n",
       "    </tr>\n",
       "    <tr>\n",
       "      <th>...</th>\n",
       "      <td>...</td>\n",
       "      <td>...</td>\n",
       "    </tr>\n",
       "    <tr>\n",
       "      <th>2018-09-01</th>\n",
       "      <td>57</td>\n",
       "      <td>False</td>\n",
       "    </tr>\n",
       "    <tr>\n",
       "      <th>2018-10-01</th>\n",
       "      <td>59</td>\n",
       "      <td>False</td>\n",
       "    </tr>\n",
       "    <tr>\n",
       "      <th>2018-11-01</th>\n",
       "      <td>56</td>\n",
       "      <td>False</td>\n",
       "    </tr>\n",
       "    <tr>\n",
       "      <th>2018-12-01</th>\n",
       "      <td>91</td>\n",
       "      <td>False</td>\n",
       "    </tr>\n",
       "    <tr>\n",
       "      <th>2019-01-01</th>\n",
       "      <td>59</td>\n",
       "      <td>False</td>\n",
       "    </tr>\n",
       "  </tbody>\n",
       "</table>\n",
       "<p>145 rows × 2 columns</p>\n",
       "</div>"
      ],
      "text/plain": [
       "            vodka  isPartial\n",
       "date                        \n",
       "2007-01-01     37      False\n",
       "2007-02-01     35      False\n",
       "2007-03-01     37      False\n",
       "2007-04-01     37      False\n",
       "2007-05-01     31      False\n",
       "...           ...        ...\n",
       "2018-09-01     57      False\n",
       "2018-10-01     59      False\n",
       "2018-11-01     56      False\n",
       "2018-12-01     91      False\n",
       "2019-01-01     59      False\n",
       "\n",
       "[145 rows x 2 columns]"
      ]
     },
     "execution_count": 51,
     "metadata": {},
     "output_type": "execute_result"
    }
   ],
   "source": [
    "kw_list = [ \"vodka\"]\n",
    "pytrend.build_payload(kw_list=kw_list, geo='FR', timeframe = '2006-12-31 2019-01-25')\n",
    "interest_over_time_vodka = pytrend.interest_over_time()\n",
    "interest_over_time_df"
   ]
  },
  {
   "cell_type": "code",
   "execution_count": 62,
   "metadata": {},
   "outputs": [
    {
     "data": {
      "text/html": [
       "<div>\n",
       "<style scoped>\n",
       "    .dataframe tbody tr th:only-of-type {\n",
       "        vertical-align: middle;\n",
       "    }\n",
       "\n",
       "    .dataframe tbody tr th {\n",
       "        vertical-align: top;\n",
       "    }\n",
       "\n",
       "    .dataframe thead th {\n",
       "        text-align: right;\n",
       "    }\n",
       "</style>\n",
       "<table border=\"1\" class=\"dataframe\">\n",
       "  <thead>\n",
       "    <tr style=\"text-align: right;\">\n",
       "      <th></th>\n",
       "      <th>césarienne</th>\n",
       "      <th>isPartial</th>\n",
       "    </tr>\n",
       "    <tr>\n",
       "      <th>date</th>\n",
       "      <th></th>\n",
       "      <th></th>\n",
       "    </tr>\n",
       "  </thead>\n",
       "  <tbody>\n",
       "    <tr>\n",
       "      <th>2007-01-01</th>\n",
       "      <td>29</td>\n",
       "      <td>False</td>\n",
       "    </tr>\n",
       "    <tr>\n",
       "      <th>2007-02-01</th>\n",
       "      <td>50</td>\n",
       "      <td>False</td>\n",
       "    </tr>\n",
       "    <tr>\n",
       "      <th>2007-03-01</th>\n",
       "      <td>36</td>\n",
       "      <td>False</td>\n",
       "    </tr>\n",
       "    <tr>\n",
       "      <th>2007-04-01</th>\n",
       "      <td>43</td>\n",
       "      <td>False</td>\n",
       "    </tr>\n",
       "    <tr>\n",
       "      <th>2007-05-01</th>\n",
       "      <td>36</td>\n",
       "      <td>False</td>\n",
       "    </tr>\n",
       "    <tr>\n",
       "      <th>...</th>\n",
       "      <td>...</td>\n",
       "      <td>...</td>\n",
       "    </tr>\n",
       "    <tr>\n",
       "      <th>2018-09-01</th>\n",
       "      <td>75</td>\n",
       "      <td>False</td>\n",
       "    </tr>\n",
       "    <tr>\n",
       "      <th>2018-10-01</th>\n",
       "      <td>60</td>\n",
       "      <td>False</td>\n",
       "    </tr>\n",
       "    <tr>\n",
       "      <th>2018-11-01</th>\n",
       "      <td>63</td>\n",
       "      <td>False</td>\n",
       "    </tr>\n",
       "    <tr>\n",
       "      <th>2018-12-01</th>\n",
       "      <td>67</td>\n",
       "      <td>False</td>\n",
       "    </tr>\n",
       "    <tr>\n",
       "      <th>2019-01-01</th>\n",
       "      <td>65</td>\n",
       "      <td>False</td>\n",
       "    </tr>\n",
       "  </tbody>\n",
       "</table>\n",
       "<p>145 rows × 2 columns</p>\n",
       "</div>"
      ],
      "text/plain": [
       "            césarienne  isPartial\n",
       "date                             \n",
       "2007-01-01          29      False\n",
       "2007-02-01          50      False\n",
       "2007-03-01          36      False\n",
       "2007-04-01          43      False\n",
       "2007-05-01          36      False\n",
       "...                ...        ...\n",
       "2018-09-01          75      False\n",
       "2018-10-01          60      False\n",
       "2018-11-01          63      False\n",
       "2018-12-01          67      False\n",
       "2019-01-01          65      False\n",
       "\n",
       "[145 rows x 2 columns]"
      ]
     },
     "execution_count": 62,
     "metadata": {},
     "output_type": "execute_result"
    }
   ],
   "source": [
    "kw_list = [\"césarienne\" ]\n",
    "pytrend.build_payload(kw_list=kw_list, geo='FR', timeframe = '2006-12-31 2019-01-25')\n",
    "interest_over_time_df = pytrend.interest_over_time()\n",
    "interest_over_time_df\n"
   ]
  },
  {
   "cell_type": "code",
   "execution_count": 60,
   "metadata": {},
   "outputs": [
    {
     "data": {
      "text/plain": [
       "<matplotlib.axes._subplots.AxesSubplot at 0x125726a30>"
      ]
     },
     "execution_count": 60,
     "metadata": {},
     "output_type": "execute_result"
    },
    {
     "data": {
      "image/png": "[encoded data removed]",
      "text/plain": [
       "<Figure size 432x288 with 1 Axes>"
      ]
     },
     "metadata": {
      "needs_background": "light"
     },
     "output_type": "display_data"
    }
   ],
   "source": [
    "interest_over_time_df.plot()"
   ]
  },
  {
   "cell_type": "code",
   "execution_count": 92,
   "metadata": {},
   "outputs": [
    {
     "data": {
      "application/javascript": [
       "\n",
       "        if (window._pyforest_update_imports_cell) { window._pyforest_update_imports_cell('import pandas as pd\\nimport matplotlib.pyplot as plt'); }\n",
       "    "
      ],
      "text/plain": [
       "<IPython.core.display.Javascript object>"
      ]
     },
     "metadata": {},
     "output_type": "display_data"
    }
   ],
   "source": [
    "nais_by_year.index = pd.to_datetime(nais_by_year.index, format='%Y')"
   ]
  },
  {
   "cell_type": "code",
   "execution_count": 89,
   "metadata": {},
   "outputs": [
    {
     "data": {
      "application/javascript": [
       "\n",
       "        if (window._pyforest_update_imports_cell) { window._pyforest_update_imports_cell('import pandas as pd\\nimport matplotlib.pyplot as plt'); }\n",
       "    "
      ],
      "text/plain": [
       "<IPython.core.display.Javascript object>"
      ]
     },
     "metadata": {},
     "output_type": "display_data"
    },
    {
     "data": {
      "text/plain": [
       "Timestamp('1970-01-01 00:00:00.000002009')"
      ]
     },
     "execution_count": 89,
     "metadata": {},
     "output_type": "execute_result"
    }
   ],
   "source": [
    "pd.to_datetime(2009)"
   ]
  },
  {
   "cell_type": "code",
   "execution_count": 85,
   "metadata": {},
   "outputs": [
    {
     "data": {
      "text/html": [
       "<div>\n",
       "<style scoped>\n",
       "    .dataframe tbody tr th:only-of-type {\n",
       "        vertical-align: middle;\n",
       "    }\n",
       "\n",
       "    .dataframe tbody tr th {\n",
       "        vertical-align: top;\n",
       "    }\n",
       "\n",
       "    .dataframe thead th {\n",
       "        text-align: right;\n",
       "    }\n",
       "</style>\n",
       "<table border=\"1\" class=\"dataframe\">\n",
       "  <thead>\n",
       "    <tr style=\"text-align: right;\">\n",
       "      <th></th>\n",
       "      <th>césarienne</th>\n",
       "      <th>isPartial</th>\n",
       "    </tr>\n",
       "    <tr>\n",
       "      <th>date</th>\n",
       "      <th></th>\n",
       "      <th></th>\n",
       "    </tr>\n",
       "  </thead>\n",
       "  <tbody>\n",
       "    <tr>\n",
       "      <th>2007-01-01</th>\n",
       "      <td>29</td>\n",
       "      <td>False</td>\n",
       "    </tr>\n",
       "    <tr>\n",
       "      <th>2007-02-01</th>\n",
       "      <td>50</td>\n",
       "      <td>False</td>\n",
       "    </tr>\n",
       "    <tr>\n",
       "      <th>2007-03-01</th>\n",
       "      <td>36</td>\n",
       "      <td>False</td>\n",
       "    </tr>\n",
       "    <tr>\n",
       "      <th>2007-04-01</th>\n",
       "      <td>43</td>\n",
       "      <td>False</td>\n",
       "    </tr>\n",
       "    <tr>\n",
       "      <th>2007-05-01</th>\n",
       "      <td>36</td>\n",
       "      <td>False</td>\n",
       "    </tr>\n",
       "    <tr>\n",
       "      <th>...</th>\n",
       "      <td>...</td>\n",
       "      <td>...</td>\n",
       "    </tr>\n",
       "    <tr>\n",
       "      <th>2018-09-01</th>\n",
       "      <td>75</td>\n",
       "      <td>False</td>\n",
       "    </tr>\n",
       "    <tr>\n",
       "      <th>2018-10-01</th>\n",
       "      <td>60</td>\n",
       "      <td>False</td>\n",
       "    </tr>\n",
       "    <tr>\n",
       "      <th>2018-11-01</th>\n",
       "      <td>63</td>\n",
       "      <td>False</td>\n",
       "    </tr>\n",
       "    <tr>\n",
       "      <th>2018-12-01</th>\n",
       "      <td>67</td>\n",
       "      <td>False</td>\n",
       "    </tr>\n",
       "    <tr>\n",
       "      <th>2019-01-01</th>\n",
       "      <td>65</td>\n",
       "      <td>False</td>\n",
       "    </tr>\n",
       "  </tbody>\n",
       "</table>\n",
       "<p>145 rows × 2 columns</p>\n",
       "</div>"
      ],
      "text/plain": [
       "            césarienne  isPartial\n",
       "date                             \n",
       "2007-01-01          29      False\n",
       "2007-02-01          50      False\n",
       "2007-03-01          36      False\n",
       "2007-04-01          43      False\n",
       "2007-05-01          36      False\n",
       "...                ...        ...\n",
       "2018-09-01          75      False\n",
       "2018-10-01          60      False\n",
       "2018-11-01          63      False\n",
       "2018-12-01          67      False\n",
       "2019-01-01          65      False\n",
       "\n",
       "[145 rows x 2 columns]"
      ]
     },
     "execution_count": 85,
     "metadata": {},
     "output_type": "execute_result"
    }
   ],
   "source": [
    "interest_over_time_df"
   ]
  },
  {
   "cell_type": "code",
   "execution_count": 98,
   "metadata": {},
   "outputs": [
    {
     "data": {
      "text/plain": [
       "2009-01-01    1.000000\n",
       "2010-01-01    1.010691\n",
       "2011-01-01    0.998232\n",
       "2012-01-01    0.995194\n",
       "2013-01-01    0.983753\n",
       "2014-01-01    0.983738\n",
       "2015-01-01    0.957321\n",
       "2016-01-01    0.937554\n",
       "2017-01-01    0.920174\n",
       "2018-01-01    0.906297\n",
       "dtype: float64"
      ]
     },
     "execution_count": 98,
     "metadata": {},
     "output_type": "execute_result"
    }
   ],
   "source": [
    "nais_by_year/nais_by_year.iloc[0]"
   ]
  },
  {
   "cell_type": "code",
   "execution_count": 103,
   "metadata": {},
   "outputs": [
    {
     "data": {
      "text/plain": [
       "<matplotlib.axes._subplots.AxesSubplot at 0x12eb8cbe0>"
      ]
     },
     "execution_count": 103,
     "metadata": {},
     "output_type": "execute_result"
    },
    {
     "data": {
      "image/png": "[encoded data removed]",
      "text/plain": [
       "<Figure size 432x288 with 1 Axes>"
      ]
     },
     "metadata": {
      "needs_background": "light"
     },
     "output_type": "display_data"
    }
   ],
   "source": [
    "interest_over_time_df[\"césarienne\"].ewm(span = 40).mean().plot()\n",
    "(70*(nais_by_year/nais_by_year.iloc[9])).plot()"
   ]
  },
  {
   "cell_type": "code",
   "execution_count": 104,
   "metadata": {},
   "outputs": [
    {
     "data": {
      "text/plain": [
       "[{'mid': '/m/05_5p_d', 'title': 'Maternity hospital', 'type': 'Topic'},\n",
       " {'mid': '/g/11c2qt3p0w',\n",
       "  'title': 'Lucky Boy',\n",
       "  'type': 'Novel by Shanthi Sekaran'},\n",
       " {'mid': '/m/0100hrm0', 'title': 'Thyme Maternity', 'type': 'Company'},\n",
       " {'mid': '/g/120x6kdy',\n",
       "  'title': 'Congé de maternité en France',\n",
       "  'type': 'Topic'}]"
      ]
     },
     "execution_count": 104,
     "metadata": {},
     "output_type": "execute_result"
    }
   ],
   "source": [
    "pytrend.suggestions(keyword='maternité')"
   ]
  },
  {
   "cell_type": "code",
   "execution_count": 56,
   "metadata": {},
   "outputs": [
    {
     "data": {
      "text/plain": [
       "<matplotlib.axes._subplots.AxesSubplot at 0x125703250>"
      ]
     },
     "execution_count": 56,
     "metadata": {},
     "output_type": "execute_result"
    },
    {
     "data": {
      "image/png": "[encoded data removed]",
      "text/plain": [
       "<Figure size 432x288 with 1 Axes>"
      ]
     },
     "metadata": {
      "needs_background": "light"
     },
     "output_type": "display_data"
    }
   ],
   "source": [
    "interest_over_time_vodka[[ 'vodka']].ewm(span = 90).mean().plot()"
   ]
  },
  {
   "cell_type": "code",
   "execution_count": 57,
   "metadata": {},
   "outputs": [
    {
     "ename": "KeyboardInterrupt",
     "evalue": "",
     "output_type": "error",
     "traceback": [
      "\u001b[0;31m---------------------------------------------------------------------------\u001b[0m",
      "\u001b[0;31mKeyboardInterrupt\u001b[0m                         Traceback (most recent call last)",
      "\u001b[0;32m<ipython-input-57-d2a0c0dd0ce8>\u001b[0m in \u001b[0;36m<module>\u001b[0;34m\u001b[0m\n\u001b[1;32m      1\u001b[0m \u001b[0mkw_list\u001b[0m \u001b[0;34m=\u001b[0m \u001b[0;34m[\u001b[0m\u001b[0;34m\"Poussette\"\u001b[0m\u001b[0;34m,\u001b[0m \u001b[0;34m\"couches\"\u001b[0m\u001b[0;34m,\u001b[0m \u001b[0;34m\"césarienne\"\u001b[0m\u001b[0;34m,\u001b[0m \u001b[0;34m\"maternité\"\u001b[0m\u001b[0;34m]\u001b[0m\u001b[0;34m\u001b[0m\u001b[0;34m\u001b[0m\u001b[0m\n\u001b[0;32m----> 2\u001b[0;31m \u001b[0mdf_trend\u001b[0m \u001b[0;34m=\u001b[0m \u001b[0mpytrends\u001b[0m\u001b[0;34m.\u001b[0m\u001b[0mget_historical_interest\u001b[0m\u001b[0;34m(\u001b[0m\u001b[0mkw_list\u001b[0m\u001b[0;34m,\u001b[0m \u001b[0myear_start\u001b[0m\u001b[0;34m=\u001b[0m\u001b[0;36m2011\u001b[0m\u001b[0;34m,\u001b[0m \u001b[0mmonth_start\u001b[0m\u001b[0;34m=\u001b[0m\u001b[0;36m1\u001b[0m\u001b[0;34m,\u001b[0m \u001b[0mday_start\u001b[0m\u001b[0;34m=\u001b[0m\u001b[0;36m1\u001b[0m\u001b[0;34m,\u001b[0m \u001b[0mhour_start\u001b[0m\u001b[0;34m=\u001b[0m\u001b[0;36m0\u001b[0m\u001b[0;34m,\u001b[0m \u001b[0myear_end\u001b[0m\u001b[0;34m=\u001b[0m\u001b[0;36m2018\u001b[0m\u001b[0;34m,\u001b[0m \u001b[0mmonth_end\u001b[0m\u001b[0;34m=\u001b[0m\u001b[0;36m2\u001b[0m\u001b[0;34m,\u001b[0m \u001b[0mday_end\u001b[0m\u001b[0;34m=\u001b[0m\u001b[0;36m1\u001b[0m\u001b[0;34m,\u001b[0m \u001b[0mhour_end\u001b[0m\u001b[0;34m=\u001b[0m\u001b[0;36m0\u001b[0m\u001b[0;34m,\u001b[0m \u001b[0mcat\u001b[0m\u001b[0;34m=\u001b[0m\u001b[0;36m0\u001b[0m\u001b[0;34m,\u001b[0m \u001b[0mgeo\u001b[0m\u001b[0;34m=\u001b[0m\u001b[0;34m'FR'\u001b[0m\u001b[0;34m,\u001b[0m \u001b[0mgprop\u001b[0m\u001b[0;34m=\u001b[0m\u001b[0;34m''\u001b[0m\u001b[0;34m,\u001b[0m \u001b[0msleep\u001b[0m\u001b[0;34m=\u001b[0m\u001b[0;36m60\u001b[0m\u001b[0;34m)\u001b[0m\u001b[0;34m\u001b[0m\u001b[0;34m\u001b[0m\u001b[0m\n\u001b[0m",
      "\u001b[0;32m~/Library/Caches/pypoetry/virtualenvs/fertility-freely-available-data-sources-Ebk-O8z8-py3.8/lib/python3.8/site-packages/pytrends/request.py\u001b[0m in \u001b[0;36mget_historical_interest\u001b[0;34m(self, keywords, year_start, month_start, day_start, hour_start, year_end, month_end, day_end, hour_end, cat, geo, gprop, sleep)\u001b[0m\n\u001b[1;32m    531\u001b[0m             \u001b[0;31m# just in case you are rate-limited by Google. Recommended is 60 if you are.\u001b[0m\u001b[0;34m\u001b[0m\u001b[0;34m\u001b[0m\u001b[0;34m\u001b[0m\u001b[0m\n\u001b[1;32m    532\u001b[0m             \u001b[0;32mif\u001b[0m \u001b[0msleep\u001b[0m \u001b[0;34m>\u001b[0m \u001b[0;36m0\u001b[0m\u001b[0;34m:\u001b[0m\u001b[0;34m\u001b[0m\u001b[0;34m\u001b[0m\u001b[0m\n\u001b[0;32m--> 533\u001b[0;31m                 \u001b[0mtime\u001b[0m\u001b[0;34m.\u001b[0m\u001b[0msleep\u001b[0m\u001b[0;34m(\u001b[0m\u001b[0msleep\u001b[0m\u001b[0;34m)\u001b[0m\u001b[0;34m\u001b[0m\u001b[0;34m\u001b[0m\u001b[0m\n\u001b[0m\u001b[1;32m    534\u001b[0m \u001b[0;34m\u001b[0m\u001b[0m\n\u001b[1;32m    535\u001b[0m         \u001b[0;31m# Return the dataframe with results from our timeframe\u001b[0m\u001b[0;34m\u001b[0m\u001b[0;34m\u001b[0m\u001b[0;34m\u001b[0m\u001b[0m\n",
      "\u001b[0;31mKeyboardInterrupt\u001b[0m: "
     ]
    }
   ],
   "source": [
    "kw_list = [\"Poussette\", \"couches\", \"césarienne\", \"maternité\"]\n",
    "df_trend = pytrends.get_historical_interest(kw_list, year_start=2011, month_start=1, day_start=1, hour_start=0, year_end=2018, month_end=2, day_end=1, hour_end=0, cat=0, geo='FR', gprop='', sleep=60)"
   ]
  },
  {
   "cell_type": "code",
   "execution_count": 388,
   "metadata": {},
   "outputs": [
    {
     "data": {
      "text/plain": [
       "<matplotlib.axes._subplots.AxesSubplot at 0x16d72cb20>"
      ]
     },
     "execution_count": 388,
     "metadata": {},
     "output_type": "execute_result"
    },
    {
     "data": {
      "image/png": "[encoded data removed]",
      "text/plain": [
       "<Figure size 432x288 with 1 Axes>"
      ]
     },
     "metadata": {
      "needs_background": "light"
     },
     "output_type": "display_data"
    }
   ],
   "source": [
    "df_trend.plot()"
   ]
  },
  {
   "cell_type": "code",
   "execution_count": 392,
   "metadata": {},
   "outputs": [
    {
     "data": {
      "text/plain": [
       "<matplotlib.axes._subplots.AxesSubplot at 0x13ee5c2b0>"
      ]
     },
     "execution_count": 392,
     "metadata": {},
     "output_type": "execute_result"
    },
    {
     "data": {
      "image/png": "[encoded data removed]",
      "text/plain": [
       "<Figure size 432x288 with 1 Axes>"
      ]
     },
     "metadata": {
      "needs_background": "light"
     },
     "output_type": "display_data"
    }
   ],
   "source": [
    "df_trend.ewm(span = 90).mean().plot()\n",
    "\n"
   ]
  },
  {
   "cell_type": "code",
   "execution_count": 395,
   "metadata": {},
   "outputs": [
    {
     "data": {
      "text/html": [
       "<div>\n",
       "<style scoped>\n",
       "    .dataframe tbody tr th:only-of-type {\n",
       "        vertical-align: middle;\n",
       "    }\n",
       "\n",
       "    .dataframe tbody tr th {\n",
       "        vertical-align: top;\n",
       "    }\n",
       "\n",
       "    .dataframe thead th {\n",
       "        text-align: right;\n",
       "    }\n",
       "</style>\n",
       "<table border=\"1\" class=\"dataframe\">\n",
       "  <thead>\n",
       "    <tr style=\"text-align: right;\">\n",
       "      <th></th>\n",
       "      <th>Poussette</th>\n",
       "      <th>couches</th>\n",
       "      <th>césarienne</th>\n",
       "      <th>isPartial</th>\n",
       "    </tr>\n",
       "    <tr>\n",
       "      <th>date</th>\n",
       "      <th></th>\n",
       "      <th></th>\n",
       "      <th></th>\n",
       "      <th></th>\n",
       "    </tr>\n",
       "  </thead>\n",
       "  <tbody>\n",
       "    <tr>\n",
       "      <th>2018-01-01 00:00:00</th>\n",
       "      <td>22</td>\n",
       "      <td>57</td>\n",
       "      <td>2</td>\n",
       "      <td>False</td>\n",
       "    </tr>\n",
       "    <tr>\n",
       "      <th>2018-01-01 01:00:00</th>\n",
       "      <td>15</td>\n",
       "      <td>63</td>\n",
       "      <td>2</td>\n",
       "      <td>False</td>\n",
       "    </tr>\n",
       "    <tr>\n",
       "      <th>2018-01-01 02:00:00</th>\n",
       "      <td>12</td>\n",
       "      <td>61</td>\n",
       "      <td>1</td>\n",
       "      <td>False</td>\n",
       "    </tr>\n",
       "    <tr>\n",
       "      <th>2018-01-01 03:00:00</th>\n",
       "      <td>8</td>\n",
       "      <td>60</td>\n",
       "      <td>1</td>\n",
       "      <td>False</td>\n",
       "    </tr>\n",
       "    <tr>\n",
       "      <th>2018-01-01 04:00:00</th>\n",
       "      <td>4</td>\n",
       "      <td>56</td>\n",
       "      <td>1</td>\n",
       "      <td>False</td>\n",
       "    </tr>\n",
       "    <tr>\n",
       "      <th>...</th>\n",
       "      <td>...</td>\n",
       "      <td>...</td>\n",
       "      <td>...</td>\n",
       "      <td>...</td>\n",
       "    </tr>\n",
       "    <tr>\n",
       "      <th>2018-01-31 20:00:00</th>\n",
       "      <td>37</td>\n",
       "      <td>34</td>\n",
       "      <td>2</td>\n",
       "      <td>False</td>\n",
       "    </tr>\n",
       "    <tr>\n",
       "      <th>2018-01-31 21:00:00</th>\n",
       "      <td>34</td>\n",
       "      <td>34</td>\n",
       "      <td>3</td>\n",
       "      <td>False</td>\n",
       "    </tr>\n",
       "    <tr>\n",
       "      <th>2018-01-31 22:00:00</th>\n",
       "      <td>23</td>\n",
       "      <td>30</td>\n",
       "      <td>2</td>\n",
       "      <td>False</td>\n",
       "    </tr>\n",
       "    <tr>\n",
       "      <th>2018-01-31 23:00:00</th>\n",
       "      <td>14</td>\n",
       "      <td>34</td>\n",
       "      <td>1</td>\n",
       "      <td>False</td>\n",
       "    </tr>\n",
       "    <tr>\n",
       "      <th>2018-02-01 00:00:00</th>\n",
       "      <td>9</td>\n",
       "      <td>34</td>\n",
       "      <td>1</td>\n",
       "      <td>False</td>\n",
       "    </tr>\n",
       "  </tbody>\n",
       "</table>\n",
       "<p>749 rows × 4 columns</p>\n",
       "</div>"
      ],
      "text/plain": [
       "                     Poussette  couches  césarienne  isPartial\n",
       "date                                                          \n",
       "2018-01-01 00:00:00         22       57           2      False\n",
       "2018-01-01 01:00:00         15       63           2      False\n",
       "2018-01-01 02:00:00         12       61           1      False\n",
       "2018-01-01 03:00:00          8       60           1      False\n",
       "2018-01-01 04:00:00          4       56           1      False\n",
       "...                        ...      ...         ...        ...\n",
       "2018-01-31 20:00:00         37       34           2      False\n",
       "2018-01-31 21:00:00         34       34           3      False\n",
       "2018-01-31 22:00:00         23       30           2      False\n",
       "2018-01-31 23:00:00         14       34           1      False\n",
       "2018-02-01 00:00:00          9       34           1      False\n",
       "\n",
       "[749 rows x 4 columns]"
      ]
     },
     "execution_count": 395,
     "metadata": {},
     "output_type": "execute_result"
    }
   ],
   "source": [
    "df_trend"
   ]
  },
  {
   "cell_type": "code",
   "execution_count": null,
   "metadata": {},
   "outputs": [],
   "source": []
  },
  {
   "cell_type": "code",
   "execution_count": null,
   "metadata": {},
   "outputs": [],
   "source": []
  },
  {
   "cell_type": "code",
   "execution_count": null,
   "metadata": {},
   "outputs": [],
   "source": []
  },
  {
   "cell_type": "code",
   "execution_count": null,
   "metadata": {},
   "outputs": [],
   "source": [
    "df_revenus.shape"
   ]
  },
  {
   "cell_type": "code",
   "execution_count": null,
   "metadata": {},
   "outputs": [],
   "source": [
    "df_naissances = pd.read_excel(\"/Users/adrienpacifico/Downloads/base_naissances_2017.xls\", header = 5)"
   ]
  },
  {
   "cell_type": "code",
   "execution_count": null,
   "metadata": {},
   "outputs": [],
   "source": [
    "df_naissances.shape"
   ]
  },
  {
   "cell_type": "code",
   "execution_count": null,
   "metadata": {},
   "outputs": [],
   "source": [
    "df = pd.merge(df_revenus, df_naissances, on = [\"LIBGEO\", \"CODGEO\"], how = \"inner\")"
   ]
  },
  {
   "cell_type": "code",
   "execution_count": null,
   "metadata": {},
   "outputs": [],
   "source": [
    "df_revenus.columns"
   ]
  },
  {
   "cell_type": "code",
   "execution_count": null,
   "metadata": {},
   "outputs": [],
   "source": [
    "df.shape"
   ]
  },
  {
   "cell_type": "code",
   "execution_count": null,
   "metadata": {},
   "outputs": [],
   "source": [
    "df_naissances"
   ]
  },
  {
   "cell_type": "markdown",
   "metadata": {},
   "source": [
    "On a perdu 275 communes, si une belle âme veut bien chercher pourquoi."
   ]
  },
  {
   "cell_type": "markdown",
   "metadata": {},
   "source": [
    "#### On droppe les communes où le niveau de vie médian ou le nombre de naissance n'est pas renseigné."
   ]
  },
  {
   "cell_type": "code",
   "execution_count": null,
   "metadata": {},
   "outputs": [],
   "source": [
    "df.shape"
   ]
  },
  {
   "cell_type": "code",
   "execution_count": null,
   "metadata": {},
   "outputs": [],
   "source": [
    "missing_value = (df[[\"MED15\"]+[ \"NAISD{}\".format(str(year).zfill(2)) for year in range(8,18)]].isna().sum(axis = 1)).astype(\"bool\")\n",
    "df = df.loc[~missing_value]"
   ]
  },
  {
   "cell_type": "code",
   "execution_count": null,
   "metadata": {},
   "outputs": [],
   "source": [
    "df.shape"
   ]
  },
  {
   "cell_type": "code",
   "execution_count": null,
   "metadata": {},
   "outputs": [],
   "source": [
    "df[\"Quantile_income\"] = pd.qcut(df.MED15, 10, labels = False)"
   ]
  },
  {
   "cell_type": "code",
   "execution_count": null,
   "metadata": {},
   "outputs": [],
   "source": [
    " pd.qcut(df.MED15, 10).value_counts().sort_index()"
   ]
  },
  {
   "cell_type": "code",
   "execution_count": null,
   "metadata": {},
   "outputs": [],
   "source": [
    "df['Last_decile'] = df.Quantile_income == 9"
   ]
  },
  {
   "cell_type": "code",
   "execution_count": null,
   "metadata": {},
   "outputs": [],
   "source": [
    "df[\"Diff_in_fertility\"] = (\n",
    "                          df[[\"NAISD15\",\"NAISD16\",\"NAISD17\"]].mean(axis = 1)\n",
    "                        - df[[\"NAISD09\",\"NAISD10\",\"NAISD11\"]].mean(axis = 1)\n",
    ")"
   ]
  },
  {
   "cell_type": "code",
   "execution_count": null,
   "metadata": {},
   "outputs": [],
   "source": [
    "df[\"Diff_in_fertility\"] = (\n",
    "                          df[[\"NAISD17\"]].mean(axis = 1)\n",
    "                        - df[[\"NAISD14\"]].mean(axis = 1)\n",
    ")"
   ]
  },
  {
   "cell_type": "code",
   "execution_count": null,
   "metadata": {},
   "outputs": [],
   "source": [
    "df[\"Diff_in_fertility_growth\"] = (\n",
    "                      (   df[\"NAISD17\"]\n",
    "                        - df[\"NAISD14\"]\n",
    "                      )/(df[\"NAISD14\"])\n",
    ").replace([np.inf, -np.inf], np.nan)"
   ]
  },
  {
   "cell_type": "code",
   "execution_count": null,
   "metadata": {},
   "outputs": [],
   "source": [
    "#df.Diff_in_fertility_growth.replace([np.inf, -np.inf], np.nan).value_counts(dropna = False)"
   ]
  },
  {
   "cell_type": "code",
   "execution_count": null,
   "metadata": {},
   "outputs": [],
   "source": [
    "print(df.query(\"Quantile_income == 9\").Diff_in_fertility.mean())\n",
    "print(df.query(\"Quantile_income != 9\").Diff_in_fertility.mean())"
   ]
  },
  {
   "cell_type": "code",
   "execution_count": null,
   "metadata": {},
   "outputs": [],
   "source": [
    "print(df.query(\"Quantile_income == 9\").Diff_in_fertility_growth.mean())\n",
    "print(df.query(\"Quantile_income != 9\").Diff_in_fertility_growth.mean())"
   ]
  },
  {
   "cell_type": "code",
   "execution_count": null,
   "metadata": {},
   "outputs": [],
   "source": [
    "import matplotlib.pyplot as plt"
   ]
  },
  {
   "cell_type": "code",
   "execution_count": null,
   "metadata": {},
   "outputs": [],
   "source": [
    "df.groupby(\"Quantile_income\").Diff_in_fertility.mean()"
   ]
  },
  {
   "cell_type": "code",
   "execution_count": null,
   "metadata": {},
   "outputs": [],
   "source": [
    "plt.plot(df.groupby(\"Quantile_income\").Diff_in_fertility.mean()\n",
    "         /df.groupby(\"Quantile_income\").NAISD11.sum())"
   ]
  },
  {
   "cell_type": "code",
   "execution_count": null,
   "metadata": {},
   "outputs": [],
   "source": [
    "k = np.array([0,4,12,16,20,36])"
   ]
  },
  {
   "cell_type": "code",
   "execution_count": null,
   "metadata": {},
   "outputs": [],
   "source": [
    "y = k**(1/2)\n",
    "y"
   ]
  },
  {
   "cell_type": "code",
   "execution_count": null,
   "metadata": {},
   "outputs": [],
   "source": [
    "df.groupby(\"Quantile_income\").Diff_in_fertility_growth.mean().mean()"
   ]
  },
  {
   "cell_type": "code",
   "execution_count": null,
   "metadata": {},
   "outputs": [],
   "source": [
    "%matplotlib inline"
   ]
  },
  {
   "cell_type": "code",
   "execution_count": null,
   "metadata": {},
   "outputs": [],
   "source": [
    "!pip install statsmodels"
   ]
  },
  {
   "cell_type": "code",
   "execution_count": null,
   "metadata": {},
   "outputs": [],
   "source": [
    "import statsmodels.api as sm"
   ]
  },
  {
   "cell_type": "code",
   "execution_count": null,
   "metadata": {},
   "outputs": [],
   "source": []
  },
  {
   "cell_type": "code",
   "execution_count": null,
   "metadata": {},
   "outputs": [],
   "source": [
    "sm.stats.ztest(df.query(\"~Last_decile\").Diff_in_fertility,\n",
    "              df.query(\"~Last_decile\").Diff_in_fertility)"
   ]
  },
  {
   "cell_type": "markdown",
   "metadata": {},
   "source": [
    "Pas statistiquement différent."
   ]
  },
  {
   "cell_type": "code",
   "execution_count": null,
   "metadata": {},
   "outputs": [],
   "source": [
    "df[\"Diff_in_fertility\"] = (\n",
    "                          df[[\"NAISD17\"]].mean(axis = 1)\n",
    "                        - df[[\"NAISD09\",\"NAISD10\"]].mean(axis = 1)\n",
    ")"
   ]
  },
  {
   "cell_type": "code",
   "execution_count": null,
   "metadata": {},
   "outputs": [],
   "source": [
    "print(df.query(\"Quantile_income == 9\").Diff_in_fertility.mean())\n",
    "print(df.query(\"Quantile_income != 9\").Diff_in_fertility.mean())"
   ]
  },
  {
   "cell_type": "code",
   "execution_count": null,
   "metadata": {},
   "outputs": [],
   "source": [
    "sm.stats.ztest(df.query(\"Quantile_income == 9\").Diff_in_fertility,\n",
    "              df.query(\"Quantile_income != 9\").Diff_in_fertility)"
   ]
  },
  {
   "cell_type": "markdown",
   "metadata": {},
   "source": [
    "Pas statistiquement significatif."
   ]
  },
  {
   "cell_type": "markdown",
   "metadata": {},
   "source": [
    "Common trend assumption"
   ]
  },
  {
   "cell_type": "code",
   "execution_count": null,
   "metadata": {},
   "outputs": [],
   "source": [
    "df[\"Diff_in_fertility\"] = (\n",
    "                          df[[\"NAISD09\"]].mean(axis = 1)\n",
    "                        - df[[\"NAISD08\"]].mean(axis = 1)\n",
    ")\n",
    "print(df.query(\"Quantile_income == 9\").Diff_in_fertility.mean())\n",
    "print(df.query(\"Quantile_income != 9\").Diff_in_fertility.mean())\n",
    "\n",
    "sm.stats.ztest(df.query(\"Quantile_income == 9\").Diff_in_fertility,\n",
    "              df.query(\"Quantile_income != 9\").Diff_in_fertility)"
   ]
  },
  {
   "cell_type": "code",
   "execution_count": null,
   "metadata": {},
   "outputs": [],
   "source": [
    "df[\"Diff_in_fertility\"] = (\n",
    "                          df[[\"NAISD09\"]].mean(axis = 1)\n",
    "                        - df[[\"NAISD08\"]].mean(axis = 1)\n",
    ")\n",
    "print(df.query(\"Quantile_income == 9\").Diff_in_fertility.mean())\n",
    "print(df.query(\"Quantile_income != 9\").Diff_in_fertility.mean())\n",
    "\n",
    "sm.stats.ztest(df.query(\"Quantile_income == 9\").Diff_in_fertility,\n",
    "              df.query(\"Quantile_income != 9\").Diff_in_fertility)"
   ]
  },
  {
   "cell_type": "code",
   "execution_count": null,
   "metadata": {},
   "outputs": [],
   "source": [
    "df[\"Diff_in_fertility\"] = (\n",
    "                          df[[\"NAISD10\"]].mean(axis = 1)\n",
    "                        - df[[\"NAISD09\"]].mean(axis = 1)\n",
    ")\n",
    "print(df.query(\"Quantile_income == 9\").Diff_in_fertility.mean())\n",
    "print(df.query(\"Quantile_income != 9\").Diff_in_fertility.mean())\n",
    "\n",
    "sm.stats.ttest_ind(df.query(\"Quantile_income == 9\").Diff_in_fertility,\n",
    "              df.query(\"Quantile_income != 9\").Diff_in_fertility)"
   ]
  },
  {
   "cell_type": "code",
   "execution_count": null,
   "metadata": {},
   "outputs": [],
   "source": [
    "df[\"Diff_in_fertility\"] = (\n",
    "                          df[[\"NAISD11\"]].mean(axis = 1)\n",
    "                        - df[[\"NAISD10\"]].mean(axis = 1)\n",
    ")\n",
    "print(df.query(\"Quantile_income == 9\").Diff_in_fertility.mean())\n",
    "print(df.query(\"Quantile_income != 9\").Diff_in_fertility.mean())\n",
    "\n",
    "sm.stats.ttest_ind(df.query(\"Quantile_income == 9\").Diff_in_fertility,\n",
    "              df.query(\"Quantile_income != 9\").Diff_in_fertility)"
   ]
  },
  {
   "cell_type": "code",
   "execution_count": null,
   "metadata": {},
   "outputs": [],
   "source": []
  },
  {
   "cell_type": "code",
   "execution_count": null,
   "metadata": {},
   "outputs": [],
   "source": []
  },
  {
   "cell_type": "code",
   "execution_count": null,
   "metadata": {},
   "outputs": [],
   "source": [
    "!pip install simpledbf"
   ]
  },
  {
   "cell_type": "code",
   "execution_count": null,
   "metadata": {},
   "outputs": [],
   "source": []
  },
  {
   "cell_type": "code",
   "execution_count": null,
   "metadata": {},
   "outputs": [],
   "source": [
    "sm.stats.ztest(df.query(\"Quantile_income == 9\").Diff_in_fertility,\n",
    "              df.query(\"Quantile_income != 9\").Diff_in_fertility)"
   ]
  },
  {
   "cell_type": "code",
   "execution_count": null,
   "metadata": {},
   "outputs": [],
   "source": [
    "!pip install SQLalchemy"
   ]
  },
  {
   "cell_type": "code",
   "execution_count": null,
   "metadata": {},
   "outputs": [],
   "source": []
  },
  {
   "cell_type": "code",
   "execution_count": null,
   "metadata": {},
   "outputs": [],
   "source": [
    "df_naissances.columns"
   ]
  },
  {
   "cell_type": "code",
   "execution_count": null,
   "metadata": {},
   "outputs": [],
   "source": [
    "df_naissances.nbenf.value_counts(normalize = True)"
   ]
  },
  {
   "cell_type": "code",
   "execution_count": null,
   "metadata": {},
   "outputs": [],
   "source": [
    "1/df_naissances.nbenf.value_counts(normalize = True).iloc[2]"
   ]
  },
  {
   "cell_type": "code",
   "execution_count": null,
   "metadata": {},
   "outputs": [],
   "source": []
  },
  {
   "cell_type": "markdown",
   "metadata": {},
   "source": [
    "3,3% des enfants sont des jumeaux, 1 enfant sur 1564 est issu d'une portée de triplet, et 96% naissent sans jumeaux. "
   ]
  },
  {
   "cell_type": "code",
   "execution_count": null,
   "metadata": {},
   "outputs": [],
   "source": [
    "df_naissances.agemere.astype(\"int\").mean()"
   ]
  },
  {
   "cell_type": "code",
   "execution_count": null,
   "metadata": {},
   "outputs": [],
   "source": [
    "df_naissances.agepere.astype(\"int\").mean()"
   ]
  },
  {
   "cell_type": "code",
   "execution_count": null,
   "metadata": {},
   "outputs": [],
   "source": [
    "pd.DataFrame({\"age mère\":df_naissances.agemere.astype(\"int\").mean(),\n",
    "             \"age père\":df_naissances.agepere.astype(\"int\").mean()}, index = [\"moyenne\"])"
   ]
  },
  {
   "cell_type": "code",
   "execution_count": null,
   "metadata": {},
   "outputs": [],
   "source": [
    "df_naissances.agemere.value_counts(dropna = False)"
   ]
  },
  {
   "cell_type": "code",
   "execution_count": null,
   "metadata": {},
   "outputs": [],
   "source": [
    "df_naissances.amar.value_counts()"
   ]
  },
  {
   "cell_type": "code",
   "execution_count": null,
   "metadata": {},
   "outputs": [],
   "source": [
    "%%timeit\n",
    "df.reset_index().to_feather(\"to_trash_feather.fth\")"
   ]
  },
  {
   "cell_type": "code",
   "execution_count": null,
   "metadata": {},
   "outputs": [],
   "source": [
    "%%timeit\n",
    "df.reset_index().to_hdf(\"to_trash_hdf.h5\", \"hello\")"
   ]
  },
  {
   "cell_type": "code",
   "execution_count": null,
   "metadata": {},
   "outputs": [],
   "source": [
    "df"
   ]
  },
  {
   "cell_type": "code",
   "execution_count": null,
   "metadata": {},
   "outputs": [],
   "source": [
    "(28+22+12)/3"
   ]
  },
  {
   "cell_type": "code",
   "execution_count": null,
   "metadata": {},
   "outputs": [],
   "source": [
    "np.std([39,19,28])\n"
   ]
  },
  {
   "cell_type": "code",
   "execution_count": null,
   "metadata": {},
   "outputs": [],
   "source": [
    "a."
   ]
  },
  {
   "cell_type": "code",
   "execution_count": null,
   "metadata": {},
   "outputs": [],
   "source": [
    "a = df_c.T.groupby(level = 0).describe()"
   ]
  },
  {
   "cell_type": "code",
   "execution_count": null,
   "metadata": {},
   "outputs": [],
   "source": [
    "a.A[\"mean\"]"
   ]
  },
  {
   "cell_type": "code",
   "execution_count": null,
   "metadata": {},
   "outputs": [],
   "source": [
    "df_c.index"
   ]
  },
  {
   "cell_type": "code",
   "execution_count": null,
   "metadata": {},
   "outputs": [],
   "source": [
    "a = df_c.groupby(level = 0).describe(); a"
   ]
  },
  {
   "cell_type": "code",
   "execution_count": null,
   "metadata": {},
   "outputs": [],
   "source": [
    "a.loc[:,\"Age\"][\"mean\"]"
   ]
  },
  {
   "cell_type": "code",
   "execution_count": null,
   "metadata": {},
   "outputs": [],
   "source": [
    "describe = df.describe().loc[[\"mean\", \"std\"]].T"
   ]
  },
  {
   "cell_type": "code",
   "execution_count": null,
   "metadata": {},
   "outputs": [],
   "source": [
    "df.describe().loc[[\"mean\", \"std\"]].T.style.format({\"std\": \"({:.2f})\"})"
   ]
  },
  {
   "cell_type": "code",
   "execution_count": null,
   "metadata": {},
   "outputs": [],
   "source": [
    "describe.style.format()"
   ]
  },
  {
   "cell_type": "code",
   "execution_count": null,
   "metadata": {},
   "outputs": [],
   "source": [
    "new_df = pd.DataFrame()\n",
    "for var in df:\n",
    "    new_df.loc[var, \"\"] = describe.loc[var, \"mean\"]\n",
    "    new_df.loc[var+\"_std\", \"\"] = describe.loc[var, \"std\"]\n",
    "    "
   ]
  },
  {
   "cell_type": "code",
   "execution_count": null,
   "metadata": {},
   "outputs": [],
   "source": [
    "\"Income_std\"[-3:]"
   ]
  },
  {
   "cell_type": "code",
   "execution_count": null,
   "metadata": {},
   "outputs": [],
   "source": [
    "new_df.style.apply(parenthesis_for_std)"
   ]
  },
  {
   "cell_type": "code",
   "execution_count": null,
   "metadata": {},
   "outputs": [],
   "source": [
    "new_df.style()"
   ]
  },
  {
   "cell_type": "code",
   "execution_count": null,
   "metadata": {},
   "outputs": [],
   "source": [
    "new_df.style.apply()"
   ]
  },
  {
   "cell_type": "code",
   "execution_count": null,
   "metadata": {},
   "outputs": [],
   "source": [
    "def parenthesis_for_std(s):\n",
    "    is_std = s.index.str[-3:] == \"std\"\n",
    "    return ['({})' if v else '' for v in is_std]"
   ]
  },
  {
   "cell_type": "code",
   "execution_count": null,
   "metadata": {},
   "outputs": [],
   "source": [
    "s.index[:-3]"
   ]
  },
  {
   "cell_type": "code",
   "execution_count": null,
   "metadata": {},
   "outputs": [],
   "source": [
    "def highlight_max(s):\n",
    "    '''\n",
    "    highlight the maximum in a Series yellow.\n",
    "    '''\n",
    "    is_max = s == s.max()\n",
    "    return ['background-color: yellow' if v else '' for v in is_max]"
   ]
  },
  {
   "cell_type": "code",
   "execution_count": null,
   "metadata": {},
   "outputs": [],
   "source": [
    "new_df = pd.DataFrame()\n",
    "new_df.loc[var,\"\"] = 1\n",
    "new_df"
   ]
  },
  {
   "cell_type": "code",
   "execution_count": null,
   "metadata": {},
   "outputs": [],
   "source": []
  },
  {
   "cell_type": "code",
   "execution_count": null,
   "metadata": {},
   "outputs": [],
   "source": [
    "print(a.to_dense())\n"
   ]
  },
  {
   "cell_type": "code",
   "execution_count": null,
   "metadata": {},
   "outputs": [],
   "source": [
    "df.style.format({\"std\": \"({:.2%})\"})"
   ]
  },
  {
   "cell_type": "code",
   "execution_count": null,
   "metadata": {},
   "outputs": [],
   "source": [
    "df[\"String\"] = [\"A b\", \"C (d)\", \"A long line\", \"A line \\n break so long tgat hdlqfhkdlqjkfh\", \"42\"]"
   ]
  },
  {
   "cell_type": "code",
   "execution_count": null,
   "metadata": {},
   "outputs": [],
   "source": [
    "df.style"
   ]
  },
  {
   "cell_type": "code",
   "execution_count": null,
   "metadata": {},
   "outputs": [],
   "source": [
    "df.style.set_properties(**{'word-wrap': 'break-word'})"
   ]
  },
  {
   "cell_type": "code",
   "execution_count": null,
   "metadata": {},
   "outputs": [],
   "source": [
    "df.to_latex()"
   ]
  },
  {
   "cell_type": "code",
   "execution_count": null,
   "metadata": {},
   "outputs": [],
   "source": [
    "pd.MultiIndex.from_arrays(arrays, names=('number', 'color'))"
   ]
  },
  {
   "cell_type": "code",
   "execution_count": null,
   "metadata": {},
   "outputs": [],
   "source": []
  },
  {
   "cell_type": "code",
   "execution_count": null,
   "metadata": {},
   "outputs": [],
   "source": [
    "\n",
    "frame1 = pd.DataFrame({'supplier1_match0': ['x'], 'id': [1]})\n",
    "frame2 = pd.DataFrame({'supplier1_match0': ['2x'], 'id': [2]})"
   ]
  },
  {
   "cell_type": "code",
   "execution_count": null,
   "metadata": {},
   "outputs": [],
   "source": []
  },
  {
   "cell_type": "code",
   "execution_count": null,
   "metadata": {},
   "outputs": [],
   "source": []
  },
  {
   "cell_type": "code",
   "execution_count": null,
   "metadata": {},
   "outputs": [],
   "source": []
  },
  {
   "cell_type": "code",
   "execution_count": null,
   "metadata": {},
   "outputs": [],
   "source": []
  },
  {
   "cell_type": "code",
   "execution_count": null,
   "metadata": {},
   "outputs": [],
   "source": [
    "data_path = \"../fetched_data/\"\n",
    "df = pd.read_csv(data_path+'RP19682016.csv', sep = \";\")"
   ]
  },
  {
   "cell_type": "code",
   "execution_count": null,
   "metadata": {},
   "outputs": [],
   "source": [
    "df.info()"
   ]
  },
  {
   "cell_type": "code",
   "execution_count": null,
   "metadata": {},
   "outputs": [],
   "source": [
    "df_2016=df.query(\"AN_RECENS==2016\")"
   ]
  },
  {
   "cell_type": "code",
   "execution_count": null,
   "metadata": {},
   "outputs": [],
   "source": [
    "df_2016.POND.sum()"
   ]
  },
  {
   "cell_type": "code",
   "execution_count": null,
   "metadata": {},
   "outputs": [],
   "source": [
    "df_2016.POND.mean()"
   ]
  },
  {
   "cell_type": "code",
   "execution_count": null,
   "metadata": {},
   "outputs": [],
   "source": [
    "df_2016.AGE_REV.hist(bins=60)"
   ]
  },
  {
   "cell_type": "code",
   "execution_count": null,
   "metadata": {},
   "outputs": [],
   "source": [
    "df_2016.SEXE.plot(kind = \"bar\")"
   ]
  },
  {
   "cell_type": "code",
   "execution_count": null,
   "metadata": {},
   "outputs": [],
   "source": [
    "d_2016.value_counts()"
   ]
  },
  {
   "cell_type": "code",
   "execution_count": null,
   "metadata": {},
   "outputs": [],
   "source": []
  }
 ],
 "metadata": {
  "kernelspec": {
   "display_name": "Python 3",
   "language": "python",
   "name": "python3"
  },
  "language_info": {
   "codemirror_mode": {
    "name": "ipython",
    "version": 3
   },
   "file_extension": ".py",
   "mimetype": "text/x-python",
   "name": "python",
   "nbconvert_exporter": "python",
   "pygments_lexer": "ipython3",
   "version": "3.8.2"
  },
  "toc": {
   "base_numbering": 1,
   "nav_menu": {},
   "number_sections": true,
   "sideBar": true,
   "skip_h1_title": false,
   "title_cell": "Table of Contents",
   "title_sidebar": "Contents",
   "toc_cell": false,
   "toc_position": {},
   "toc_section_display": true,
   "toc_window_display": false
  },
  "varInspector": {
   "cols": {
    "lenName": 16,
    "lenType": 16,
    "lenVar": 40
   },
   "kernels_config": {
    "python": {
     "delete_cmd_postfix": "",
     "delete_cmd_prefix": "del ",
     "library": "var_list.py",
     "varRefreshCmd": "print(var_dic_list())"
    },
    "r": {
     "delete_cmd_postfix": ") ",
     "delete_cmd_prefix": "rm(",
     "library": "var_list.r",
     "varRefreshCmd": "cat(var_dic_list()) "
    }
   },
   "types_to_exclude": [
    "module",
    "function",
    "builtin_function_or_method",
    "instance",
    "_Feature"
   ],
   "window_display": false
  }
 },
 "nbformat": 4,
 "nbformat_minor": 4
}
